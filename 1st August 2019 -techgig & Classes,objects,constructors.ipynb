{
 "cells": [
  {
   "cell_type": "markdown",
   "metadata": {},
   "source": [
    "### Techgig  practised problems & Classes, methods, constructors ,objects"
   ]
  },
  {
   "cell_type": "code",
   "execution_count": null,
   "metadata": {},
   "outputs": [],
   "source": [
    "from math import sqrt\n",
    "\n",
    "class vector(object):\n",
    "    def __init__(self,coordinates):\n",
    "        try:\n",
    "            if not coordinates:\n",
    "                raise ValueError\n",
    "            self.coordinates=tuple(coordinates)\n",
    "            self.dimension=len(coordinates)            \n",
    "        except ValueError:\n",
    "            raise ValueError('The coordinates must be non empty')\n",
    "        except TypeError:\n",
    "            raise TypeError('The coordinates must be iterable')\n",
    "            \n",
    "    def magnitude(self):\n",
    "        coordinates_squared=[x**2 for x in self.coordinates]\n",
    "        return sqrt(sum(coordinates_squared))\n",
    "    \n",
    "    def normalized(self):\n",
    "        try:\n",
    "            magnitude=self.magnitude()\n",
    "            return self.times_scalar(1./magnitude)\n",
    "        except ZeroDivisionError:\n",
    "            raise Exception('cannot normalize the zero vector')\n",
    "        \n",
    "    def plus(self,v):\n",
    "        new_coordinates=[x+y for x,y in zip(self.coordinates,v.coordinates)]\n",
    "        return Vector(new_coordinates)\n",
    "    \n",
    "    def __eq__(self,v):\n",
    "        return self.coordinates==v.coordinates\n",
    "\n",
    "v=vector([-0.221,7.437])\n",
    "print(v.magnitude())\n",
    "\n",
    "v=vector([8.813,-1.331,-6.247])\n",
    "print(v.magnitude())\n",
    "\n",
    "v=vector([5.581,-2.136])\n",
    "print(v.normalized())\n",
    "\n",
    "v=vector([1.996,3.108,-4.554])\n",
    "print(v.normalized())\n",
    "\n"
   ]
  },
  {
   "cell_type": "code",
   "execution_count": 5,
   "metadata": {},
   "outputs": [
    {
     "name": "stdout",
     "output_type": "stream",
     "text": [
      "10\n",
      "0\n",
      "1\n",
      "1\n",
      "2\n",
      "3\n",
      "5\n",
      "8\n",
      "13\n",
      "21\n",
      "34\n"
     ]
    }
   ],
   "source": [
    "#print first 10 fibonacci numbers \n",
    "\n",
    "def main():\n",
    "    nterms=int(input())\n",
    "    a=0\n",
    "    b=1\n",
    "    count=1\n",
    "    if nterms==1:\n",
    "        print(a, end=\"\")\n",
    "    else:\n",
    "        while count<=nterms:\n",
    "            print(a)\n",
    "            c=a+b\n",
    "            a=b\n",
    "            b=c\n",
    "           # print(a,end=\"\")\n",
    "            count=count+1\n",
    " # Write code here \n",
    "\n",
    "main()\n",
    "\n"
   ]
  },
  {
   "cell_type": "code",
   "execution_count": 4,
   "metadata": {},
   "outputs": [
    {
     "name": "stdout",
     "output_type": "stream",
     "text": [
      "Fibonacci sequence upto 10 :\n",
      "0 , 1 , 1 , 2 , 3 , 5 , 8 , 13 , 21 , 34 , "
     ]
    }
   ],
   "source": [
    "nterms = 10\n",
    "\n",
    "# uncomment to take input from the user\n",
    "#nterms = int(input(\"How many terms? \"))\n",
    "\n",
    "# first two terms\n",
    "n1 = 0\n",
    "n2 = 1\n",
    "count = 0\n",
    "\n",
    "# check if the number of terms is valid\n",
    "if nterms <= 0:\n",
    "   print(\"Please enter a positive integer\")\n",
    "elif nterms == 1:\n",
    "   print(\"Fibonacci sequence upto\",nterms,\":\")\n",
    "   print(n1)\n",
    "else:\n",
    "   print(\"Fibonacci sequence upto\",nterms,\":\")\n",
    "   while count < nterms:\n",
    "       print(n1,end=' , ')\n",
    "       nth = n1 + n2\n",
    "       # update values\n",
    "       n1 = n2\n",
    "       n2 = nth\n",
    "       count += 1"
   ]
  },
  {
   "cell_type": "code",
   "execution_count": 15,
   "metadata": {},
   "outputs": [
    {
     "data": {
      "text/plain": [
       "1.5574077246549023"
      ]
     },
     "execution_count": 15,
     "metadata": {},
     "output_type": "execute_result"
    }
   ],
   "source": [
    "from math import tan\n",
    "\n",
    "d=round(2/3)\n",
    "tan(1)\n"
   ]
  },
  {
   "cell_type": "code",
   "execution_count": 17,
   "metadata": {},
   "outputs": [
    {
     "name": "stdout",
     "output_type": "stream",
     "text": [
      "The value of tangent of pi / 6 is : 0.5773502691896257\n"
     ]
    }
   ],
   "source": [
    "import math  \n",
    "    \n",
    "a = math.pi / 6\n",
    "     \n",
    "# returning the value of tangent of pi / 6  \n",
    "print (\"The value of tangent of pi / 6 is : \", end =\"\")  \n",
    "print (math.tan(a))  "
   ]
  },
  {
   "cell_type": "code",
   "execution_count": 10,
   "metadata": {},
   "outputs": [
    {
     "data": {
      "text/plain": [
       "1.0"
      ]
     },
     "execution_count": 10,
     "metadata": {},
     "output_type": "execute_result"
    }
   ],
   "source": [
    "import math\n",
    "math.cos(0)"
   ]
  },
  {
   "cell_type": "code",
   "execution_count": 16,
   "metadata": {},
   "outputs": [
    {
     "data": {
      "text/plain": [
       "2.0"
      ]
     },
     "execution_count": 16,
     "metadata": {},
     "output_type": "execute_result"
    }
   ],
   "source": [
    "from math import sqrt\n",
    "sqrt(4)"
   ]
  },
  {
   "cell_type": "code",
   "execution_count": 22,
   "metadata": {},
   "outputs": [
    {
     "data": {
      "text/plain": [
       "0.8939966636005579"
      ]
     },
     "execution_count": 22,
     "metadata": {},
     "output_type": "execute_result"
    }
   ],
   "source": [
    "from math import sin\n",
    "a=90\n",
    "math.sin(90)"
   ]
  },
  {
   "cell_type": "code",
   "execution_count": 28,
   "metadata": {},
   "outputs": [
    {
     "name": "stdout",
     "output_type": "stream",
     "text": [
      "1.0\n"
     ]
    }
   ],
   "source": [
    "d = math.radians(90)\n",
    "\n",
    "s90 = math.sin(d)\n",
    "\n",
    "sr   = round(s90,2)\n",
    "\n",
    "print(sr)"
   ]
  },
  {
   "cell_type": "code",
   "execution_count": 30,
   "metadata": {},
   "outputs": [
    {
     "data": {
      "text/plain": [
       "0.8414709848078965"
      ]
     },
     "execution_count": 30,
     "metadata": {},
     "output_type": "execute_result"
    }
   ],
   "source": [
    "math.sin(math.radians(90))"
   ]
  },
  {
   "cell_type": "code",
   "execution_count": null,
   "metadata": {},
   "outputs": [],
   "source": [
    "from math import sqrt\n",
    "\n",
    "def main():\n",
    "    a=int(input())\n",
    "    b=int(input())\n",
    "    c=sum(sqrt(a*a+b*b))\n",
    "    d=c//2\n",
    "    v=round(d/a)\n",
    " # Write code here \n",
    "\n",
    "main()\n"
   ]
  },
  {
   "cell_type": "code",
   "execution_count": 31,
   "metadata": {},
   "outputs": [
    {
     "data": {
      "text/plain": [
       "2"
      ]
     },
     "execution_count": 31,
     "metadata": {},
     "output_type": "execute_result"
    }
   ],
   "source": [
    "8//3   #integer division"
   ]
  },
  {
   "cell_type": "code",
   "execution_count": 35,
   "metadata": {},
   "outputs": [
    {
     "name": "stdout",
     "output_type": "stream",
     "text": [
      "10 20 30\n"
     ]
    }
   ],
   "source": [
    "a,b,c=map(int,input().split())"
   ]
  },
  {
   "cell_type": "code",
   "execution_count": 36,
   "metadata": {},
   "outputs": [
    {
     "data": {
      "text/plain": [
       "int"
      ]
     },
     "execution_count": 36,
     "metadata": {},
     "output_type": "execute_result"
    }
   ],
   "source": [
    "type(a)"
   ]
  },
  {
   "cell_type": "code",
   "execution_count": 37,
   "metadata": {},
   "outputs": [
    {
     "name": "stdout",
     "output_type": "stream",
     "text": [
      "Tech\n",
      "gig\n",
      "Techgig"
     ]
    }
   ],
   "source": [
    "def main():\n",
    "    s1=input().rstrip()\n",
    "    s2=input()\n",
    "    print(s1+s2,end=\"\")\n",
    "\n",
    " # Write code here \n",
    "\n",
    "main()"
   ]
  },
  {
   "cell_type": "code",
   "execution_count": 38,
   "metadata": {},
   "outputs": [
    {
     "name": "stdout",
     "output_type": "stream",
     "text": [
      "techgig\n",
      "t\n",
      "True"
     ]
    }
   ],
   "source": [
    "def main():\n",
    "    s=input()\n",
    "    c=input()\n",
    "    if c in s:\n",
    "        print(True,end=\"\")\n",
    "    else:\n",
    "        print(False,end=\"\")\n",
    "\n",
    "\n",
    " # Write code here \n",
    "\n",
    "main()"
   ]
  },
  {
   "cell_type": "code",
   "execution_count": 3,
   "metadata": {},
   "outputs": [
    {
     "name": "stdout",
     "output_type": "stream",
     "text": [
      "5\n",
      "6\n",
      "7\n",
      "8\n"
     ]
    }
   ],
   "source": [
    "i=5\n",
    "while True:\n",
    "    if i%0o11==0:\n",
    "        break\n",
    "    print(i)\n",
    "    i=i+1\n",
    "        "
   ]
  },
  {
   "cell_type": "code",
   "execution_count": null,
   "metadata": {},
   "outputs": [],
   "source": [
    "scikit learn - machinev learning library in python\n",
    "\n",
    "repr() method returns a printable representational string of the given object\n",
    "\n",
    "Package is a folder of python modules"
   ]
  },
  {
   "cell_type": "markdown",
   "metadata": {},
   "source": [
    "#functools.partial()\n",
    "\n",
    "** Functools library is to create partial functions. In other words, Functools module is for higher-order functions where functions can either act or return on other functions. In order to use partial functions the following import is required:\n",
    "\n",
    "** From Functools import partial\n",
    "\n",
    "** Partial function helps you to derive a function with x parameters to a function with fewer parameters. In a partial function, one constant value argument can be bound to a definite function to create a new function that will take only the rest of the operations. Amongst all calls, the bound input will remain the same. "
   ]
  },
  {
   "cell_type": "code",
   "execution_count": 4,
   "metadata": {},
   "outputs": [
    {
     "name": "stdout",
     "output_type": "stream",
     "text": [
      "12\n"
     ]
    }
   ],
   "source": [
    "from functools import partial\n",
    "\n",
    "def multiply(x,y):\n",
    "    return x*y\n",
    "\n",
    "#creating a new function that multiplies by 2\n",
    "d=partial(multiply,2)\n",
    "print(d(6))"
   ]
  },
  {
   "cell_type": "code",
   "execution_count": 5,
   "metadata": {},
   "outputs": [
    {
     "name": "stdout",
     "output_type": "stream",
     "text": [
      "9\n"
     ]
    }
   ],
   "source": [
    "def power(x,y):\n",
    "    return x**y\n",
    "\n",
    "d=partial(power,3) \n",
    "print(d(2))"
   ]
  },
  {
   "cell_type": "code",
   "execution_count": 7,
   "metadata": {},
   "outputs": [
    {
     "data": {
      "text/plain": [
       "'abcdef'"
      ]
     },
     "execution_count": 7,
     "metadata": {},
     "output_type": "execute_result"
    }
   ],
   "source": [
    "\"abcdef\".center(6)"
   ]
  },
  {
   "cell_type": "code",
   "execution_count": 8,
   "metadata": {},
   "outputs": [
    {
     "name": "stdout",
     "output_type": "stream",
     "text": [
      "Help on method_descriptor:\n",
      "\n",
      "center(self, width, fillchar=' ', /)\n",
      "    Return a centered string of length width.\n",
      "    \n",
      "    Padding is done using the specified fill character (default is a space).\n",
      "\n"
     ]
    }
   ],
   "source": [
    "help(str.center)"
   ]
  },
  {
   "cell_type": "code",
   "execution_count": 10,
   "metadata": {},
   "outputs": [
    {
     "data": {
      "text/plain": [
       "'aaaahhaaa'"
      ]
     },
     "execution_count": 10,
     "metadata": {},
     "output_type": "execute_result"
    }
   ],
   "source": [
    "\"hh\".center(9,'a')"
   ]
  },
  {
   "cell_type": "code",
   "execution_count": 12,
   "metadata": {},
   "outputs": [
    {
     "data": {
      "text/plain": [
       "' abcd'"
      ]
     },
     "execution_count": 12,
     "metadata": {},
     "output_type": "execute_result"
    }
   ],
   "source": [
    "\"abcd\".center(5)"
   ]
  },
  {
   "cell_type": "code",
   "execution_count": 15,
   "metadata": {},
   "outputs": [
    {
     "name": "stdout",
     "output_type": "stream",
     "text": [
      "*@xyzque@*\n"
     ]
    }
   ],
   "source": [
    "print('*',\"xyzque\".center(6),'*',sep='@')"
   ]
  },
  {
   "cell_type": "code",
   "execution_count": 17,
   "metadata": {},
   "outputs": [
    {
     "name": "stdout",
     "output_type": "stream",
     "text": [
      "welcome***world\n"
     ]
    }
   ],
   "source": [
    "print(\"welcome\",'world',sep='***')"
   ]
  },
  {
   "cell_type": "code",
   "execution_count": 20,
   "metadata": {},
   "outputs": [
    {
     "name": "stdout",
     "output_type": "stream",
     "text": [
      "12\n"
     ]
    }
   ],
   "source": [
    "class tester:\n",
    "    def __init__(self,id):\n",
    "        self.id=str(id)\n",
    "        id=\"224\"\n",
    "        \n",
    "temp=tester(12)\n",
    "print(temp.id)"
   ]
  },
  {
   "cell_type": "code",
   "execution_count": 27,
   "metadata": {},
   "outputs": [
    {
     "name": "stdout",
     "output_type": "stream",
     "text": [
      "10\n"
     ]
    }
   ],
   "source": [
    "class A:\n",
    "    x=10\n",
    "    \n",
    "a=A()\n",
    "print(a.x)"
   ]
  },
  {
   "cell_type": "code",
   "execution_count": 35,
   "metadata": {},
   "outputs": [
    {
     "name": "stdout",
     "output_type": "stream",
     "text": [
      "meenakshi1\n"
     ]
    }
   ],
   "source": [
    "class B:\n",
    "    name=\"\"\n",
    "    def __init__(self):          #Default constructor\n",
    "        self.name=\"meenakshi1\"\n",
    "        \n",
    "    def printname(s):    or def printname(self):\n",
    "        print(s.name)           print(self.name)\n",
    "        \n",
    "b=B()\n",
    "b.printname()\n",
    "        "
   ]
  },
  {
   "cell_type": "code",
   "execution_count": 34,
   "metadata": {},
   "outputs": [
    {
     "name": "stdout",
     "output_type": "stream",
     "text": [
      "keerthi\n",
      "25\n"
     ]
    }
   ],
   "source": [
    "class C:\n",
    "    def __init__(self,name,age):   #Parameterized Constructor\n",
    "        self.name=name \n",
    "        self.age=age\n",
    "    \n",
    "c=C(\"keerthi\",25)\n",
    "\n",
    "print(c.name)   #accessing class members using object \n",
    "print(c.age)"
   ]
  },
  {
   "cell_type": "code",
   "execution_count": 42,
   "metadata": {},
   "outputs": [
    {
     "name": "stdout",
     "output_type": "stream",
     "text": [
      "16\n"
     ]
    }
   ],
   "source": [
    "c.age=16   #modifying object properties\n",
    "\n",
    "print(c.age)"
   ]
  },
  {
   "cell_type": "code",
   "execution_count": 43,
   "metadata": {},
   "outputs": [],
   "source": [
    "del c.age #deleting object properties\n"
   ]
  },
  {
   "cell_type": "code",
   "execution_count": 44,
   "metadata": {},
   "outputs": [],
   "source": [
    "del c  #deleting object"
   ]
  },
  {
   "cell_type": "code",
   "execution_count": 53,
   "metadata": {},
   "outputs": [
    {
     "data": {
      "text/plain": [
       "22"
      ]
     },
     "execution_count": 53,
     "metadata": {},
     "output_type": "execute_result"
    }
   ],
   "source": [
    "#Addition of two numbers using default constructor and a method\n",
    "\n",
    "class A:\n",
    "    def __init__(self,x,y):\n",
    "        self.x=x\n",
    "        self.y=y\n",
    "    \n",
    "    def add(self):\n",
    "        return self.x+self.y\n",
    "        \n",
    "aa=A(10,12)\n",
    "aa.add()\n",
    "\n",
    "        \n",
    "    "
   ]
  },
  {
   "cell_type": "code",
   "execution_count": 55,
   "metadata": {},
   "outputs": [
    {
     "data": {
      "text/plain": [
       "190"
      ]
     },
     "execution_count": 55,
     "metadata": {},
     "output_type": "execute_result"
    }
   ],
   "source": [
    "class A:\n",
    "    def innn(self,x,y):\n",
    "        return x+y\n",
    "    \n",
    "a=A()\n",
    "a.innn(90,100)"
   ]
  },
  {
   "cell_type": "code",
   "execution_count": 57,
   "metadata": {},
   "outputs": [
    {
     "name": "stdout",
     "output_type": "stream",
     "text": [
      "even number\n"
     ]
    }
   ],
   "source": [
    "#Even or odd\n",
    "\n",
    "class EvenorOdd:\n",
    "    def eoo(self,num):\n",
    "        if num%2==0:\n",
    "            print(\"even number\")\n",
    "        else:\n",
    "            print(\"odd number\")\n",
    "            \n",
    "e=EvenorOdd()\n",
    "e.eoo(100)\n"
   ]
  },
  {
   "cell_type": "code",
   "execution_count": 60,
   "metadata": {},
   "outputs": [
    {
     "name": "stdout",
     "output_type": "stream",
     "text": [
      "False True\n"
     ]
    }
   ],
   "source": [
    "class A:\n",
    "    def __init__(self,c=0):\n",
    "        self__c=c\n",
    "    \n",
    "c1=A(2)\n",
    "c2=A(2)\n",
    "\n",
    "print(id(c1)==id(c2),end=\" \")\n",
    "\n",
    "s1=\"Good\"\n",
    "s2=\"Good\"\n",
    "\n",
    "print(id(s1)==id(s2))"
   ]
  },
  {
   "cell_type": "code",
   "execution_count": 61,
   "metadata": {},
   "outputs": [
    {
     "name": "stdout",
     "output_type": "stream",
     "text": [
      "Help on built-in function id in module builtins:\n",
      "\n",
      "id(obj, /)\n",
      "    Return the identity of an object.\n",
      "    \n",
      "    This is guaranteed to be unique among simultaneously existing objects.\n",
      "    (CPython uses the object's memory address.)\n",
      "\n"
     ]
    }
   ],
   "source": [
    "help(id)"
   ]
  },
  {
   "cell_type": "code",
   "execution_count": 64,
   "metadata": {},
   "outputs": [
    {
     "name": "stdout",
     "output_type": "stream",
     "text": [
      "<itertools.product object at 0x00000193BD893288>\n"
     ]
    }
   ],
   "source": [
    "import itertools\n",
    "\n",
    "l1=[2,4]\n",
    "l2=[7,8]\n",
    "\n",
    "print(itertools.product(l1,l2))"
   ]
  },
  {
   "cell_type": "code",
   "execution_count": 67,
   "metadata": {},
   "outputs": [
    {
     "name": "stdout",
     "output_type": "stream",
     "text": [
      "[(2, 7), (2, 8), (4, 7), (4, 8)]\n"
     ]
    }
   ],
   "source": [
    "l1=[2,4]\n",
    "l2=[7,8]\n",
    "\n",
    "print([(x,y) for x in l1 for y in l2])"
   ]
  },
  {
   "cell_type": "code",
   "execution_count": 77,
   "metadata": {},
   "outputs": [
    {
     "name": "stdout",
     "output_type": "stream",
     "text": [
      "(2, 7) (2, 8) (4, 7) (4, 8) "
     ]
    }
   ],
   "source": [
    "l1=[2,4]\n",
    "l2=[7,8]\n",
    "\n",
    "for i in l1:\n",
    "    for j in l2:\n",
    "        print((i,j),end=\" \")"
   ]
  },
  {
   "cell_type": "code",
   "execution_count": 81,
   "metadata": {},
   "outputs": [
    {
     "name": "stdout",
     "output_type": "stream",
     "text": [
      "[(2, 7), (2, 8), (4, 7), (4, 8)]\n"
     ]
    }
   ],
   "source": [
    "from itertools import product\n",
    "\n",
    "l1=[2,4]\n",
    "l2=[7,8]\n",
    "\n",
    "print(list(product(l1,l2)))\n",
    "\n"
   ]
  },
  {
   "cell_type": "code",
   "execution_count": 87,
   "metadata": {},
   "outputs": [
    {
     "name": "stdout",
     "output_type": "stream",
     "text": [
      "(2, 7) (2, 8) (2, 9) (4, 7) (4, 8) (4, 9)"
     ]
    }
   ],
   "source": [
    "l1=[2,4]\n",
    "l2=[7,8]\n",
    "l3=[]\n",
    "l2.append(l2[1]+1)\n",
    "\n",
    "for i in l1:\n",
    "    for j in l2:\n",
    "        l3.append((i,j))\n",
    "\n",
    "        \n",
    "for i in l3:\n",
    "    if i==l3[-1]:\n",
    "        print(i, end=\"\")\n",
    "    else:\n",
    "        print(i,end=\" \")\n",
    "    \n",
    "#print(l3)"
   ]
  },
  {
   "cell_type": "code",
   "execution_count": 100,
   "metadata": {},
   "outputs": [
    {
     "name": "stdout",
     "output_type": "stream",
     "text": [
      "abcd\n",
      "(3, 'a')(2, 'b')(3, 'c')(1, 'd')"
     ]
    }
   ],
   "source": [
    "s=\"aaabbcccd\"\n",
    "u=\"\"\n",
    "\n",
    "for ch in s:\n",
    "    if ch not in u:\n",
    "        u += ch\n",
    "print(u)\n",
    "\n",
    "for ch in u:\n",
    "    print((s.count(ch),str(ch)),end=\"\")"
   ]
  },
  {
   "cell_type": "code",
   "execution_count": 102,
   "metadata": {},
   "outputs": [
    {
     "data": {
      "text/plain": [
       "'a'"
      ]
     },
     "execution_count": 102,
     "metadata": {},
     "output_type": "execute_result"
    }
   ],
   "source": [
    "str('a')"
   ]
  },
  {
   "cell_type": "code",
   "execution_count": 112,
   "metadata": {},
   "outputs": [
    {
     "name": "stdout",
     "output_type": "stream",
     "text": [
      "['a', 'a', 'a', 'd', 'g', 'g', 'j']\n"
     ]
    }
   ],
   "source": [
    "s=\"ggdjaaa\"\n",
    "ss=\"\"\n"
   ]
  },
  {
   "cell_type": "code",
   "execution_count": 128,
   "metadata": {},
   "outputs": [
    {
     "name": "stdout",
     "output_type": "stream",
     "text": [
      "aabbbzzzccccc\n",
      "aabbbccccczzz\n",
      "(2, 'a') (3, 'b') (5, 'c') (3, 'z')"
     ]
    }
   ],
   "source": [
    "import itertools\n",
    "li=[]\n",
    "ss=input()\n",
    "\n",
    "s=\"\"\n",
    "for i in sorted(ss):\n",
    "    s += i\n",
    "print(s)\n",
    "\n",
    "for i,v in itertools.groupby(s):\n",
    "    li.append((len(list(v)),str(i)))\n",
    "#print(li)\n",
    "\n",
    "for i in li:\n",
    "    if i==li[-1]:\n",
    "        print(i, end=\"\")\n",
    "    else:\n",
    "        print(i,end=\" \")"
   ]
  },
  {
   "cell_type": "code",
   "execution_count": 1,
   "metadata": {},
   "outputs": [
    {
     "name": "stdout",
     "output_type": "stream",
     "text": [
      "2\n",
      "arpit 100 75 40 56 53\n",
      "anushka 100 100 76 100 100\n",
      "100.0 87.5 58.0 78.0 76.5"
     ]
    }
   ],
   "source": [
    "#average of subject marks like average of social marks of student 1 and student2 etc\n",
    "\n",
    "n=int(input())\n",
    "d={}\n",
    "for i in range(n):\n",
    "    name , *m = input().split()\n",
    "    marks=list(map(int,m))\n",
    "    d[name]=marks\n",
    "    \n",
    "l=list(d.values())\n",
    "l1=l[0]\n",
    "l2=l[1]\n",
    "#print(l1,l2) \n",
    "a=[]\n",
    "    \n",
    "for i in range(len(l1)):\n",
    "    a.append((l1[i]+l2[i])/n)\n",
    "    \n",
    "for i in a:\n",
    "    if i==a[-1]:\n",
    "        print(i , end=\"\")\n",
    "    else:\n",
    "        print(i , end=\" \")\n",
    "    \n"
   ]
  },
  {
   "cell_type": "code",
   "execution_count": 2,
   "metadata": {},
   "outputs": [
    {
     "name": "stdout",
     "output_type": "stream",
     "text": [
      "[1, 2, 3]\n"
     ]
    }
   ],
   "source": [
    "d={'k':[1,2,3], 'h':[10,20,30]}\n",
    "l=list(d.values())[0]\n",
    "print(l)"
   ]
  }
 ],
 "metadata": {
  "kernelspec": {
   "display_name": "Python 3",
   "language": "python",
   "name": "python3"
  },
  "language_info": {
   "codemirror_mode": {
    "name": "ipython",
    "version": 3
   },
   "file_extension": ".py",
   "mimetype": "text/x-python",
   "name": "python",
   "nbconvert_exporter": "python",
   "pygments_lexer": "ipython3",
   "version": "3.7.3"
  }
 },
 "nbformat": 4,
 "nbformat_minor": 2
}
