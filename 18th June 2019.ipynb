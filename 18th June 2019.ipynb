{
 "cells": [
  {
   "cell_type": "markdown",
   "metadata": {},
   "source": [
    "Play with numbers\n",
    "\n",
    "You are given an array of n numbers and q queries. For each query you have to print the floor of the expected value(mean) of the subarray from L to R.\n",
    "\n",
    "\n",
    "First line contains two integers N and Q denoting number of array elements and number of queries.\n",
    "\n",
    "Next line contains N space seperated integers denoting array elements.\n",
    "\n",
    "Next Q lines contain two integers L and R(indices of the array).\n",
    "\n",
    "\n",
    "print a single integer denoting the answer.\n",
    "\n",
    " :\n",
    "\n",
    "1<= N ,Q,L,R <= 10^6\n",
    "\n",
    "1<= Array elements <= 10^9\n",
    "\n",
    "NOTE\n",
    "\n",
    "Use Fast I/O\n",
    "\n",
    "Problem setter : Sheldon Tauro\n",
    "\n",
    "SAMPLE INPUT \n",
    "5 3\n",
    "1 2 3 4 5\n",
    "1 3\n",
    "2 4\n",
    "2 5\n",
    "SAMPLE OUTPUT \n",
    "2 \n",
    "3\n",
    "3"
   ]
  },
  {
   "cell_type": "code",
   "execution_count": 1,
   "metadata": {},
   "outputs": [
    {
     "name": "stdout",
     "output_type": "stream",
     "text": [
      "5 3\n",
      "1 2 3 4 5\n",
      "1 3\n",
      "2\n",
      "2 4\n",
      "3\n",
      "2 5\n",
      "3\n"
     ]
    }
   ],
   "source": [
    "n=input().split()\n",
    "n[0],n[1]=int(n[0]),int(n[1])\n",
    "\n",
    "a=input().split() #Read array elements\n",
    "sum=[] #Initialize cumulative sum array\n",
    "for i in range(0,n[0]):\n",
    "    if i==0:\n",
    "        sum.append(int(a[i]))\n",
    "    else:    \n",
    "        sum.append((int(sum[i-1]))+int(a[i]))\n",
    "        \n",
    "del a\n",
    "\n",
    "#Read each query and calculate the average\n",
    "for k in range(0,n[1]):\n",
    "    inq=input().split()\n",
    "    i=int(inq[0])\n",
    "    j=int(inq[1])\n",
    "    if i>1:\n",
    "        print((sum[j-1]-sum[i-2])//(j-i+1))\n",
    "    else:\n",
    "        print(sum[j-1]//(j-i+1))\n",
    "        "
   ]
  },
  {
   "cell_type": "markdown",
   "metadata": {},
   "source": [
    "# Tuples\n",
    "\n",
    "t1=()\n",
    "li=[]\n",
    "\n",
    "Difference between tuple and list\n",
    "\n",
    "lists are mutable-can be changed or modified\n",
    "\n",
    " - Access ,modify,add,delete data\n",
    "\n",
    "Tuples are immutable - cannot be changed or updated once initialised\n",
    "\n",
    " - used to access data only\n",
    " - All slicing work"
   ]
  },
  {
   "cell_type": "code",
   "execution_count": 5,
   "metadata": {},
   "outputs": [
    {
     "data": {
      "text/plain": [
       "(976, 84, 56)"
      ]
     },
     "execution_count": 5,
     "metadata": {},
     "output_type": "execute_result"
    }
   ],
   "source": [
    "\n",
    "t1=(67,89,976,84,56)\n",
    "\n",
    "t1[3] #Accessing the fourth element\n",
    "\n",
    "t1[len(t1)//2 :] #Accessing all elements from middle to last\n"
   ]
  },
  {
   "cell_type": "code",
   "execution_count": 6,
   "metadata": {},
   "outputs": [
    {
     "data": {
      "text/plain": [
       "tuple"
      ]
     },
     "execution_count": 6,
     "metadata": {},
     "output_type": "execute_result"
    }
   ],
   "source": [
    "type(t1)"
   ]
  },
  {
   "cell_type": "markdown",
   "metadata": {},
   "source": [
    "### Dictionaries\n",
    "\n",
    "It works on the concepts of Set\n",
    "Unique Data\n",
    "\n",
    "Keys,Values\n",
    "Key is the unique identifier for a value\n",
    "Value is data that can be accessed with a key"
   ]
  },
  {
   "cell_type": "code",
   "execution_count": 21,
   "metadata": {},
   "outputs": [
    {
     "name": "stdout",
     "output_type": "stream",
     "text": [
      "value2\n",
      "dict_keys(['k1', 'k2'])\n",
      "dict_values(['value1', 'value2'])\n",
      "dict_items([('k1', 'value1'), ('k2', 'value2')])\n"
     ]
    },
    {
     "data": {
      "text/plain": [
       "False"
      ]
     },
     "execution_count": 21,
     "metadata": {},
     "output_type": "execute_result"
    }
   ],
   "source": [
    "d1={\"k1\":\"value1\",\"k2\":\"value2\"}\n",
    "\n",
    "print(d1[\"k2\"])\n",
    "print(d1.keys())\n",
    "print(d1.values())\n",
    "print(d1.items())\n",
    "\n",
    "d1[\"k3\"]=\"value3\" #Adding an element to a dictionary\n",
    "\n",
    "d1[\"k3\"]=\"value4\" #updating an element to a dictionary\n",
    "\n",
    "d1\n",
    "\n",
    "d1.pop(\"k3\") #Removing an element\n",
    "d1\n",
    "\n",
    "\"k1\" in d1   #to check if k1 is there or not\n",
    "\n",
    "#search for a particular item in a dictionary is done through keys\n"
   ]
  },
  {
   "cell_type": "markdown",
   "metadata": {},
   "source": [
    "# Contacts Application\n",
    "\n",
    "- Add contact\n",
    "- Search for contact\n",
    "- List all Contacts\n",
    "- Modify the contact\n",
    "- Delete the contact"
   ]
  },
  {
   "cell_type": "code",
   "execution_count": 7,
   "metadata": {},
   "outputs": [
    {
     "name": "stdout",
     "output_type": "stream",
     "text": [
      "Contact name1 added\n"
     ]
    }
   ],
   "source": [
    "contacts={}\n",
    "\n",
    "def addContact(name,phone):\n",
    "    #Verify that the contact doesnot already exist in dictionary\n",
    "    if name not in contacts:\n",
    "        contacts[name]=phone\n",
    "        print(\"Contact %s added\" %name)\n",
    "    else:\n",
    "        print(\"Contact %s already exists\" %name)\n",
    "        \n",
    "addContact(\"name1\",\"9867544487\")        "
   ]
  },
  {
   "cell_type": "code",
   "execution_count": 11,
   "metadata": {},
   "outputs": [
    {
     "name": "stdout",
     "output_type": "stream",
     "text": [
      "name1 : 9867544487\n"
     ]
    }
   ],
   "source": [
    "def searchContacts(name):\n",
    "    if name in contacts:\n",
    "        print(name,\":\",contacts[name])\n",
    "    else:\n",
    "        print(\"%s does not exist\" %name)\n",
    "    return\n",
    "              \n",
    "searchContacts(\"name1\")              "
   ]
  },
  {
   "cell_type": "code",
   "execution_count": 21,
   "metadata": {},
   "outputs": [
    {
     "name": "stdout",
     "output_type": "stream",
     "text": [
      "dict_items([('name1', '9867544487')])\n"
     ]
    }
   ],
   "source": [
    "def allContacts():   #Displaying all contacts using function\n",
    "    for i in contacts:\n",
    "        print(contacts.items())\n",
    "    \n",
    "allContacts()    "
   ]
  },
  {
   "cell_type": "code",
   "execution_count": 25,
   "metadata": {},
   "outputs": [
    {
     "name": "stdout",
     "output_type": "stream",
     "text": [
      "name1 : 9087654321\n"
     ]
    }
   ],
   "source": [
    "def modifycontact(name):  #Modifying contacts \n",
    "    if name in contacts:\n",
    "        contacts[name]='9087654321'\n",
    "        print(name,\":\",contacts[name])\n",
    "    else:\n",
    "        print(\"%s does not exist\" %name)\n",
    "    return\n",
    "              \n",
    "modifycontact(\"name1\")              \n",
    "    "
   ]
  },
  {
   "cell_type": "code",
   "execution_count": 28,
   "metadata": {},
   "outputs": [
    {
     "name": "stdout",
     "output_type": "stream",
     "text": [
      "2 contacts added successfully\n"
     ]
    }
   ],
   "source": [
    "#New contacts is given as a dictionary\n",
    "#Merge new contacts with existing contacts\n",
    "\n",
    "def importContacts(newContacts):\n",
    "    contacts.update(newContacts)\n",
    "    print(len(newContacts.keys()),\"contacts added successfully\")\n",
    "    return\n",
    "          \n",
    "newContacts={\"name2\":9087656767,\"name3\":7075169570}\n",
    "   \n",
    "importContacts(newContacts)          "
   ]
  },
  {
   "cell_type": "code",
   "execution_count": 38,
   "metadata": {},
   "outputs": [
    {
     "name": "stdout",
     "output_type": "stream",
     "text": [
      "Contact name1 removed\n"
     ]
    }
   ],
   "source": [
    "def delete(name):    #Deleting contact from dictionary\n",
    "    if name in contacts:\n",
    "        contacts.pop(name)\n",
    "        print(\"Contact %s removed\" %name)\n",
    "    else:\n",
    "        print(\"contact %s not exists\")\n",
    "        \n",
    "delete(\"name1\")        "
   ]
  },
  {
   "cell_type": "code",
   "execution_count": 40,
   "metadata": {},
   "outputs": [
    {
     "data": {
      "text/plain": [
       "dict_items([('name2', 9087656767), ('name3', 7075169570)])"
      ]
     },
     "execution_count": 40,
     "metadata": {},
     "output_type": "execute_result"
    }
   ],
   "source": [
    "contacts.items()"
   ]
  },
  {
   "cell_type": "code",
   "execution_count": 41,
   "metadata": {},
   "outputs": [
    {
     "name": "stdout",
     "output_type": "stream",
     "text": [
      "{(1, 2), (3, 4)}\n"
     ]
    }
   ],
   "source": [
    "d={(1,2),(3,4)}\n",
    "print(d)"
   ]
  },
  {
   "cell_type": "code",
   "execution_count": 42,
   "metadata": {},
   "outputs": [],
   "source": [
    "del d"
   ]
  },
  {
   "cell_type": "code",
   "execution_count": 43,
   "metadata": {},
   "outputs": [
    {
     "ename": "NameError",
     "evalue": "name 'd' is not defined",
     "output_type": "error",
     "traceback": [
      "\u001b[1;31m---------------------------------------------------------------------------\u001b[0m",
      "\u001b[1;31mNameError\u001b[0m                                 Traceback (most recent call last)",
      "\u001b[1;32m<ipython-input-43-e983f374794d>\u001b[0m in \u001b[0;36m<module>\u001b[1;34m\u001b[0m\n\u001b[1;32m----> 1\u001b[1;33m \u001b[0md\u001b[0m\u001b[1;33m\u001b[0m\u001b[1;33m\u001b[0m\u001b[0m\n\u001b[0m",
      "\u001b[1;31mNameError\u001b[0m: name 'd' is not defined"
     ]
    }
   ],
   "source": [
    "d"
   ]
  },
  {
   "cell_type": "markdown",
   "metadata": {},
   "source": [
    "# Packages and Modules\n",
    "\n",
    "**Package** -> Collection of modules(Python File .py) and subpackages\n",
    "\n",
    "**Module** -> A single python file containing functions\n",
    "\n",
    "Package -> Subpackages ->  Modules ->Functions\n",
    "\n"
   ]
  },
  {
   "cell_type": "code",
   "execution_count": 48,
   "metadata": {},
   "outputs": [
    {
     "data": {
      "text/plain": [
       "3.141592653589793"
      ]
     },
     "execution_count": 48,
     "metadata": {},
     "output_type": "execute_result"
    }
   ],
   "source": [
    "import math\n",
    "\n",
    "math.floor(908.923)\n",
    "math.pi"
   ]
  },
  {
   "cell_type": "code",
   "execution_count": 49,
   "metadata": {},
   "outputs": [
    {
     "data": {
      "text/plain": [
       "3.141592653589793"
      ]
     },
     "execution_count": 49,
     "metadata": {},
     "output_type": "execute_result"
    }
   ],
   "source": [
    "from math import floor,pi\n",
    "\n",
    "floor(908765.56)\n",
    "pi"
   ]
  },
  {
   "cell_type": "code",
   "execution_count": 50,
   "metadata": {},
   "outputs": [
    {
     "data": {
      "text/plain": [
       "908"
      ]
     },
     "execution_count": 50,
     "metadata": {},
     "output_type": "execute_result"
    }
   ],
   "source": [
    "from math import floor as f1 #Renaming of functions also possible in python\n",
    "\n",
    "f1(908.234)"
   ]
  },
  {
   "cell_type": "code",
   "execution_count": 60,
   "metadata": {},
   "outputs": [
    {
     "name": "stdout",
     "output_type": "stream",
     "text": [
      "11 50 19 98 100 51 63 14 81 73 "
     ]
    }
   ],
   "source": [
    "#Function to generate N random numbers\n",
    "\n",
    "import random\n",
    "\n",
    "\n",
    "def generateNRandomNumbers(n,lb,ub):\n",
    "    for i in range(0,n):\n",
    "        print(random.randint(lb,ub),end=\" \")\n",
    "        \n",
    "generateNRandomNumbers(10,0,100)        "
   ]
  },
  {
   "cell_type": "markdown",
   "metadata": {},
   "source": [
    "# Creating a Python Package\n",
    "\n",
    "* Create a new floder --> rename as Packages\n",
    "* Inside Packages folder create a text file --> rename as numerical\n",
    "* Inside text file add some numerical functions code (isPrime & numberPrimeFactors) and then save( File --> Save)\n",
    "\n",
    "* Then in Notebook restart kernal and then import package that was created and access function in that package\n",
    "\n",
    "Eg:\n",
    "* from Packages import numerical\n",
    "* numerical.numberPrimeFactors(55)"
   ]
  },
  {
   "cell_type": "code",
   "execution_count": 8,
   "metadata": {},
   "outputs": [
    {
     "data": {
      "text/plain": [
       "False"
      ]
     },
     "execution_count": 8,
     "metadata": {},
     "output_type": "execute_result"
    }
   ],
   "source": [
    "from Packages import numerical\n",
    "\n",
    "numerical.numberPrimeFactors(55)\n",
    "numerical.isPrime(105)"
   ]
  },
  {
   "cell_type": "code",
   "execution_count": null,
   "metadata": {},
   "outputs": [],
   "source": []
  }
 ],
 "metadata": {
  "kernelspec": {
   "display_name": "Python 3",
   "language": "python",
   "name": "python3"
  },
  "language_info": {
   "codemirror_mode": {
    "name": "ipython",
    "version": 3
   },
   "file_extension": ".py",
   "mimetype": "text/x-python",
   "name": "python",
   "nbconvert_exporter": "python",
   "pygments_lexer": "ipython3",
   "version": "3.7.3"
  }
 },
 "nbformat": 4,
 "nbformat_minor": 2
}
