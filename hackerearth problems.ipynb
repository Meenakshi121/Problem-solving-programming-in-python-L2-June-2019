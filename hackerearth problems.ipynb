{
 "cells": [
  {
   "cell_type": "markdown",
   "metadata": {},
   "source": [
    "Book of Potion making\n",
    "\n",
    "Harry wants to find Voldemort's potion making book but he is confused about how to get it.\n",
    "\n",
    "The book has a special ISBN(International Standard Book Number) which is  unique numeric book identifier only for Voldemort's book printed on it. The ISBN is based upon a 10-digit code. The ISBN is valid if:\n",
    "1xdigit1 + 2xdigit2 + 3xdigit3 + 4xdigit4 + 5xdigit5 + 6xdigit6 + 7xdigit7 + 8xdigit8 + 9xdigit9 + 10xdigit10 is divisible by 11.\n",
    "Help Harry to find the book!\n",
    "Input:\n",
    " Input the ISBN code as a 10-digit integer.\n",
    "\n",
    "Output:\n",
    "If the ISBN is not a 10-digit integer, output the message “Illegal ISBN” and terminate the program.\n",
    "If the number is 10-digit, extract the digits of the number and compute the sum as explained in the explanation.\n",
    "If the sum is divisible by 11, output the message, “Legal ISBN”. If the sum is not divisible by 11, output the message, “Illegal ISBN”.\n",
    "\n",
    "SAMPLE INPUT \n",
    "1401601499\n",
    "SAMPLE OUTPUT \n",
    "Legal ISBN\n",
    "Explanation\n",
    "For an ISBN 1401601499\n",
    "Sum=1×1 + 2×4 + 3×0 + 4×1 + 5×6 + 6×0 + 7×1 + 8×4 + 9×9 + 10×9 = 253 which is divisible by 11."
   ]
  },
  {
   "cell_type": "code",
   "execution_count": 1,
   "metadata": {},
   "outputs": [
    {
     "name": "stdout",
     "output_type": "stream",
     "text": [
      "1401601499\n",
      "Legal ISBN\n"
     ]
    }
   ],
   "source": [
    "def valid(n):\n",
    "    j=1\n",
    "    s=0\n",
    "    for i in n:\n",
    "        s=(int(i)*j)+s\n",
    "        j=j+1\n",
    "    if s%11==0:\n",
    "        print(\"Legal ISBN\")\n",
    "    else:\n",
    "        print(\"Illegal ISBN\")\n",
    "        \n",
    "\n",
    "n=list(input())\n",
    "valid(n)"
   ]
  },
  {
   "cell_type": "markdown",
   "metadata": {},
   "source": []
  },
  {
   "cell_type": "code",
   "execution_count": null,
   "metadata": {},
   "outputs": [],
   "source": [
    "Lift queries\n",
    "Attempted by: 2908/Accuracy: 54%/Maximum Score: 20/\n",
    " 86 Votes\n",
    "Tag(s): Easy\n",
    "PROBLEM\n",
    "EDITORIAL\n",
    "MY SUBMISSIONS\n",
    "ANALYTICS\n",
    "There are 7 floors in BH3 and only 2 lifts. Initially Lift A is at the ground floor and Lift B at the top floor. Whenever someone calls the lift from N th floor, the lift closest to that floor comes to pick him up. If both the lifts are at equidistant from the N th floor, them the lift from the lower floor comes up.\n",
    "\n",
    "INPUT\n",
    "\n",
    "First line contains a integer T denoting the number of test cases.\n",
    "\n",
    "Next T lines contains a single integer N denoting the floor from which lift is called.\n",
    "\n",
    "OUTPUT\n",
    "\n",
    "Output T lines containing one character \"A\" if the first lift goes to N th floor or \"B\" for the second lift.\n",
    "\n",
    "\n",
    "CONTRAINTS\n",
    "\n",
    "0 <= N <= 7\n",
    "\n",
    "1 <= T <= 100000\n",
    "\n",
    " \n",
    "\n",
    "SAMPLE INPUT \n",
    "2\n",
    "3\n",
    "5\n",
    "SAMPLE OUTPUT \n",
    "A\n",
    "A"
   ]
  },
  {
   "cell_type": "code",
   "execution_count": 1,
   "metadata": {},
   "outputs": [
    {
     "name": "stdout",
     "output_type": "stream",
     "text": [
      "2\n",
      "3\n",
      "A\n",
      "5\n",
      "A\n"
     ]
    }
   ],
   "source": [
    "a=0\n",
    "b=7 \n",
    "nn=int(input())\n",
    "for i in range(0,nn):\n",
    "    n=int(input())\n",
    "    if  abs(a-n)<= abs(b-n):\n",
    "        print(\"A\")\n",
    "        a=n\n",
    "    else:\n",
    "        print(\"B\")\n",
    "        b=n"
   ]
  },
  {
   "cell_type": "code",
   "execution_count": null,
   "metadata": {},
   "outputs": [],
   "source": []
  },
  {
   "cell_type": "code",
   "execution_count": null,
   "metadata": {},
   "outputs": [],
   "source": [
    "\n",
    "def toffle(x,r):\n",
    "    dis=0\n",
    "    cir=0\n",
    "    t=0\n",
    "    for i in range(nod):\n",
    "        dis=100*x\n",
    "        cir=2*22/7*r\n",
    "        if cir<dis:\n",
    "            t=t+1\n",
    "    print(t)\n",
    "        \n",
    "nod=int(input())\n",
    "for i in range(0,nod):\n",
    "    s=input().split()\n",
    "    n1=int(s[0])\n",
    "    n2=int(s[1])\n",
    "toffle(n1,n2)"
   ]
  },
  {
   "cell_type": "code",
   "execution_count": null,
   "metadata": {},
   "outputs": [],
   "source": [
    "d = input();\n",
    "r = [];\n",
    "j = [];\n",
    "for x in range(int(d)):\n",
    "    k,l = input().split(\" \");\n",
    "    r.append(k);j.append(l);\n",
    "\n",
    "t=0;\n",
    "for x in range(int(d)):\n",
    "    distance = 2*int(r[x])*(22/7)\n",
    "    if int(distance) < 100*int(j[x]):\n",
    "        t=t+1;\n",
    "print(t);\n"
   ]
  }
 ],
 "metadata": {
  "kernelspec": {
   "display_name": "Python 3",
   "language": "python",
   "name": "python3"
  },
  "language_info": {
   "codemirror_mode": {
    "name": "ipython",
    "version": 3
   },
   "file_extension": ".py",
   "mimetype": "text/x-python",
   "name": "python",
   "nbconvert_exporter": "python",
   "pygments_lexer": "ipython3",
   "version": "3.7.3"
  }
 },
 "nbformat": 4,
 "nbformat_minor": 2
}
