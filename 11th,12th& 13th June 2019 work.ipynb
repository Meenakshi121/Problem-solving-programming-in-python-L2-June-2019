{
 "cells": [
  {
   "cell_type": "markdown",
   "metadata": {},
   "source": [
    "# **Python Basics**"
   ]
  },
  {
   "cell_type": "code",
   "execution_count": null,
   "metadata": {},
   "outputs": [],
   "source": []
  },
  {
   "cell_type": "code",
   "execution_count": 7,
   "metadata": {},
   "outputs": [
    {
     "name": "stdout",
     "output_type": "stream",
     "text": [
      "1000\n",
      "12 20 30 40\n"
     ]
    },
    {
     "data": {
      "text/plain": [
       "1888"
      ]
     },
     "execution_count": 7,
     "metadata": {},
     "output_type": "execute_result"
    }
   ],
   "source": [
    "n1=1000 #single variable assignment\n",
    "print(n1)\n",
    "\n",
    "l,m,n,o=12,20,30,40 #multi variable assignment\n",
    "print(l,m,n,o)\n",
    "\n",
    "n1=1888\n",
    "n1"
   ]
  },
  {
   "cell_type": "markdown",
   "metadata": {},
   "source": [
    "# **Data Types**\n",
    "\n",
    "* **int**\n",
    "* **float**\n",
    "* **String**"
   ]
  },
  {
   "cell_type": "code",
   "execution_count": 25,
   "metadata": {},
   "outputs": [
    {
     "name": "stdout",
     "output_type": "stream",
     "text": [
      "<class 'int'>\n",
      "<class 'str'>\n",
      "18\n",
      "<class 'float'>\n"
     ]
    },
    {
     "data": {
      "text/plain": [
       "int"
      ]
     },
     "execution_count": 25,
     "metadata": {},
     "output_type": "execute_result"
    }
   ],
   "source": [
    "print(type(l))\n",
    "\n",
    "s=\"python programming\"\n",
    "print(type(s))\n",
    "print(len(s))   #to find length of a string\n",
    "\n",
    "f=90.877\n",
    "print(type(f))\n",
    "\n",
    "n=9876\n",
    "type(n)\n"
   ]
  },
  {
   "cell_type": "code",
   "execution_count": 17,
   "metadata": {},
   "outputs": [
    {
     "name": "stdout",
     "output_type": "stream",
     "text": [
      "90\n",
      "9876.0\n"
     ]
    }
   ],
   "source": [
    "print(int(f))  # to convert into integer\n",
    "print(float(n)) #to convert into float   #here print is used bez it without print,it only prints last statement output"
   ]
  },
  {
   "cell_type": "code",
   "execution_count": 16,
   "metadata": {},
   "outputs": [
    {
     "data": {
      "text/plain": [
       "'90.877'"
      ]
     },
     "execution_count": 16,
     "metadata": {},
     "output_type": "execute_result"
    }
   ],
   "source": [
    "str(f) # to convert into string"
   ]
  },
  {
   "cell_type": "markdown",
   "metadata": {},
   "source": [
    "# **Arithmetic Operations**\n",
    "\n",
    "* +\n",
    "* -\n",
    "* %\n",
    "* *\n",
    "* /\n",
    " \n",
    " **"
   ]
  },
  {
   "cell_type": "code",
   "execution_count": 22,
   "metadata": {},
   "outputs": [
    {
     "name": "stdout",
     "output_type": "stream",
     "text": [
      "4800000\n",
      "<class 'int'>\n"
     ]
    }
   ],
   "source": [
    "y=l*m\n",
    "\n",
    "x=y*20000\n",
    "print(x)\n",
    "print(type(x))"
   ]
  },
  {
   "cell_type": "markdown",
   "metadata": {},
   "source": [
    "# **Conditional Statements**"
   ]
  },
  {
   "cell_type": "code",
   "execution_count": 28,
   "metadata": {},
   "outputs": [
    {
     "name": "stdout",
     "output_type": "stream",
     "text": [
      "true\n"
     ]
    }
   ],
   "source": [
    "if x>(y*100):\n",
    "    print(\"true\")\n",
    "else:\n",
    "    print(\"false\")"
   ]
  },
  {
   "cell_type": "code",
   "execution_count": 1,
   "metadata": {},
   "outputs": [
    {
     "name": "stdout",
     "output_type": "stream",
     "text": [
      "enter number34\n",
      "even\n"
     ]
    }
   ],
   "source": [
    "#Even or odd\n",
    "n=int(input(\"enter number\"))\n",
    "if n%2==0:\n",
    "    print(\"even\")\n",
    "else:\n",
    "    print(\"odd\")"
   ]
  },
  {
   "cell_type": "code",
   "execution_count": 2,
   "metadata": {},
   "outputs": [
    {
     "name": "stdout",
     "output_type": "stream",
     "text": [
      "enter first number12\n",
      "enter second number34\n",
      "enter third number5\n",
      "34 is the largest\n"
     ]
    }
   ],
   "source": [
    "#largest of three numbers\n",
    "\n",
    "a=int(input(\"enter first number\"))\n",
    "b=int(input(\"enter second number\"))\n",
    "c=int(input(\"enter third number\"))\n",
    "\n",
    "if a>b and a>c:\n",
    "    print(a , \"is the largest\")\n",
    "elif b>c:\n",
    "    print(b , \"is the largest\")\n",
    "else:\n",
    "    print(c, \"is the largest\")"
   ]
  },
  {
   "cell_type": "markdown",
   "metadata": {},
   "source": []
  },
  {
   "cell_type": "code",
   "execution_count": 3,
   "metadata": {},
   "outputs": [
    {
     "name": "stdout",
     "output_type": "stream",
     "text": [
      "enter year2450\n",
      "2450 is not a leap year\n"
     ]
    }
   ],
   "source": [
    "#Check if the given year is a leap year\n",
    "\n",
    "\n",
    "year=int(input(\"enter year\"))\n",
    "if year%400==0 or (year%4==0 and year%100!=0):\n",
    "    print(year , \"is a leap year\")\n",
    "else:\n",
    "    print(year, \"is not a leap year\")\n",
    "    "
   ]
  },
  {
   "cell_type": "code",
   "execution_count": 4,
   "metadata": {},
   "outputs": [
    {
     "name": "stdout",
     "output_type": "stream",
     "text": [
      "enter number34\n",
      "34 is not a factor of 1000\n"
     ]
    }
   ],
   "source": [
    "#Check if the given number is a factor of 1000\n",
    "\n",
    "n=int(input(\"enter number\"))\n",
    "if 1000%n==0:\n",
    "    print(n , \"is a factor of 1000\")\n",
    "else:\n",
    "    print(n , \"is not a factor of 1000\")"
   ]
  },
  {
   "cell_type": "code",
   "execution_count": 5,
   "metadata": {},
   "outputs": [
    {
     "name": "stdout",
     "output_type": "stream",
     "text": [
      "give number: 12345\n",
      "enter string: python\n",
      "not equal\n"
     ]
    }
   ],
   "source": [
    "#Check if a number is equal to a string\n",
    "\n",
    "number=int(input(\"give number: \"))\n",
    "string=input(\"enter string: \" )\n",
    "\n",
    "if string==str(number):\n",
    "    print(\"equal\")\n",
    "else:\n",
    "    print(\"not equal\")"
   ]
  },
  {
   "cell_type": "code",
   "execution_count": 6,
   "metadata": {},
   "outputs": [
    {
     "name": "stdout",
     "output_type": "stream",
     "text": [
      "enter number64\n",
      "8.0\n"
     ]
    }
   ],
   "source": [
    "#Find the square root of a given number without using sqrt()\n",
    "\n",
    "n=int(input(\"enter number\"))\n",
    "sq=n**0.5\n",
    "print(sq)"
   ]
  },
  {
   "cell_type": "code",
   "execution_count": 7,
   "metadata": {},
   "outputs": [
    {
     "name": "stdout",
     "output_type": "stream",
     "text": [
      "enter year2019\n",
      "0.031536\n"
     ]
    }
   ],
   "source": [
    "#Calculate the number of nano seconds in a given  year including leap year\n",
    "\n",
    "year=int(input(\"enter year\"))\n",
    "if year%400==0 or (year%4==0 and year%100!=0):\n",
    "    nano=366*24*60*60*(10**(-9))\n",
    "    print(nano)\n",
    "else:\n",
    "    nano=365*24*60*60*(10**(-9))\n",
    "    print(nano)"
   ]
  },
  {
   "cell_type": "code",
   "execution_count": 8,
   "metadata": {},
   "outputs": [
    {
     "name": "stdout",
     "output_type": "stream",
     "text": [
      "enter number100\n",
      "100 is a multiple of 10\n"
     ]
    }
   ],
   "source": [
    "#check if the number is multiple of 10\n",
    "\n",
    "num=int(input(\"enter number\"))\n",
    "if num%10==0:\n",
    "    print(num,\"is a multiple of 10\")\n",
    "else:\n",
    "    print(num,\"is not a multiple of 10\")"
   ]
  },
  {
   "cell_type": "code",
   "execution_count": 9,
   "metadata": {},
   "outputs": [
    {
     "name": "stdout",
     "output_type": "stream",
     "text": [
      "enter number: 12\n",
      "enter lower bound: 2\n",
      "enter upper bound: 20\n",
      "12 exists in given  range\n"
     ]
    }
   ],
   "source": [
    "#check if the number exist in the given range\n",
    "\n",
    "num=int(input(\"enter number: \"))\n",
    "low=int(input(\"enter lower bound: \"))\n",
    "upper=int(input(\"enter upper bound: \"))\n",
    "\n",
    "if low<=num<=upper:\n",
    "    print(num , \"exists in given  range\")\n",
    "else:\n",
    "    print(num, \"does not exist in a given range\")"
   ]
  },
  {
   "cell_type": "markdown",
   "metadata": {},
   "source": []
  },
  {
   "cell_type": "code",
   "execution_count": 10,
   "metadata": {},
   "outputs": [
    {
     "name": "stdout",
     "output_type": "stream",
     "text": [
      "enter number 4\n",
      "4 * 1 = 4\n",
      "4 * 2 = 8\n",
      "4 * 3 = 12\n",
      "4 * 4 = 16\n",
      "4 * 5 = 20\n",
      "4 * 6 = 24\n",
      "4 * 7 = 28\n",
      "4 * 8 = 32\n",
      "4 * 9 = 36\n",
      "4 * 10 = 40\n"
     ]
    }
   ],
   "source": [
    "#print table for a given number\n",
    "\n",
    "n1=int(input(\"enter number \"))\n",
    "for i in range(1,11):  #range function automatically start with index o, if we dont specify start index and end index is excluded\n",
    "        n4=n1*i\n",
    "        print(n1,'*',i,'=',n4)"
   ]
  },
  {
   "cell_type": "code",
   "execution_count": 11,
   "metadata": {},
   "outputs": [
    {
     "name": "stdout",
     "output_type": "stream",
     "text": [
      "enter number1: 12\n",
      "enter number2: 34\n",
      "enter which operation want to perform: +,-,/,*,%,**+\n",
      "12 + 34 = 46\n"
     ]
    }
   ],
   "source": [
    "#Calculator\n",
    "\n",
    "n1=int(input(\"enter number1: \"))\n",
    "n2=int(input(\"enter number2: \"))\n",
    "op=input(\"enter which operation want to perform: +,-,/,*,%,**\")\n",
    "\n",
    "\n",
    "if op=='+':\n",
    "    print(n1,'+',n2,'=',n1+n2)\n",
    "elif op=='-':   \n",
    "    print(n1,'-',n2,'=',n1-n2)\n",
    "elif op=='*':\n",
    "     print(n1,'*',n2,'=',n1*n2)\n",
    "elif op=='%':\n",
    "    print(n1,'%',n2,'=',n1%n2)\n",
    "elif op=='/':\n",
    "    print(n1,'/',n2,'=',n1/n2)\n",
    "else:\n",
    "    print(n1,'**',n2,'=',n1**n2)\n",
    "    "
   ]
  },
  {
   "cell_type": "markdown",
   "metadata": {},
   "source": [
    "Day Objectives\n",
    "\n",
    "* String slicing\n",
    "* Functions in Python\n",
    "* Basic Problems related to conditional statements using functions\n",
    "* Python Data Structures - List,Tuples, Dictionaries\n",
    "* Basic operations on data structures\n",
    "* Applying Data Structures to solve problems\n"
   ]
  },
  {
   "cell_type": "markdown",
   "metadata": {},
   "source": [
    "String Slicing"
   ]
  },
  {
   "cell_type": "code",
   "execution_count": 12,
   "metadata": {},
   "outputs": [
    {
     "data": {
      "text/plain": [
       "6"
      ]
     },
     "execution_count": 12,
     "metadata": {},
     "output_type": "execute_result"
    }
   ],
   "source": [
    "s1=\"python\"\n",
    "s1.count('p') #to count the character occurance in a given string\n",
    "s1.find('y') #to find character and returns index\n",
    "len(s1)\n",
    "#s1\n",
    "#s1[0:-1]   #Start index inclusive and end index exclusive\n",
    "#s1[-4]  #Accessing 4th element from the end of the list\n",
    "#s1[0] #Accessing the first element\n",
    "#s1[1] #Accessing the second element\n",
    "#s1[-1] #Accessing last element of the list\n",
    "#s1[1:-1] #Accessing other than 1st and last element\n",
    "#s1[-2:]   #starting from 2nd element backward to list ending \n",
    "#s1[len(s1)//2] #Accessing the middle element of the list\n",
    "#s1[::-1]  #Reverse of a string\n",
    "#s1[::2]  #accessing alternative elements\n"
   ]
  },
  {
   "cell_type": "code",
   "execution_count": 13,
   "metadata": {},
   "outputs": [
    {
     "name": "stdout",
     "output_type": "stream",
     "text": [
      "true\n"
     ]
    }
   ],
   "source": [
    "s=\"madam\"\n",
    "s1=s[::-1]\n",
    "if s==s1:\n",
    "    print(\"true\")\n",
    "else:\n",
    "    print(\"false\")\n",
    "    "
   ]
  },
  {
   "cell_type": "code",
   "execution_count": 14,
   "metadata": {},
   "outputs": [
    {
     "data": {
      "text/plain": [
       "'n'"
      ]
     },
     "execution_count": 14,
     "metadata": {},
     "output_type": "execute_result"
    }
   ],
   "source": [
    "s=\"mynam\" #Accessing middle of odd character string\n",
    "s[len(s)//2]"
   ]
  },
  {
   "cell_type": "code",
   "execution_count": 15,
   "metadata": {},
   "outputs": [
    {
     "name": "stdout",
     "output_type": "stream",
     "text": [
      "olleh\n"
     ]
    }
   ],
   "source": [
    "#Function to reverse a string\n",
    "\n",
    "def reverse(s): \n",
    "    r=s[::-1]\n",
    "    print(r)\n",
    "    \n",
    "reverse(\"hello\") "
   ]
  },
  {
   "cell_type": "code",
   "execution_count": 16,
   "metadata": {},
   "outputs": [
    {
     "name": "stdout",
     "output_type": "stream",
     "text": [
      "palindrome\n"
     ]
    }
   ],
   "source": [
    "#Function to check palindrome\n",
    "\n",
    "def pal(s):\n",
    "    if s==s[::-1]:\n",
    "        print(\"palindrome\")\n",
    "    else:\n",
    "        print(\"not a palindrome\")\n",
    "        \n",
    "pal(\"madam\")   "
   ]
  },
  {
   "cell_type": "code",
   "execution_count": 17,
   "metadata": {},
   "outputs": [
    {
     "name": "stdout",
     "output_type": "stream",
     "text": [
      "5\n"
     ]
    }
   ],
   "source": [
    "#Find the number of digits count \n",
    "\n",
    "def count(n):\n",
    "    print(len(str(n)))\n",
    "count(12345) "
   ]
  },
  {
   "cell_type": "code",
   "execution_count": 18,
   "metadata": {},
   "outputs": [
    {
     "data": {
      "text/plain": [
       "9999"
      ]
     },
     "execution_count": 18,
     "metadata": {},
     "output_type": "execute_result"
    }
   ],
   "source": [
    "#Greatest of 4 numbers\n",
    "\n",
    "def largest(a,b,c,d):\n",
    "    if a>b or a>c or a>d:\n",
    "        return a\n",
    "    elif b>c or b>d:\n",
    "        return b\n",
    "    elif c>d:\n",
    "        return c\n",
    "    else:\n",
    "        return d\n",
    "largest(12,345,567,9999)    \n",
    "    "
   ]
  },
  {
   "cell_type": "markdown",
   "metadata": {},
   "source": [
    "* Iteration\n",
    "* for loop\n",
    "* while loop\n",
    "* for i in range(1,10): o/p : 1....9"
   ]
  },
  {
   "cell_type": "code",
   "execution_count": 30,
   "metadata": {},
   "outputs": [
    {
     "name": "stdout",
     "output_type": "stream",
     "text": [
      "1 2 3 4 5 6 7 8 9 10 11 12 13 14 15 16 17 18 19 20 "
     ]
    }
   ],
   "source": [
    "#function to print natural numbers\n",
    "def natural(n):\n",
    "    for i in range(1,n+1):\n",
    "        print(i, end=\" \")\n",
    "natural(20)  "
   ]
  },
  {
   "cell_type": "code",
   "execution_count": 20,
   "metadata": {},
   "outputs": [
    {
     "data": {
      "text/plain": [
       "[12, 3]"
      ]
     },
     "execution_count": 20,
     "metadata": {},
     "output_type": "execute_result"
    }
   ],
   "source": [
    "n=[12,2,3,3]\n",
    "n[0:5:2]"
   ]
  },
  {
   "cell_type": "code",
   "execution_count": 21,
   "metadata": {},
   "outputs": [
    {
     "name": "stdout",
     "output_type": "stream",
     "text": [
      "20 22 24 26 28 30 32 34 36 38 40 42 44 46 48 50 "
     ]
    }
   ],
   "source": [
    "#function to print alternative numbers in a range\n",
    "\n",
    "def alternate(l,r):\n",
    "   for i in range(l,r+1,2):\n",
    "        print(i, end=\" \")\n",
    "alternate(20,50)  "
   ]
  },
  {
   "cell_type": "code",
   "execution_count": 22,
   "metadata": {},
   "outputs": [
    {
     "name": "stdout",
     "output_type": "stream",
     "text": [
      "10 9 8 7 6 5 4 3 2 1 "
     ]
    }
   ],
   "source": [
    "#function to print numbers in reverse order\n",
    "\n",
    "def printreverse(start,end):\n",
    "    for i in range(end,start-1,-1):\n",
    "        print(i,end=\" \")\n",
    "printreverse(1,10)   "
   ]
  },
  {
   "cell_type": "code",
   "execution_count": 23,
   "metadata": {},
   "outputs": [
    {
     "name": "stdout",
     "output_type": "stream",
     "text": [
      "19 17 15 13 11 "
     ]
    }
   ],
   "source": [
    "#print odd numbers in reverse order in a given range\n",
    "\n",
    "def odd(s,e):\n",
    "    for i in range(e,s-1,-1):\n",
    "        if i%2!=0:\n",
    "            print(i,end=\" \")\n",
    "odd(10,20)   "
   ]
  },
  {
   "cell_type": "code",
   "execution_count": 24,
   "metadata": {},
   "outputs": [
    {
     "data": {
      "text/plain": [
       "15150"
      ]
     },
     "execution_count": 24,
     "metadata": {},
     "output_type": "execute_result"
    }
   ],
   "source": [
    "#function to calculate sum of numbers in a given range\n",
    "\n",
    "def sum(s,e):\n",
    "    s1=0\n",
    "    for i in range(s,e+1):\n",
    "        s1=s1+i\n",
    "    return s1\n",
    "sum(100,200)    \n",
    "        "
   ]
  },
  {
   "cell_type": "code",
   "execution_count": 25,
   "metadata": {},
   "outputs": [
    {
     "name": "stdout",
     "output_type": "stream",
     "text": [
      "2.5\n"
     ]
    }
   ],
   "source": [
    "#average of numbers in a given range\n",
    "\n",
    "def avg(s,e):\n",
    "    s1=0\n",
    "    c=0\n",
    "    for i in range(s,e+1):\n",
    "        s1=s1+i\n",
    "        c=c+1\n",
    "    print(s1/c)\n",
    "\n",
    "avg(1,4)\n"
   ]
  },
  {
   "cell_type": "code",
   "execution_count": 26,
   "metadata": {},
   "outputs": [
    {
     "name": "stdout",
     "output_type": "stream",
     "text": [
      "2000 2004 2008 2012 2016 2020 "
     ]
    }
   ],
   "source": [
    "#function to generate leap years in a given range\n",
    "\n",
    "def leapy(s,e):\n",
    "    for i in range(s,e+1):\n",
    "        if i%400==0 or (i%4==0 and i%100!=0):\n",
    "            print(i,end=\" \")\n",
    "        \n",
    "leapy(2000,2020)     "
   ]
  },
  {
   "cell_type": "code",
   "execution_count": 27,
   "metadata": {},
   "outputs": [
    {
     "data": {
      "text/plain": [
       "True"
      ]
     },
     "execution_count": 27,
     "metadata": {},
     "output_type": "execute_result"
    }
   ],
   "source": [
    "s=\"a\"\n",
    "s.islower()"
   ]
  },
  {
   "cell_type": "code",
   "execution_count": 32,
   "metadata": {},
   "outputs": [
    {
     "name": "stdout",
     "output_type": "stream",
     "text": [
      "1 2 3 4 5 6 7 8 9 10 11 12 13 14 15 16 17 18 19 20 21 22 23 24 25 26 27 28 29 30 "
     ]
    }
   ],
   "source": [
    "#Print n natural numbers using while loop\n",
    "\n",
    "def natural(n):\n",
    "    i=1\n",
    "    while i<=n:\n",
    "        print(i,end=\" \")\n",
    "        i=i+1\n",
    "natural(30)        "
   ]
  },
  {
   "cell_type": "markdown",
   "metadata": {},
   "source": [
    "# **12th June 2019 Tasks**"
   ]
  },
  {
   "cell_type": "code",
   "execution_count": 36,
   "metadata": {},
   "outputs": [
    {
     "name": "stdout",
     "output_type": "stream",
     "text": [
      "18 24 30 36 42 48 54 60 66 72 78 84 90 96 102 108 114 120 126 132 138 144 150 156 162 168 174 180 186 192 198 "
     ]
    }
   ],
   "source": [
    "#Function to print all numbers divisible by 6 and not a factor of 100 in a given range(lb, ub) inclusive\n",
    "\n",
    "def func(lb,up):\n",
    "    for i in range(lb,up+1):\n",
    "        if i%6==0 and 100%i!=0:\n",
    "            print(i,end=\" \")\n",
    "func(15,200)            \n"
   ]
  },
  {
   "cell_type": "code",
   "execution_count": 37,
   "metadata": {},
   "outputs": [
    {
     "name": "stdout",
     "output_type": "stream",
     "text": [
      "6.0\n"
     ]
    }
   ],
   "source": [
    "#Function to find the average of cubes of all even numbers in a given range(lb, ub) inclusive\n",
    "\n",
    "def avg(lb,up):\n",
    "    sum=0\n",
    "    count=0\n",
    "    for i in range(lb,up+1):\n",
    "        if i%2==0:\n",
    "            sum=sum+i\n",
    "            count=count+1\n",
    "    print(sum/count)\n",
    "avg(1,10)    "
   ]
  },
  {
   "cell_type": "code",
   "execution_count": 47,
   "metadata": {},
   "outputs": [
    {
     "name": "stdout",
     "output_type": "stream",
     "text": [
      "1 2 5 10 "
     ]
    }
   ],
   "source": [
    "#Function to generate the list of factors for a given number\n",
    "\n",
    "def fac(n):\n",
    "    for i in range(1,n+1):\n",
    "        if n%i==0:\n",
    "            print(i,end=\" \")\n",
    "            \n",
    "            \n",
    "fac(10)            "
   ]
  },
  {
   "cell_type": "code",
   "execution_count": 66,
   "metadata": {},
   "outputs": [
    {
     "name": "stdout",
     "output_type": "stream",
     "text": [
      "120\n"
     ]
    }
   ],
   "source": [
    "#Function to calculate the factorial of a given number\n",
    "\n",
    "def factorial(n):\n",
    "    f=1\n",
    "    for i in range(1,n+1):\n",
    "        f=f*i\n",
    "    print(f)\n",
    "factorial(5)        "
   ]
  },
  {
   "cell_type": "code",
   "execution_count": 16,
   "metadata": {},
   "outputs": [
    {
     "name": "stdout",
     "output_type": "stream",
     "text": [
      "not a prime\n"
     ]
    }
   ],
   "source": [
    "#Function to check if a given number is Prime\n",
    "\n",
    "def prime(n):\n",
    "    count=0\n",
    "    for i in range(2,n//2+1):  #excluding 1 and that number\n",
    "        if n%i==0:\n",
    "            count=count+1\n",
    "    if n==1:\n",
    "        print(\"not a prime\")\n",
    "    elif  count==0:\n",
    "        print(\"prime\")\n",
    "    else:\n",
    "        print(\"not a prime\")\n",
    "        \n",
    "prime(9)        "
   ]
  },
  {
   "cell_type": "code",
   "execution_count": 11,
   "metadata": {},
   "outputs": [
    {
     "name": "stdout",
     "output_type": "stream",
     "text": [
      "6 28 496 "
     ]
    }
   ],
   "source": [
    "# Function to generate all perfect numbers in a given range\n",
    " \n",
    "       \n",
    "def isperfect(num):\n",
    "    sum=0\n",
    "    for i in range(1,num):\n",
    "        if num%i==0:\n",
    "            sum=sum+i\n",
    "    if num==sum:\n",
    "        return True\n",
    "    else:\n",
    "        return False\n",
    "        \n",
    "        \n",
    "def generateperfect(lb,up):\n",
    "    for i in range(lb,up+1):\n",
    "        if  isperfect(i):\n",
    "            print(i,end=\" \")\n",
    "            \n",
    "generateperfect(1,1000)   \n",
    "\n",
    "\n",
    "            "
   ]
  },
  {
   "cell_type": "code",
   "execution_count": 22,
   "metadata": {},
   "outputs": [
    {
     "name": "stdout",
     "output_type": "stream",
     "text": [
      "10 * 100 = 1000\n",
      "10 * 101 = 1010\n",
      "10 * 102 = 1020\n"
     ]
    }
   ],
   "source": [
    "#Function to generate Multiplication table for a number in a given range\n",
    "#10 in the range(100, 102) inclusive\n",
    "#10 x 100 = 1000\n",
    "#10 x 101 = 1010\n",
    "#10 x 102 = 1020\n",
    "\n",
    "def mul(l,r,n):\n",
    "    for i in range(l,r+1):\n",
    "        f=i*n\n",
    "        print(n,'*',i,'=',f)\n",
    "mul(100,102,10)     "
   ]
  },
  {
   "cell_type": "code",
   "execution_count": 8,
   "metadata": {},
   "outputs": [
    {
     "name": "stdout",
     "output_type": "stream",
     "text": [
      "371\n"
     ]
    },
    {
     "data": {
      "text/plain": [
       "True"
      ]
     },
     "execution_count": 8,
     "metadata": {},
     "output_type": "execute_result"
    }
   ],
   "source": [
    "# Function to check armstrong or not\n",
    "\n",
    "def armstrong(n):\n",
    "    s=0\n",
    "    num=n\n",
    "    while num!=0:\n",
    "        r=num%10\n",
    "        s=s+(r*r*r)\n",
    "        num=num//10\n",
    "    print(s)\n",
    "    if s==n:\n",
    "        return True\n",
    "    else:\n",
    "        return False\n",
    "    \n",
    "armstrong(371)  "
   ]
  },
  {
   "cell_type": "code",
   "execution_count": null,
   "metadata": {},
   "outputs": [],
   "source": [
    "# Function to generate N odd amstrong number in a given range  (******)"
   ]
  },
  {
   "cell_type": "code",
   "execution_count": 7,
   "metadata": {},
   "outputs": [
    {
     "name": "stdout",
     "output_type": "stream",
     "text": [
      "245 3 81.66666666666667\n"
     ]
    }
   ],
   "source": [
    "#Function to calculate average of all factorials in a given range (****)\n",
    "\n",
    "def factorial(l,r):\n",
    "    f=1\n",
    "    s=0\n",
    "    count=0\n",
    "    for i in range(l,r+1):\n",
    "        f=f*i\n",
    "        count=count+1\n",
    "        s=s+f\n",
    "    print(s,count,s/count)    \n",
    "            \n",
    "factorial(5,7)    "
   ]
  },
  {
   "cell_type": "code",
   "execution_count": null,
   "metadata": {},
   "outputs": [],
   "source": [
    "#Function to calculate the average first N Prime numbers(****)\n",
    "\n",
    "def prime(num):\n",
    "    r=num\n",
    "    flag=1\n",
    "    count=0\n",
    "    sum=0\n",
    "    for i in range(2,r+1):\n",
    "        if n==2:\n",
    "            return True\n",
    "        for j in range(2,n//2+1):\n",
    "            if n%j==0:\n",
    "                flag=0\n",
    "                return False\n",
    "            if flag==1: \n",
    "                sum=sum+j\n",
    "                count=count+1\n",
    "        print(sum/count) \n",
    "        \n",
    "        \n",
    "prime(10)    "
   ]
  },
  {
   "cell_type": "code",
   "execution_count": 44,
   "metadata": {},
   "outputs": [
    {
     "name": "stdout",
     "output_type": "stream",
     "text": [
      "2\n"
     ]
    }
   ],
   "source": [
    "num=12\n",
    "print(len(str(num)))"
   ]
  },
  {
   "cell_type": "code",
   "execution_count": 45,
   "metadata": {},
   "outputs": [
    {
     "data": {
      "text/plain": [
       "1"
      ]
     },
     "execution_count": 45,
     "metadata": {},
     "output_type": "execute_result"
    }
   ],
   "source": [
    "12//10"
   ]
  }
 ],
 "metadata": {
  "kernelspec": {
   "display_name": "Python 3",
   "language": "python",
   "name": "python3"
  },
  "language_info": {
   "codemirror_mode": {
    "name": "ipython",
    "version": 3
   },
   "file_extension": ".py",
   "mimetype": "text/x-python",
   "name": "python",
   "nbconvert_exporter": "python",
   "pygments_lexer": "ipython3",
   "version": "3.7.3"
  }
 },
 "nbformat": 4,
 "nbformat_minor": 2
}
