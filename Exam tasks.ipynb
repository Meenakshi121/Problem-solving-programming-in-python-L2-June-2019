{
 "cells": [
  {
   "cell_type": "code",
   "execution_count": null,
   "metadata": {},
   "outputs": [],
   "source": [
    "#read input until EXIT and print all even numbers and max of even number\n",
    "\n",
    "i/p    o/p\n",
    "32     32 76\n",
    "89     76\n",
    "76\n",
    "11\n",
    "EXIT\n",
    "56"
   ]
  },
  {
   "cell_type": "code",
   "execution_count": 9,
   "metadata": {},
   "outputs": [
    {
     "name": "stdout",
     "output_type": "stream",
     "text": [
      "32\n",
      "89\n",
      "76\n",
      "11\n",
      "EXIT\n",
      "32 76\n",
      "76\n"
     ]
    }
   ],
   "source": [
    "li=[]\n",
    "while True:\n",
    "    n=input()\n",
    "    if n==\"EXIT\":\n",
    "        break\n",
    "    elif int(n)%2==0:\n",
    "        li.append(n)\n",
    "print(\" \".join(map(str,li)))\n",
    "#for i in li:\n",
    " #   print(i,end=\" \")\n",
    "print(max(li))"
   ]
  },
  {
   "cell_type": "code",
   "execution_count": 10,
   "metadata": {},
   "outputs": [
    {
     "name": "stdout",
     "output_type": "stream",
     "text": [
      "32\n",
      "32 89\n",
      "76\n",
      "76 11\n",
      "EXIT\n"
     ]
    }
   ],
   "source": [
    "while True:\n",
    "    n=input()\n",
    "    if n==\"EXIT\":\n",
    "        break\n",
    "    elif int(n)%2==0:\n",
    "        print(n,end=\" \")"
   ]
  },
  {
   "cell_type": "code",
   "execution_count": null,
   "metadata": {},
   "outputs": [],
   "source": [
    "#question 2\n",
    "\n",
    "https://google.com\n",
    "facebook.com\n",
    "amazon.in\n",
    "krish.edu.in\n",
    "facebook1.com\n"
   ]
  },
  {
   "cell_type": "code",
   "execution_count": 11,
   "metadata": {},
   "outputs": [
    {
     "data": {
      "text/plain": [
       "'in'"
      ]
     },
     "execution_count": 11,
     "metadata": {},
     "output_type": "execute_result"
    }
   ],
   "source": [
    "s=\"krish.edu.in\"\n",
    "words=s.split('.')\n",
    "words[-1]\n"
   ]
  },
  {
   "cell_type": "code",
   "execution_count": 15,
   "metadata": {},
   "outputs": [
    {
     "name": "stdout",
     "output_type": "stream",
     "text": [
      "3\n",
      "djjdj.com\n",
      "dhehd.in\n",
      "hejdj.com\n",
      "{'com': 2, 'in': 1}\n",
      "com\n"
     ]
    }
   ],
   "source": [
    "n=int(input())\n",
    "d={}\n",
    "for i in range(n):\n",
    "    s=input().split('.')[-1]\n",
    "    if s in d:\n",
    "        d[s] += 1\n",
    "    else:\n",
    "        d[s]=1\n",
    "print(d)\n",
    "    \n",
    "m=max(list(d.values()))\n",
    "\n",
    "for k,v in d.items():\n",
    "    if v==m:\n",
    "        print(k)"
   ]
  }
 ],
 "metadata": {
  "kernelspec": {
   "display_name": "Python 3",
   "language": "python",
   "name": "python3"
  },
  "language_info": {
   "codemirror_mode": {
    "name": "ipython",
    "version": 3
   },
   "file_extension": ".py",
   "mimetype": "text/x-python",
   "name": "python",
   "nbconvert_exporter": "python",
   "pygments_lexer": "ipython3",
   "version": "3.7.3"
  }
 },
 "nbformat": 4,
 "nbformat_minor": 2
}
