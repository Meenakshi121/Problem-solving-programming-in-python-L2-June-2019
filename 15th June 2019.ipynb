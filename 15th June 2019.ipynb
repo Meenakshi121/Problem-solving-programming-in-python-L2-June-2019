{
 "cells": [
  {
   "cell_type": "markdown",
   "metadata": {},
   "source": [
    "Hackerearth problems"
   ]
  },
  {
   "cell_type": "code",
   "execution_count": 2,
   "metadata": {},
   "outputs": [
    {
     "name": "stdout",
     "output_type": "stream",
     "text": [
      "3\n",
      "6\n"
     ]
    }
   ],
   "source": [
    "#Factorial\n",
    "\n",
    "#You have been given a positive integer N. You need to find and print the Factorial of this number. The Factorial of a positive integer N refers to the product of all number in the range from 1 to N. You can read more about the factorial of a number here.\n",
    "\n",
    "#Input Format:\n",
    "#The first and only line of the input contains a single integer N denoting the number whose factorial you need to find.\n",
    "\n",
    "#Output Format\n",
    "#Output a single line denoting the factorial of the number N.\n",
    "\n",
    "def factorial(n):\n",
    "    f=1\n",
    "    for i in range(1,n+1):\n",
    "        f=f*i\n",
    "    print(f)\n",
    "    \n",
    "n=int(input())    \n",
    "factorial(n)    \n"
   ]
  },
  {
   "cell_type": "code",
   "execution_count": null,
   "metadata": {},
   "outputs": [],
   "source": []
  },
  {
   "cell_type": "code",
   "execution_count": 5,
   "metadata": {},
   "outputs": [
    {
     "name": "stdout",
     "output_type": "stream",
     "text": [
      "9\n",
      "2 3 5 7 "
     ]
    }
   ],
   "source": [
    "#Prime number\n",
    "#You are given an integer N. You need to print the series of all prime numbers till N.\n",
    "\n",
    "#Input Format\n",
    "#The first and only line of the input contains a single integer N denoting the number till where you need to find the series of prime number.\n",
    "\n",
    "#Output Format\n",
    "#Print the desired output in single line separated by spaces.\n",
    "\n",
    "#Constraints\n",
    "#1<=N<=1000\n",
    "#SAMPLE INPUT \n",
    "9\n",
    "#SAMPLE OUTPUT \n",
    "#2 3 5 7\n",
    "\n",
    "def primenumbers(lb,ub):\n",
    "   for num in range(lb,ub + 1):\n",
    "       if num > 1:\n",
    "           for i in range(2, num):\n",
    "               if (num % i) == 0:\n",
    "                   break\n",
    "           else:\n",
    "               print(num, end = ' ')\n",
    "n=int(input())\n",
    "               \n",
    "primenumbers(1,n)\n",
    "            \n",
    "            "
   ]
  },
  {
   "cell_type": "code",
   "execution_count": null,
   "metadata": {},
   "outputs": [],
   "source": []
  },
  {
   "cell_type": "code",
   "execution_count": 6,
   "metadata": {},
   "outputs": [
    {
     "name": "stdout",
     "output_type": "stream",
     "text": [
      "aba\n",
      "YES\n"
     ]
    }
   ],
   "source": [
    "#Palindromic string\n",
    "#You have been given a String S. You need to find and print whether this string is a palindrome or not. If yes, print \"YES\" (without quotes), else print \"NO\" (without quotes).\n",
    "\n",
    "#Input Format\n",
    "#The first and only line of input contains the String S. The String shall consist of lowercase English alphabets only.\n",
    "\n",
    "#Output Format\n",
    "#Print the required answer on a single line.\n",
    "\n",
    "#Constraints \n",
    "#Note\n",
    "#String S consists of lowercase English Alphabets only.\n",
    "\n",
    "#SAMPLE INPUT \n",
    "#aba\n",
    "#SAMPLE OUTPUT \n",
    "#YES\n",
    "\n",
    "str1=input()\n",
    "str2=str1[::-1]\n",
    "if str1==str2:\n",
    "    print(\"YES\")\n",
    "else:\n",
    "    print(\"NO\")\n",
    "    \n",
    "    "
   ]
  },
  {
   "cell_type": "code",
   "execution_count": null,
   "metadata": {},
   "outputs": [],
   "source": []
  },
  {
   "cell_type": "code",
   "execution_count": 8,
   "metadata": {},
   "outputs": [
    {
     "name": "stdout",
     "output_type": "stream",
     "text": [
      "1 10 1\n",
      "10\n"
     ]
    }
   ],
   "source": [
    "#Count Divisors\n",
    "\n",
    "#You have been given 3 integers - l, r and k. Find how many numbers between l and r (both inclusive) are divisible by k. You do not need to print these numbers, you just have to find their count.\n",
    "\n",
    "#Input Format\n",
    "#The first and only line of input contains 3 space separated integers l, r and k.\n",
    "\n",
    "#Output Format\n",
    "#Print the required answer on a single line.\n",
    "\n",
    "#SAMPLE INPUT \n",
    "#1 10 1\n",
    "#SAMPLE OUTPUT \n",
    "#10\n",
    "\n",
    "\n",
    "def divisors(l,r,k):\n",
    "    count=0\n",
    "    for i in range(l,r+1):\n",
    "        if i%k==0:\n",
    "            count=count+1\n",
    "    print(count)\n",
    "    return\n",
    "    \n",
    "s=input()\n",
    "s=s.split()\n",
    "\n",
    "l=int(s[0])\n",
    "r=int(s[1])\n",
    "k=int(s[2])\n",
    "divisors(l,r,k)\n"
   ]
  },
  {
   "cell_type": "code",
   "execution_count": null,
   "metadata": {},
   "outputs": [],
   "source": []
  },
  {
   "cell_type": "code",
   "execution_count": 9,
   "metadata": {},
   "outputs": [
    {
     "data": {
      "text/plain": [
       "'HELLO world'"
      ]
     },
     "execution_count": 9,
     "metadata": {},
     "output_type": "execute_result"
    }
   ],
   "source": [
    "#Function to Toggle string characters\n",
    "\n",
    "#You have been given a String S consisting of uppercase and lowercase English alphabets. You need to change the case of each alphabet in this String. That is, all the uppercase letters should be converted to lowercase and all the lowercase letters should be converted to uppercase. You need to then print the resultant String to output.\n",
    "\n",
    "#Input Format\n",
    "#The first and only line of input contains the String S\n",
    "\n",
    "#Output Format\n",
    "#Print the resultant String on a single line.\n",
    "\n",
    "#Constraints\n",
    " #where S denotes the length of string S.\n",
    "\n",
    "#SAMPLE INPUT \n",
    "#abcdE\n",
    "#SAMPLE OUTPUT \n",
    "#ABCDe\n",
    "\n",
    "def toggleString(s):\n",
    "    #Convert the string into a list of characters\n",
    "    #s=list(s)\n",
    "    t=[]\n",
    "    for c in s:\n",
    "        if c.islower():\n",
    "            t.append(c.upper())\n",
    "        else:\n",
    "            t.append(c.lower())\n",
    "    return \"\".join(t)        \n",
    "toggleString(\"hello WORLD\")    "
   ]
  },
  {
   "cell_type": "code",
   "execution_count": null,
   "metadata": {},
   "outputs": [],
   "source": []
  },
  {
   "cell_type": "code",
   "execution_count": 10,
   "metadata": {},
   "outputs": [
    {
     "name": "stdout",
     "output_type": "stream",
     "text": [
      "3\n",
      "sumit mitsu\n",
      "YES\n",
      "abhi hibb\n",
      "NO\n",
      "ambuj jumba\n",
      "YES\n"
     ]
    }
   ],
   "source": [
    "#Two Strings\n",
    "#Given two strings of equal length, you have to tell whether they both strings are identical.\n",
    "\n",
    "#Two strings S1 and S2 are said to be identical, if any of the permutation of string S1 is equal to the string S2. See Sample explanation for more details.\n",
    "\n",
    "#Input :\n",
    "#First line, contains an intger 'T' denoting no. of test cases.\n",
    "#Each test consists of a single line, containing two space separated strings S1 and S2 of equal length.\n",
    "#Output:\n",
    "\n",
    "#For each test case, if any of the permutation of string S1 is equal to the string S2 print YES else print NO.\n",
    "#Constraints:\n",
    "#1<= T <=100\n",
    "#1<= |S1| = |S2| <= 10^5\n",
    "#String is made up of lower case letters only.\n",
    "#Note : Use Hashing Concept Only . Try to do it in O(string length) .\n",
    "\n",
    "#SAMPLE INPUT \n",
    "#3\n",
    "#sumit mitsu\n",
    "#ambuj jumba\n",
    "#abhi hibb\n",
    "#SAMPLE OUTPUT \n",
    "#YES\n",
    "#YES\n",
    "#NO\n",
    "\n",
    "\n",
    "n=int(input())\n",
    "for i in range(1,n+1):\n",
    "    s=input().split()\n",
    "    s1=s[0]\n",
    "    s2=s[1]\n",
    "    if sorted(s1)==sorted(s2):\n",
    "        print(\"YES\")\n",
    "    else:\n",
    "        print(\"NO\")\n",
    "   "
   ]
  },
  {
   "cell_type": "code",
   "execution_count": null,
   "metadata": {},
   "outputs": [],
   "source": []
  },
  {
   "cell_type": "code",
   "execution_count": 12,
   "metadata": {},
   "outputs": [
    {
     "name": "stdout",
     "output_type": "stream",
     "text": [
      "2\n",
      "1 44 2 14\n",
      "0 30\n",
      "2 42 8 23\n",
      "5 41\n"
     ]
    }
   ],
   "source": [
    "#Duration\n",
    "#Rahul is a very busy persion he dont wan't to waste his time . He keeps account of duration of each and every work. Now he don't even get time to calculate duration of works, So your job is to count the durations for each work and give it to rahul.\n",
    "\n",
    "#Input:\n",
    "#First line will be given by N number of works\n",
    "#Next N line will be given SH,SM,EH and EM  each separated by space(SH=starting hr, SM=starting min, EH=ending hr, EM=ending min)\n",
    "#Output:\n",
    "#N lines with duration HH MM(hours and minutes separated by space)\n",
    "#SAMPLE INPUT \n",
    "#2\n",
    "#1 44 2 14\n",
    "#2 42 8 23\n",
    "#SAMPLE OUTPUT \n",
    "#0 30\n",
    "#5 41\n",
    "\n",
    "n=int(input())  \n",
    "def calhours(sh,sm,eh,em):\n",
    "    em=em+60\n",
    "    eh=eh-1\n",
    "    m=em-sm\n",
    "    h=eh-sh\n",
    "    if m>=60:\n",
    "        h=h+1\n",
    "        m=m-60\n",
    "    print(h,m)\n",
    "       \n",
    "for i in range(n):\n",
    "    s=input()\n",
    "    s=s.split()\n",
    "    sh=int(s[0])\n",
    "    sm=int(s[1])\n",
    "    eh=int(s[2])\n",
    "    em=int(s[3])\n",
    "    calhours(sh,sm,eh,em)\n",
    "    "
   ]
  },
  {
   "cell_type": "code",
   "execution_count": null,
   "metadata": {},
   "outputs": [],
   "source": []
  },
  {
   "cell_type": "code",
   "execution_count": null,
   "metadata": {},
   "outputs": [],
   "source": [
    "#Char Sum\n",
    "\n",
    "#Consider All lowercase Alphabets of the English language. Here we consider each alphabet from a to z to have a certain weight. The weight of the alphabet a is considered to be 1, b to be 2, c to be 3 and so on until z has a weight of 26. In short, the weight of the alphabet a is 1, and the weight of all other alphabets is the weight of its previous alphabet + 1.\n",
    "#Now, you have been given a String S consisting of lowercase English characters. You need to find the summation of weight of each character in this String.\n",
    "\n",
    "For example, Consider the String aba\n",
    "\n",
    "Here, the first character a has a weight of 1, the second character b has 2 and the third character a again has a weight of 1. So the summation here is equal to : 1+2+1=4\n",
    "\n",
    "Input Format:\n",
    "\n",
    "The first and only line of input contains the String S.\n",
    "\n",
    "Output Format:\n",
    "\n",
    "Print the required answer on a single line\n",
    "\n",
    "Constraints:\n",
    "\n",
    "1≤|S|≤100\n",
    "\n",
    "SAMPLE INPUT \n",
    "aba\n",
    "SAMPLE OUTPUT \n",
    "4\n",
    "\n",
    "s=input()\n",
    "s=list(s)\n",
    "sum=0\n",
    "for i in s:\n",
    "    sum+=ord(i)-(ord('a')-1)\n",
    "print(sum)\n",
    "    "
   ]
  }
 ],
 "metadata": {
  "kernelspec": {
   "display_name": "Python 3",
   "language": "python",
   "name": "python3"
  },
  "language_info": {
   "codemirror_mode": {
    "name": "ipython",
    "version": 3
   },
   "file_extension": ".py",
   "mimetype": "text/x-python",
   "name": "python",
   "nbconvert_exporter": "python",
   "pygments_lexer": "ipython3",
   "version": "3.7.3"
  }
 },
 "nbformat": 4,
 "nbformat_minor": 2
}
