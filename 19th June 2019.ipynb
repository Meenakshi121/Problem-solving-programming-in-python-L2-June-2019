{
 "cells": [
  {
   "cell_type": "code",
   "execution_count": null,
   "metadata": {},
   "outputs": [],
   "source": [
    "Hackerearth Problems"
   ]
  },
  {
   "cell_type": "markdown",
   "metadata": {},
   "source": [
    "Find Product\n",
    "\n",
    "You have been given an array A of size N consisting of positive integers. You need to find and print the product of all the number in this array Modulo .\n",
    "\n",
    "Input Format:\n",
    "The first line contains a single integer N denoting the size of the array. The next line contains N space separated integers denoting the elements of the array\n",
    "\n",
    "Output Format:\n",
    "Print a single integer denoting the product of all the elements of the array Modulo .\n",
    "\n",
    "Constraints:\n",
    "\n",
    "\n",
    "SAMPLE INPUT \n",
    "5\n",
    "1 2 3 4 5\n",
    "SAMPLE OUTPUT \n",
    "120\n"
   ]
  },
  {
   "cell_type": "code",
   "execution_count": 1,
   "metadata": {},
   "outputs": [
    {
     "name": "stdout",
     "output_type": "stream",
     "text": [
      "5\n",
      "1 2 3 4 5\n",
      "120\n"
     ]
    }
   ],
   "source": [
    "def printProduct(arr):\n",
    "    ans=1\n",
    "    for i in range(0,n):\n",
    "        ans=(ans*arr[i])%((10**9)+7)\n",
    "    print(ans)\n",
    "    \n",
    "n=int(input())\n",
    "arr=[]\n",
    "ele=input().split()\n",
    "for i in ele:\n",
    "    arr.append(int(i))\n",
    "\n",
    "printProduct(arr)"
   ]
  },
  {
   "cell_type": "code",
   "execution_count": null,
   "metadata": {},
   "outputs": [],
   "source": []
  },
  {
   "cell_type": "markdown",
   "metadata": {},
   "source": [
    "Hello\n",
    "\n",
    "Kirti is new to programming and she doesn't know how to code. Can you write a code, which would print \"Hello Kirti\" on the screen.\n",
    "\n",
    "SAMPLE INPUT \n",
    "SAMPLE OUTPUT \n",
    "Hello Kirti\n"
   ]
  },
  {
   "cell_type": "code",
   "execution_count": 2,
   "metadata": {},
   "outputs": [
    {
     "name": "stdout",
     "output_type": "stream",
     "text": [
      "Hello Kirti\n"
     ]
    }
   ],
   "source": [
    "print(\"Hello Kirti\")"
   ]
  },
  {
   "cell_type": "code",
   "execution_count": null,
   "metadata": {},
   "outputs": [],
   "source": []
  },
  {
   "cell_type": "markdown",
   "metadata": {},
   "source": [
    "Goki and his breakup\n",
    "\n",
    "Goki recently had a breakup, so he wants to have some more friends in his life. Goki has N people who he can be friends with, so he decides to choose among them according to their skills set Yi(1<=i<=n). He wants atleast X skills in his friends.\n",
    "Help Goki find his friends.\n",
    "\n",
    " INPUT\n",
    "First line of the input contains an integer N denoting the number of people.\n",
    "\n",
    "Next line contains a single integer X - denoting the minimum skill required to be Goki's friend. \n",
    "\n",
    "Next n lines contain one integer Y - denoting the skill of ith person.\n",
    "\n",
    "OUTPUT\n",
    "For each person print if he can be friend with Goki. 'YES' (without quotes) if he can be friends with Goki else 'NO' (without quotes).\n",
    "\n",
    "CONSTRAINTS\n",
    "\n",
    "1<=N<=1000000\n",
    "1<=X,Y<=1000000\n",
    "\n",
    "SAMPLE INPUT \n",
    "5\n",
    "100\n",
    "110\n",
    "130\n",
    "90\n",
    "100\n",
    "45\n",
    "SAMPLE OUTPUT \n",
    "YES\n",
    "YES\n",
    "NO\n",
    "YES\n",
    "NO\n",
    "Explanation\n",
    "X is 100, so the first query is 110, so as 110 is greater than 100 answer is YES.\n",
    "\n"
   ]
  },
  {
   "cell_type": "code",
   "execution_count": 1,
   "metadata": {},
   "outputs": [
    {
     "name": "stdout",
     "output_type": "stream",
     "text": [
      "5\n",
      "100\n",
      "110\n",
      "YES\n",
      "130\n",
      "YES\n",
      "90\n",
      "NO\n",
      "100\n",
      "YES\n",
      "45\n",
      "NO\n"
     ]
    }
   ],
   "source": [
    "def frnds(s):\n",
    "    for i in range(0,n):\n",
    "        if s>=x:\n",
    "            return True\n",
    "        else:\n",
    "            return False\n",
    "    \n",
    "n=int(input())\n",
    "x=int(input())\n",
    "for i in range(0,n):\n",
    "    s=int(input())\n",
    "    a=frnds(s) \n",
    "    if a==True:\n",
    "        print(\"YES\")\n",
    "    else:\n",
    "        print(\"NO\")\n",
    " \n",
    "    "
   ]
  },
  {
   "cell_type": "code",
   "execution_count": null,
   "metadata": {},
   "outputs": [],
   "source": []
  },
  {
   "cell_type": "code",
   "execution_count": null,
   "metadata": {},
   "outputs": [],
   "source": []
  }
 ],
 "metadata": {
  "kernelspec": {
   "display_name": "Python 3",
   "language": "python",
   "name": "python3"
  },
  "language_info": {
   "codemirror_mode": {
    "name": "ipython",
    "version": 3
   },
   "file_extension": ".py",
   "mimetype": "text/x-python",
   "name": "python",
   "nbconvert_exporter": "python",
   "pygments_lexer": "ipython3",
   "version": "3.7.3"
  }
 },
 "nbformat": 4,
 "nbformat_minor": 2
}
