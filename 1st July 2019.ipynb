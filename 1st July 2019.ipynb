{
 "cells": [
  {
   "cell_type": "markdown",
   "metadata": {},
   "source": [
    "* Pandas is a high-level data manipulation tool developed by Wes McKinney.\n",
    "* It is built on the Numpy package and its key data structure is called the DataFrame. \n",
    "* DataFrames allow you to store and manipulate tabular data in rows of observations and columns of variables."
   ]
  },
  {
   "cell_type": "code",
   "execution_count": 9,
   "metadata": {},
   "outputs": [
    {
     "name": "stdout",
     "output_type": "stream",
     "text": [
      "        country    capital    area  population\n",
      "0        Brazil   Brasilia   8.516      200.40\n",
      "1        Russia     Moscow  17.100      143.50\n",
      "2         India  New Dehli   3.286     1252.00\n",
      "3         China    Beijing   9.597     1357.00\n",
      "4  South Africa   Pretoria   1.221       52.98\n"
     ]
    }
   ],
   "source": [
    "# Reading CSV file data\n",
    "\n",
    "dic = {\"country\": [\"Brazil\", \"Russia\", \"India\", \"China\", \"South Africa\"],\n",
    "       \"capital\": [\"Brasilia\", \"Moscow\", \"New Dehli\", \"Beijing\", \"Pretoria\"],\n",
    "       \"area\": [8.516, 17.10, 3.286, 9.597, 1.221],\n",
    "       \"population\": [200.4, 143.5, 1252, 1357, 52.98] }\n",
    "\n",
    "import pandas as pd\n",
    "brics=pd.DataFrame(dic)\n",
    "print(brics)"
   ]
  },
  {
   "cell_type": "code",
   "execution_count": 10,
   "metadata": {},
   "outputs": [
    {
     "name": "stdout",
     "output_type": "stream",
     "text": [
      "         country    capital    area  population\n",
      "BR        Brazil   Brasilia   8.516      200.40\n",
      "RU        Russia     Moscow  17.100      143.50\n",
      "IN         India  New Dehli   3.286     1252.00\n",
      "CH         China    Beijing   9.597     1357.00\n",
      "SA  South Africa   Pretoria   1.221       52.98\n"
     ]
    }
   ],
   "source": [
    "# Set the index for brics\n",
    "brics.index = [\"BR\", \"RU\", \"IN\", \"CH\", \"SA\"]\n",
    "\n",
    "# Print out brics with new index values\n",
    "print(brics)"
   ]
  },
  {
   "cell_type": "code",
   "execution_count": 11,
   "metadata": {},
   "outputs": [
    {
     "data": {
      "text/html": [
       "<div>\n",
       "<style scoped>\n",
       "    .dataframe tbody tr th:only-of-type {\n",
       "        vertical-align: middle;\n",
       "    }\n",
       "\n",
       "    .dataframe tbody tr th {\n",
       "        vertical-align: top;\n",
       "    }\n",
       "\n",
       "    .dataframe thead th {\n",
       "        text-align: right;\n",
       "    }\n",
       "</style>\n",
       "<table border=\"1\" class=\"dataframe\">\n",
       "  <thead>\n",
       "    <tr style=\"text-align: right;\">\n",
       "      <th></th>\n",
       "      <th>GEOID</th>\n",
       "      <th>State</th>\n",
       "      <th>2005</th>\n",
       "      <th>2006</th>\n",
       "      <th>2007</th>\n",
       "      <th>2008</th>\n",
       "      <th>2009</th>\n",
       "      <th>2010</th>\n",
       "      <th>2011</th>\n",
       "      <th>2012</th>\n",
       "      <th>2013</th>\n",
       "    </tr>\n",
       "  </thead>\n",
       "  <tbody>\n",
       "    <tr>\n",
       "      <th>0</th>\n",
       "      <td>04000US01</td>\n",
       "      <td>Alabama</td>\n",
       "      <td>37150</td>\n",
       "      <td>37952</td>\n",
       "      <td>42212</td>\n",
       "      <td>44476</td>\n",
       "      <td>39980</td>\n",
       "      <td>40933</td>\n",
       "      <td>42590</td>\n",
       "      <td>43464</td>\n",
       "      <td>41381</td>\n",
       "    </tr>\n",
       "    <tr>\n",
       "      <th>1</th>\n",
       "      <td>04000US02</td>\n",
       "      <td>Alaska</td>\n",
       "      <td>55891</td>\n",
       "      <td>56418</td>\n",
       "      <td>62993</td>\n",
       "      <td>63989</td>\n",
       "      <td>61604</td>\n",
       "      <td>57848</td>\n",
       "      <td>57431</td>\n",
       "      <td>63648</td>\n",
       "      <td>61137</td>\n",
       "    </tr>\n",
       "    <tr>\n",
       "      <th>2</th>\n",
       "      <td>04000US04</td>\n",
       "      <td>Arizona</td>\n",
       "      <td>45245</td>\n",
       "      <td>46657</td>\n",
       "      <td>62993</td>\n",
       "      <td>46914</td>\n",
       "      <td>45739</td>\n",
       "      <td>46896</td>\n",
       "      <td>48621</td>\n",
       "      <td>47044</td>\n",
       "      <td>50602</td>\n",
       "    </tr>\n",
       "    <tr>\n",
       "      <th>3</th>\n",
       "      <td>04000US05</td>\n",
       "      <td>Arkansas</td>\n",
       "      <td>36658</td>\n",
       "      <td>37057</td>\n",
       "      <td>40795</td>\n",
       "      <td>39586</td>\n",
       "      <td>36538</td>\n",
       "      <td>38587</td>\n",
       "      <td>41302</td>\n",
       "      <td>39018</td>\n",
       "      <td>39919</td>\n",
       "    </tr>\n",
       "    <tr>\n",
       "      <th>4</th>\n",
       "      <td>04000US06</td>\n",
       "      <td>California</td>\n",
       "      <td>51755</td>\n",
       "      <td>55319</td>\n",
       "      <td>55734</td>\n",
       "      <td>57014</td>\n",
       "      <td>56134</td>\n",
       "      <td>54283</td>\n",
       "      <td>53367</td>\n",
       "      <td>57020</td>\n",
       "      <td>57528</td>\n",
       "    </tr>\n",
       "  </tbody>\n",
       "</table>\n",
       "</div>"
      ],
      "text/plain": [
       "       GEOID       State   2005   2006   2007   2008   2009   2010   2011  \\\n",
       "0  04000US01     Alabama  37150  37952  42212  44476  39980  40933  42590   \n",
       "1  04000US02      Alaska  55891  56418  62993  63989  61604  57848  57431   \n",
       "2  04000US04     Arizona  45245  46657  62993  46914  45739  46896  48621   \n",
       "3  04000US05    Arkansas  36658  37057  40795  39586  36538  38587  41302   \n",
       "4  04000US06  California  51755  55319  55734  57014  56134  54283  53367   \n",
       "\n",
       "    2012   2013  \n",
       "0  43464  41381  \n",
       "1  63648  61137  \n",
       "2  47044  50602  \n",
       "3  39018  39919  \n",
       "4  57020  57528  "
      ]
     },
     "execution_count": 11,
     "metadata": {},
     "output_type": "execute_result"
    }
   ],
   "source": [
    "\n",
    "# Reading CSV file data\n",
    "import pandas as pd\n",
    "filepath = 'datafiles/income.csv'\n",
    "incomedf = pd.read_csv(filepath)\n",
    "incomedf"
   ]
  },
  {
   "cell_type": "code",
   "execution_count": 12,
   "metadata": {},
   "outputs": [
    {
     "name": "stdout",
     "output_type": "stream",
     "text": [
      "47588.67925925926\n"
     ]
    }
   ],
   "source": [
    "# Combined Average Income of all states from 2005 to 2013\n",
    "def income_of_all_states():\n",
    "    s = 0\n",
    "    c = 0\n",
    "    li=[]\n",
    "    for i in range(0,5):\n",
    "        for j in range(2,11):\n",
    "            s += incomedf.values[i][j]\n",
    "            c+=1\n",
    "        f=s/c\n",
    "        li.append(f)\n",
    "    avg=sum(li)/len(li)\n",
    "    print(avg)\n",
    "    \n",
    "        #g=incomedf.values[i][1]\n",
    "        #d[g]=f\n",
    "        #print(incomedf.values[i][1],\":\",f)\n",
    "        \n",
    "\n",
    "income_of_all_states()"
   ]
  },
  {
   "cell_type": "code",
   "execution_count": 13,
   "metadata": {},
   "outputs": [
    {
     "name": "stdout",
     "output_type": "stream",
     "text": [
      "Alaska : 51608.5\n"
     ]
    }
   ],
   "source": [
    "# function to print highest income in last 3 years\n",
    "def high_avg_income_in_last_Nyears(n):\n",
    "    sum = 0\n",
    "    c=0\n",
    "    d={}\n",
    "    for i in range(0,5):\n",
    "        for j in range(-1,-n-1,-1): \n",
    "            sum += incomedf.values[i][j]\n",
    "            c+=1\n",
    "        #print(c)\n",
    "        f=sum/c\n",
    "        g=incomedf.values[i][1]\n",
    "        d[g]=f\n",
    "    \n",
    "    #print(d)\n",
    "    for i in d:\n",
    "        if d[i]==max(d.values()):\n",
    "            print(i,\":\",d[i])\n",
    "            #return i\n",
    "high_avg_income_in_last_Nyears(3)"
   ]
  },
  {
   "cell_type": "code",
   "execution_count": 14,
   "metadata": {},
   "outputs": [
    {
     "data": {
      "text/plain": [
       "4"
      ]
     },
     "execution_count": 14,
     "metadata": {},
     "output_type": "execute_result"
    }
   ],
   "source": [
    "def get_column_index(df,columnkey):\n",
    "    columnindex=0\n",
    "    for i in range(len(df.columns)):\n",
    "        if df.columns[i]==columnkey:\n",
    "            columnindex=i\n",
    "    \n",
    "    return columnindex\n",
    "get_column_index(incomedf,\"2007\")\n",
    "#print(incomedf.columns)"
   ]
  },
  {
   "cell_type": "code",
   "execution_count": 24,
   "metadata": {},
   "outputs": [
    {
     "name": "stdout",
     "output_type": "stream",
     "text": [
      "Alabama : 41900.25\n"
     ]
    }
   ],
   "source": [
    "# State with lowest average income from 2007 to 2010(inclusive)\n",
    "def lowest_avg_income_between_any2years(a,b):  # used also to print highest avg between two years\n",
    "    sum = 0\n",
    "    a=get_column_index(incomedf,str(a))\n",
    "    b=get_column_index(incomedf,str(b))\n",
    "    c=0\n",
    "    d={}\n",
    "    for i in range(0,5):\n",
    "        for j in range(a,b+1):\n",
    "            sum += incomedf.values[i][j]\n",
    "            c+=1\n",
    "        #print(c)\n",
    "        f=sum/c\n",
    "        g=incomedf.values[i][1]\n",
    "        d[g]=f\n",
    "    #print(d)\n",
    "    for i in d:\n",
    "        if d[i]==min(d.values()):\n",
    "            print(i,\":\",d[i])\n",
    "            #return i\n",
    "lowest_avg_income_between_any2years(2007,2010)"
   ]
  },
  {
   "cell_type": "code",
   "execution_count": 20,
   "metadata": {},
   "outputs": [
    {
     "name": "stdout",
     "output_type": "stream",
     "text": [
      "47588.67925925926\n",
      "Alabama,Arkansas,"
     ]
    }
   ],
   "source": [
    "# Print the list of all states in the same line with average income less than California\n",
    "def average_income_lessthan_perticularstate(a):\n",
    "    sum = 0\n",
    "    c=0\n",
    "    d={}\n",
    "    for i in range(0,5):\n",
    "        for j in range(2,11):\n",
    "            sum += incomedf.values[i][j]\n",
    "            c+=1\n",
    "        f=sum/c\n",
    "        g=incomedf.values[i][1]\n",
    "        d[g]=f\n",
    "    a=d[a]\n",
    "    for i in d:\n",
    "        if d[i]<a:\n",
    "            print(i,end=\",\")\n",
    "        #print(incomedf.values[i][1],\":\",f)\n",
    "        \n",
    "\n",
    "income_of_all_states()\n",
    "average_income_lessthan_perticularstate(\"California\")\n",
    "#incomedf"
   ]
  },
  {
   "cell_type": "code",
   "execution_count": 25,
   "metadata": {},
   "outputs": [
    {
     "name": "stdout",
     "output_type": "stream",
     "text": [
      "Alaska California Arizona Alabama Arkansas "
     ]
    }
   ],
   "source": [
    "# function to  Print the names of states based on descending order of income in the year 2009\n",
    "\n",
    "def descending_order_of_income(a):\n",
    "    a=get_column_index(incomedf,str(a))\n",
    "    d={}\n",
    "    for i in range(0,5):\n",
    "        b=incomedf.values[i][1]\n",
    "        d[b]=incomedf.values[i][a]\n",
    "    #print(d)\n",
    "    l=sorted(d.values())\n",
    "    for i in range(-1,-len(l)-1,-1):\n",
    "        for j in d:\n",
    "            if d[j]==l[i]:\n",
    "                print(j,end=\" \")\n",
    "        \n",
    "        \n",
    "descending_order_of_income(2009)"
   ]
  },
  {
   "cell_type": "code",
   "execution_count": 26,
   "metadata": {},
   "outputs": [
    {
     "name": "stdout",
     "output_type": "stream",
     "text": [
      "[1, 3, 3, 5, 5, 7, 9, 9]\n"
     ]
    }
   ],
   "source": [
    "incomedf.values[0][1]\n",
    "get_column_index(incomedf,\"2009\")\n",
    "l=[1,9,3,5,3,7,9,5,]\n",
    "print(sorted(l))"
   ]
  },
  {
   "cell_type": "code",
   "execution_count": 23,
   "metadata": {},
   "outputs": [
    {
     "name": "stdout",
     "output_type": "stream",
     "text": [
      "Arkansas\n"
     ]
    }
   ],
   "source": [
    "# function to print State with the lowest recorded income from 2005 to 2013\n",
    "def lowest_income_state():\n",
    "    a=[]\n",
    "    for row in incomedf.values:\n",
    "        a.append(min(row[2:]))\n",
    "    #print(min(a))\n",
    "    for i in range(0,5):\n",
    "        for j in range(2,11):\n",
    "            if incomedf.values[i][j]==min(a):\n",
    "                print(incomedf.values[i][1])\n",
    "lowest_income_state()"
   ]
  }
 ],
 "metadata": {
  "kernelspec": {
   "display_name": "Python 3",
   "language": "python",
   "name": "python3"
  },
  "language_info": {
   "codemirror_mode": {
    "name": "ipython",
    "version": 3
   },
   "file_extension": ".py",
   "mimetype": "text/x-python",
   "name": "python",
   "nbconvert_exporter": "python",
   "pygments_lexer": "ipython3",
   "version": "3.7.3"
  }
 },
 "nbformat": 4,
 "nbformat_minor": 2
}
