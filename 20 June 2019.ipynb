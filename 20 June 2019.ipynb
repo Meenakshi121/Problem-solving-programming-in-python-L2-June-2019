{
 "cells": [
  {
   "cell_type": "markdown",
   "metadata": {},
   "source": [
    "# Day Objectives-20 June 2019\n",
    "* Regular Expressions\n",
    "    * Constructing Regular expressions for various use cases\n",
    "    * Regular expression Module and related in python\n",
    "    * Improving the contact application with name,phone number validation using regular expressions\n",
    "* File Handling\n",
    "    * Text Files\n",
    "    * Upgrading the contacts Application to store contact information in a text file"
   ]
  },
  {
   "cell_type": "code",
   "execution_count": 2,
   "metadata": {},
   "outputs": [
    {
     "data": {
      "text/plain": [
       "3"
      ]
     },
     "execution_count": 2,
     "metadata": {},
     "output_type": "execute_result"
    }
   ],
   "source": [
    "import math\n",
    "math.ceil(2.8)"
   ]
  },
  {
   "cell_type": "markdown",
   "metadata": {},
   "source": [
    "# Regular Expression\n",
    "\n",
    "Reference -> <https://docs.python.org/3/library/re.html>\n",
    "\n",
    "Practice Online -> <https://regex101.com/>\n",
    "\n",
    "Files in python reference -> <https://www.programiz.com/python-programming/file-operation>"
   ]
  },
  {
   "cell_type": "code",
   "execution_count": null,
   "metadata": {},
   "outputs": [],
   "source": [
    "#### Regular Expressions\n",
    "\n",
    "- Pattern Matching\n",
    "- Symboilc Notation of a pattern\n",
    "    - Pattern : Format which repeats\n",
    "    - Pattern(RE) represents the set of all values ,which  matches a pattern\n",
    "    \n",
    "- [0-9] -> Any digit  \n",
    "\n",
    "- [a-z] -> Any lower case alphabet\n",
    "\n",
    "- [2468] -> All single digit multiple of 2\n",
    "\n",
    "- ^[0-9]{1}$ -> only single digit number\n",
    "\n",
    "- ^[0-9]{3}$ -> only 3 digits number\n",
    "\n",
    "- ^[1-9][0-9]*0$  -> all multiples of 10\n",
    "\n",
    "- ^[1-9][0-9]*[05]$ ->  all multiples of 5 other than 5\n",
    "\n",
    "- ^([1-9][0-9]*[05])$|^([5])$  -> all multiples of 5\n",
    "\n",
    "-   ^[1-9][0-9]{9}$  -> all 10 digit numbers      \n",
    "\n",
    "    [0-9]*  --> repeat [0-9] zero or more\n",
    "    [0-9]+ --> repeat [0-9] 1 or more\n",
    "    \n",
    "    \n",
    "    Email validation (username@domain.extension)\n",
    "  ^[1-9][0-9]*[0||5]$                  \n",
    "\n",
    "\n"
   ]
  },
  {
   "cell_type": "code",
   "execution_count": null,
   "metadata": {},
   "outputs": [],
   "source": [
    "Searching for a word\n",
    "\n",
    "[w][o][r][d] or (word)\n",
    "\n",
    "[p][r][i][n][t]$  --> to highlight only print\n",
    "(print)            --> to highlight only print\n",
    "\n",
    "\n",
    "print\n",
    "printing\n",
    "printer\n",
    "78678print"
   ]
  },
  {
   "cell_type": "code",
   "execution_count": null,
   "metadata": {},
   "outputs": [],
   "source": [
    "validating indian phone number (india)(start with 9876)\n",
    "\n",
    "^[6-9][0-9]{9}$|^[0][6-9][0-9]{9}$|^[+][9][1][6-9][0-9]{9}$\n",
    "\n",
    "9877886788\n",
    "6777889000\n",
    "7887788999\n",
    "8667889900\n",
    "1344667788\n",
    "09989776655\n",
    "+918435747996"
   ]
  },
  {
   "cell_type": "code",
   "execution_count": null,
   "metadata": {},
   "outputs": [],
   "source": [
    "Email Validation (username@domain.extension)\n",
    "- Username\n",
    "    - username length: [6,21]\n",
    "    - No special characters other than _ . \n",
    "    - should not begin or end with _ .\n",
    "    - character set:all digits,lower case alphabets _ .\n",
    "- Domain\n",
    "    -domain length: [3,18]\n",
    "    - no special characters\n",
    "    - character set: all digits, lower case alphabets\n",
    "- extension\n",
    "    -extension length:[2,4]  \n",
    "    -No special characters\n",
    "    -character set: only lower case alphabet\n",
    "        "
   ]
  },
  {
   "cell_type": "code",
   "execution_count": null,
   "metadata": {},
   "outputs": [],
   "source": [
    "^[0-9a-z][0-9a-z_.]{4,13}[0-9a-z][@][a-z0-9]{3,18}[.][a-z]{2,4}$\n",
    "\n",
    "meenaks@gmail.com"
   ]
  },
  {
   "cell_type": "code",
   "execution_count": null,
   "metadata": {},
   "outputs": [],
   "source": [
    "Any string of length 5 that starts with 'a' and ends with z\n",
    "\n",
    "^[a]...[z]$  # dot represents any character\n",
    "\n",
    "abcdz\n",
    "a%^&z\n",
    "a123z\n",
    "aaazz\n",
    "azzzz"
   ]
  },
  {
   "cell_type": "code",
   "execution_count": null,
   "metadata": {},
   "outputs": [],
   "source": [
    "^[a].*[z]$   #.* means any character zero or more times\n",
    "\n",
    "aghhhhhhhhvz\n",
    "ahjkkkkkkkkkkk7666666666z"
   ]
  },
  {
   "cell_type": "code",
   "execution_count": 19,
   "metadata": {},
   "outputs": [
    {
     "data": {
      "text/plain": [
       "True"
      ]
     },
     "execution_count": 19,
     "metadata": {},
     "output_type": "execute_result"
    }
   ],
   "source": [
    "#Function to validate a phone number\n",
    "\n",
    "import re\n",
    "\n",
    "\n",
    "def phoneNumberValidator(number):    \n",
    "    pattern='^[6-9][0-9]{9}$|^[0][6-9][0-9]{9}$|^[+][9][1][6-9][0-9]{9}$'\n",
    "    if re.match(pattern,str(number)):\n",
    "        return True\n",
    "    return False\n",
    "\n",
    "\n",
    "def emailValidator(email):\n",
    "    pattern1='^[0-9a-z][0-9a-z_.]{4,13}[0-9a-z][@][a-z0-9]{3,18}[.][a-z]{2,4}$'\n",
    "    if re.match(pattern1,email):\n",
    "        return True\n",
    "    return False\n",
    "\n",
    "#print(phoneNumberValidator(9550817745))  \n",
    "#print(phoneNumberValidator(955081774545667)) \n",
    "emailValidator(\"re_12345@gmail.com\")"
   ]
  },
  {
   "cell_type": "code",
   "execution_count": null,
   "metadata": {},
   "outputs": [],
   "source": []
  },
  {
   "cell_type": "code",
   "execution_count": 37,
   "metadata": {},
   "outputs": [
    {
     "name": "stdout",
     "output_type": "stream",
     "text": [
      "name8 added successfully\n"
     ]
    }
   ],
   "source": [
    "contacts={\"name5\":[7656567865,'name5@domain.ext'],\"name6\":[8076567865,'name6@gmail.com']}\n",
    "\n",
    "\n",
    "def addContact(name,phone,email):\n",
    "    #Verify that the contact doesnot already exist in dictionary\n",
    "    if name in contacts:\n",
    "        print(name,\"already exist\")\n",
    "    else:\n",
    "        if not phoneNumberValidator(phone):\n",
    "            print(\"Invalid phone number\")\n",
    "            return\n",
    "        if  not emailValidator(email):\n",
    "            print(\"Invalid email\")\n",
    "            return\n",
    "        newcontact =[]\n",
    "        newcontact.append(phone)\n",
    "        newcontact.append(email)\n",
    "        contacts[name]=newcontact\n",
    "        print(name,\"added successfully\")\n",
    "    return        \n",
    "       \n",
    "addContact(\"name8\",\"8550817749\",\"himasree210@gmail.com\")    "
   ]
  },
  {
   "cell_type": "code",
   "execution_count": 39,
   "metadata": {},
   "outputs": [
    {
     "name": "stdout",
     "output_type": "stream",
     "text": [
      "name8\n",
      "phone: 8550817749\n",
      "Email: himasree210@gmail.com\n"
     ]
    }
   ],
   "source": [
    "def searchContacts(name):\n",
    "    if name in contacts:\n",
    "        print(name)\n",
    "        print(\"phone:\",contacts[name][0])\n",
    "        print(\"Email:\",contacts[name][1])\n",
    "    else:\n",
    "        print(\"%s does not exist\" %name)\n",
    "    return\n",
    "              \n",
    "searchContacts(\"name8\") "
   ]
  },
  {
   "cell_type": "code",
   "execution_count": 40,
   "metadata": {},
   "outputs": [
    {
     "name": "stdout",
     "output_type": "stream",
     "text": [
      "1 contacts added successfully\n"
     ]
    }
   ],
   "source": [
    "def importContacts(newContacts):\n",
    "    contacts.update(newContacts)\n",
    "    print(len(newContacts.keys()),\"contacts added successfully\")\n",
    "    return\n",
    "          \n",
    "newContacts={\"name10\":[7612345687,'name10@domain.ext']}   \n",
    "importContacts(newContacts) "
   ]
  },
  {
   "cell_type": "code",
   "execution_count": 41,
   "metadata": {},
   "outputs": [
    {
     "data": {
      "text/plain": [
       "{'name5': [7656567865, 'name5@domain.ext'],\n",
       " 'name6': [8076567865, 'name6@gmail.com'],\n",
       " 'name8': ['8550817749', 'himasree210@gmail.com'],\n",
       " 'name10': [7612345687, 'name10@domain.ext']}"
      ]
     },
     "execution_count": 41,
     "metadata": {},
     "output_type": "execute_result"
    }
   ],
   "source": [
    "contacts"
   ]
  },
  {
   "cell_type": "code",
   "execution_count": 44,
   "metadata": {},
   "outputs": [
    {
     "name": "stdout",
     "output_type": "stream",
     "text": [
      "name5 \n",
      " phone: 7656567865 \n",
      " name5@domain.ext\n",
      "name6 \n",
      " phone: 8076567865 \n",
      " name6@gmail.com\n",
      "name8 \n",
      " phone: 8550817749 \n",
      " himasree210@gmail.com\n",
      "name10 \n",
      " phone: 7612345687 \n",
      " name10@domain.ext\n"
     ]
    }
   ],
   "source": [
    "def listAllContacts():   #Displaying all contacts using function\n",
    "    for contact,info in contacts.items():  #For every key,info in dictionary\n",
    "        print(contact ,\"\\n\",\"phone:\",info[0],\"\\n\",info[1])\n",
    "        \n",
    "    \n",
    "listAllContacts()    "
   ]
  },
  {
   "cell_type": "code",
   "execution_count": 53,
   "metadata": {},
   "outputs": [
    {
     "name": "stdout",
     "output_type": "stream",
     "text": [
      "contact edited successfully\n",
      "name10 \n",
      " phone: 6788889876 \n",
      " meeeenuhhh@gmail.com\n"
     ]
    }
   ],
   "source": [
    "#Function to edit contact information\n",
    "\n",
    "def editContact(name,phone,email):\n",
    "        if name in contacts:\n",
    "            contacts[name][0]=phone\n",
    "            contacts[name][1]=email\n",
    "            print(\"contact edited successfully\")\n",
    "            print(name,\"\\n\",\"phone:\",phone,\"\\n\",email)\n",
    "        else:\n",
    "            print(name ,\"does not exist\")\n",
    "        return\n",
    "\n",
    "editContact(\"name10\",\"6788889876\",\"meeeenuhhh@gmail.com\")"
   ]
  },
  {
   "cell_type": "code",
   "execution_count": null,
   "metadata": {},
   "outputs": [],
   "source": []
  },
  {
   "cell_type": "markdown",
   "metadata": {},
   "source": [
    "#### File Handling in python\n",
    "\n",
    "File - Document containing information residing on the permanent storage\n",
    "Types -Text,PDF,CSV etc\n",
    "\n",
    "File I/O - Channelling I/O data to files\n",
    "Default I/O Channels -Keyboard/Screen\n",
    "\n",
    "Change I/O channel to files for Reading and Writing\n",
    "\n",
    "Read a file - Input\n",
    "Write to a file - Output\n",
    "\n",
    "Read/Write file-open(filename,mode)\n"
   ]
  },
  {
   "cell_type": "code",
   "execution_count": 61,
   "metadata": {},
   "outputs": [
    {
     "name": "stdout",
     "output_type": "stream",
     "text": [
      "Line1\n",
      "Line2\n",
      "Line3\n"
     ]
    }
   ],
   "source": [
    "#Function to read a file\n",
    "\n",
    "def readFile(filename):\n",
    "    f=open(filename,'r')\n",
    "    filedata=f.read()\n",
    "    f.close()\n",
    "    return filedata\n",
    "\n",
    "filename='DataFiles/data.txt'\n",
    "for line in readFile(filename).split('\\n'):\n",
    "    print(line)"
   ]
  },
  {
   "cell_type": "code",
   "execution_count": 74,
   "metadata": {},
   "outputs": [
    {
     "name": "stdout",
     "output_type": "stream",
     "text": [
      "Hello\n"
     ]
    }
   ],
   "source": [
    "def printFileDataLines(filename):\n",
    "    f=open(filename,'r')\n",
    "    for line in f:\n",
    "        print(line)\n",
    "    return\n",
    "    f.close()\n",
    "printFileDataLines(filename)"
   ]
  },
  {
   "cell_type": "code",
   "execution_count": null,
   "metadata": {},
   "outputs": [],
   "source": [
    "with open(filename,'r') as f #instead of using close() to close a file"
   ]
  },
  {
   "cell_type": "code",
   "execution_count": 72,
   "metadata": {},
   "outputs": [
    {
     "name": "stdout",
     "output_type": "stream",
     "text": [
      "Hello\n"
     ]
    }
   ],
   "source": [
    "print(readFile(filename))"
   ]
  },
  {
   "cell_type": "markdown",
   "metadata": {},
   "source": [
    "\n"
   ]
  },
  {
   "cell_type": "code",
   "execution_count": 80,
   "metadata": {},
   "outputs": [],
   "source": [
    "#Writing data into files (1st )\n",
    "\n",
    "def writeFile(filename,filedata):\n",
    "    f=open(filename,'w')   #w mode will Overwrite the data, removes existing data and add new data to file\n",
    "    f.write(filedata)\n",
    "    f.close()\n",
    "    \n",
    "filename='DataFiles/data.txt'\n",
    "writeFile(filename,\"hello world\")\n"
   ]
  },
  {
   "cell_type": "code",
   "execution_count": 89,
   "metadata": {},
   "outputs": [],
   "source": [
    "#Writing data into files (2nd )\n",
    "\n",
    "def writeFile(filename,filedata):\n",
    "    with open(filename,'w') as f:\n",
    "        f.write(filedata)\n",
    "    return \n",
    "    \n",
    "filename='DataFiles/data.txt'\n",
    "writeFile(filename,\"how are you?\")\n",
    "#Output will be shown in file"
   ]
  },
  {
   "cell_type": "code",
   "execution_count": 91,
   "metadata": {},
   "outputs": [],
   "source": [
    "#Function to append data into file (1st)\n",
    "\n",
    "def appendFile(filename,filedata):\n",
    "    with open(filename,'a') as f:\n",
    "        f.write(filedata)\n",
    "    return\n",
    "        \n",
    "filename='DataFiles/data.txt'\n",
    "filedata=\"\\n I am fine ,thank you \\n very thanks\"\n",
    "appendFile(filename ,filedata)     "
   ]
  },
  {
   "cell_type": "code",
   "execution_count": 92,
   "metadata": {},
   "outputs": [],
   "source": [
    "#Function to append data into file (2nd)\n",
    "\n",
    "def appendFile(filename,filedata):\n",
    "    with open(filename,'a') as f:\n",
    "        for line in filedata:\n",
    "            f.write('\\n'+line)\n",
    "    return\n",
    "        \n",
    "filename='DataFiles/data.txt'\n",
    "filedata=[\"keerthi\",\"meeenu\"]\n",
    "appendFile(filename ,filedata) "
   ]
  },
  {
   "cell_type": "code",
   "execution_count": null,
   "metadata": {},
   "outputs": [],
   "source": []
  }
 ],
 "metadata": {
  "kernelspec": {
   "display_name": "Python 3",
   "language": "python",
   "name": "python3"
  }
 },
 "nbformat": 4,
 "nbformat_minor": 2
}
