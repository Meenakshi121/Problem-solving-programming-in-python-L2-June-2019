{
 "cells": [
  {
   "cell_type": "markdown",
   "metadata": {},
   "source": [
    "# Assessment Tasks"
   ]
  },
  {
   "cell_type": "code",
   "execution_count": 9,
   "metadata": {},
   "outputs": [
    {
     "name": "stdout",
     "output_type": "stream",
     "text": [
      "no of digits  3\n",
      "no of characters 5\n"
     ]
    }
   ],
   "source": [
    "#Number of digits and characters in a given string\n",
    "\n",
    "def co(s):\n",
    "    count=0\n",
    "    count1=0\n",
    "    for i in s:\n",
    "        if i.isdigit():\n",
    "            count=count+1\n",
    "        elif  i.isalpha():\n",
    "            count1=count1+1\n",
    "    print(\"no of digits \" ,count) \n",
    "    print(\"no of characters\" , count1)\n",
    "\n",
    "co(\"hello123\")    "
   ]
  },
  {
   "cell_type": "code",
   "execution_count": 2,
   "metadata": {},
   "outputs": [
    {
     "name": "stdout",
     "output_type": "stream",
     "text": [
      "3\n",
      "6\n",
      "YES\n",
      "28\n",
      "YES\n",
      "27\n",
      "NO\n"
     ]
    }
   ],
   "source": [
    "#Program to determine whether a number is equal to sum of its positive divisors\n",
    "\n",
    "def isperfect(num):\n",
    "    sum=0\n",
    "    for i in range(1,num):\n",
    "        if num%i==0:\n",
    "            sum=sum+i\n",
    "    if num==sum:\n",
    "        print(\"YES\")\n",
    "    else:\n",
    "        print(\"NO\")  \n",
    "        \n",
    "n=int(input())\n",
    "for i in range(0,n):\n",
    "    num=int(input())\n",
    "    isperfect(num)\n",
    "         "
   ]
  },
  {
   "cell_type": "code",
   "execution_count": 23,
   "metadata": {},
   "outputs": [
    {
     "name": "stdout",
     "output_type": "stream",
     "text": [
      "3\n"
     ]
    }
   ],
   "source": [
    "#Highest Remainder\n",
    "\n",
    "def highestRemainder(n):\n",
    "    hr=0\n",
    "    v=n\n",
    "    for i in range(n-1,n//2,-1):\n",
    "        r=n%i\n",
    "        if r>hr:\n",
    "            hr=r\n",
    "            v=i\n",
    "    print(v)        \n",
    "highestRemainder(5)       "
   ]
  },
  {
   "cell_type": "code",
   "execution_count": 20,
   "metadata": {},
   "outputs": [
    {
     "name": "stdout",
     "output_type": "stream",
     "text": [
      "2\n",
      "3\n",
      "6\n",
      "YES\n",
      "3\n",
      "NO\n",
      "1\n",
      "NO\n"
     ]
    }
   ],
   "source": [
    "#Special number\n",
    "#A special number is a number ,which has distinct prime factors\n",
    "\n",
    "#Function to determine if a number is special number or not\n",
    "def isSpecialNumber(n,p):\n",
    "    if (numberPrimeFactors(n))>=p:\n",
    "        return True\n",
    "    else:\n",
    "        return False\n",
    "        \n",
    "#Function to check if number is prime\n",
    "def isPrime(n):   \n",
    "    flag=1   \n",
    "    if n==2:\n",
    "        return True\n",
    "    for i in range(2,n//2 + 1):  #For any number, after half of number you wont get any factors eg 100 ,after 50 ,wont have factors\n",
    "        if n%i==0:\n",
    "            flag=0\n",
    "            return False\n",
    "    if flag==1:\n",
    "        return True\n",
    "\n",
    "#Function to determine number of prime factors for a given number\n",
    "def numberPrimeFactors(n):\n",
    "    if isPrime(n):\n",
    "        return 1\n",
    "    count=0\n",
    "    for i in range(2,n//2+1):\n",
    "        if isPrime(i) and n%i==0:\n",
    "            count+=1\n",
    "    return count #total number of prime factors        \n",
    "\n",
    "\n",
    "\n",
    "def solution():\n",
    "    p=int(input())\n",
    "    t=int(input())\n",
    "    for j in range(0,t):\n",
    "        n=int(input())\n",
    "        if isSpecialNumber(n,p):\n",
    "            print(\"YES\")\n",
    "        else:\n",
    "            print(\"NO\")\n",
    "            \n",
    "solution()\n",
    "\n",
    "        "
   ]
  },
  {
   "cell_type": "code",
   "execution_count": 24,
   "metadata": {},
   "outputs": [
    {
     "data": {
      "text/plain": [
       "'meena'"
      ]
     },
     "execution_count": 24,
     "metadata": {},
     "output_type": "execute_result"
    }
   ],
   "source": [
    "s=\"meena\"\n",
    "s.islower()\n",
    "\n",
    "s.lower()  #Convert a character to lowercase\n",
    "s.upper()  #convert a character to uppercase\n",
    "s.split(\" \")\n",
    "list(s)\n",
    "s=list(s)\n",
    "\"\".join(s)"
   ]
  },
  {
   "cell_type": "code",
   "execution_count": 25,
   "metadata": {},
   "outputs": [
    {
     "data": {
      "text/plain": [
       "'HELLO world'"
      ]
     },
     "execution_count": 25,
     "metadata": {},
     "output_type": "execute_result"
    }
   ],
   "source": [
    "#Function to Toggle string characters\n",
    "\n",
    "def toggleString(s):\n",
    "    #Convert the string into a list of characters\n",
    "    #s=list(s)\n",
    "    t=[]\n",
    "    for c in s:\n",
    "        if c.islower():\n",
    "            t.append(c.upper())\n",
    "        else:\n",
    "            t.append(c.lower())\n",
    "    return \"\".join(t)        \n",
    "toggleString(\"hello WORLD\") "
   ]
  },
  {
   "cell_type": "code",
   "execution_count": 26,
   "metadata": {},
   "outputs": [
    {
     "data": {
      "text/plain": [
       "'HELLO world'"
      ]
     },
     "execution_count": 26,
     "metadata": {},
     "output_type": "execute_result"
    }
   ],
   "source": [
    "def toggleString(s):\n",
    "    #Convert the string into a list of characters\n",
    "    #s=list(s)\n",
    "    t=\"\"\n",
    "    for c in s:\n",
    "        if c.islower():\n",
    "            t += c.upper()\n",
    "        else:\n",
    "            t += c.lower()\n",
    "    return t        \n",
    "toggleString(\"hello WORLD\") "
   ]
  }
 ],
 "metadata": {
  "kernelspec": {
   "display_name": "Python 3",
   "language": "python",
   "name": "python3"
  },
  "language_info": {
   "codemirror_mode": {
    "name": "ipython",
    "version": 3
   },
   "file_extension": ".py",
   "mimetype": "text/x-python",
   "name": "python",
   "nbconvert_exporter": "python",
   "pygments_lexer": "ipython3",
   "version": "3.7.3"
  }
 },
 "nbformat": 4,
 "nbformat_minor": 2
}
