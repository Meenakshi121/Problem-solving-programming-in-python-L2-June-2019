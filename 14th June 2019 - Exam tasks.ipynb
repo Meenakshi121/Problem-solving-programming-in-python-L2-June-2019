{
 "cells": [
  {
   "cell_type": "markdown",
   "metadata": {},
   "source": [
    "14th June 2019 (Exam tasks)"
   ]
  },
  {
   "cell_type": "code",
   "execution_count": 2,
   "metadata": {},
   "outputs": [
    {
     "name": "stdout",
     "output_type": "stream",
     "text": [
      "4\n"
     ]
    },
    {
     "data": {
      "text/plain": [
       "30"
      ]
     },
     "execution_count": 2,
     "metadata": {},
     "output_type": "execute_result"
    }
   ],
   "source": [
    "# Sum of squares of first N numbers\n",
    "\n",
    "num=int(input())\n",
    "\n",
    "def sumsquares(num):\n",
    "    sum=0\n",
    "    for i in range(1,num+1):\n",
    "        sum=sum+i**2\n",
    "    return sum\n",
    "\n",
    "sumsquares(num)"
   ]
  },
  {
   "cell_type": "code",
   "execution_count": null,
   "metadata": {},
   "outputs": [],
   "source": []
  },
  {
   "cell_type": "code",
   "execution_count": null,
   "metadata": {},
   "outputs": [],
   "source": [
    "# given a integer array A of size N. \n",
    "#print the value closest to 0. if there are multiple elements print the largest element.\n",
    "\n",
    "\n",
    "INPUT FORMAT\n",
    "The first line contains a single interger N The next line contains N space separated lines\n",
    "\n",
    "Explanation\n",
    "li = [3, 2, -1, -2, -3] --> original list\n",
    "sort the data\n",
    "li = [-3, -2, -1, 2, 3] --> sorted list\n",
    "pl = [1, 2, 2, 3, 3] --> Positive list\n",
    "pl[0] --> check if this number is -ve or +ve in the list\n",
    "if pl[0] in li:\n",
    "return pl[0]\n",
    "else\n",
    "return pl[0]"
   ]
  },
  {
   "cell_type": "code",
   "execution_count": 7,
   "metadata": {},
   "outputs": [
    {
     "name": "stdout",
     "output_type": "stream",
     "text": [
      "4\n",
      "-9 69 10 -10\n"
     ]
    },
    {
     "data": {
      "text/plain": [
       "-9"
      ]
     },
     "execution_count": 7,
     "metadata": {},
     "output_type": "execute_result"
    }
   ],
   "source": [
    "# given a integer array A of size N. \n",
    "#print the value closest to 0. if there are multiple elements print the largest element.\n",
    "\n",
    "\n",
    "n=int(input())\n",
    "ele=input().split()\n",
    "li=[]\n",
    "for i in ele:\n",
    "    li.append(int(i))\n",
    "            \n",
    "def numberCloseToZero(li):\n",
    "    if 0 in li:\n",
    "        return 0\n",
    "    else:\n",
    "        li.sort()\n",
    "        pcount=[]\n",
    "        ncount=[]\n",
    "        for i in li:\n",
    "            if i>0:\n",
    "                pcount.append(i)\n",
    "            else:\n",
    "                ncount.append(i)\n",
    "                \n",
    "        if len(ncount)==0:\n",
    "            return min(pcount)\n",
    "        elif len(pcount)==0:\n",
    "            return max(ncount)\n",
    "        else:\n",
    "            nn=max(ncount)\n",
    "            pp=min(pcount)\n",
    "            if abs(nn)>pp or abs(nn)==pp:\n",
    "                return pp\n",
    "            else:\n",
    "                return nn    \n",
    "    \n",
    "\n",
    "numberCloseToZero(li)  \n",
    "\n"
   ]
  },
  {
   "cell_type": "code",
   "execution_count": null,
   "metadata": {},
   "outputs": [],
   "source": []
  },
  {
   "cell_type": "code",
   "execution_count": 5,
   "metadata": {},
   "outputs": [
    {
     "data": {
      "text/plain": [
       "49"
      ]
     },
     "execution_count": 5,
     "metadata": {},
     "output_type": "execute_result"
    }
   ],
   "source": [
    "# given 3 numbers a,b,c.\n",
    "#write a program to find the largest number which is less than or equal to C\n",
    "# and leaves a reminder b when divided by a. if not print -1\n",
    "\n",
    "def large(a,b,c):\n",
    "    for i in range(c,a-1,-1):\n",
    "        if i%a==b:\n",
    "            return i  \n",
    "    return -1\n",
    "             \n",
    "large(3,1,50)"
   ]
  }
 ],
 "metadata": {
  "kernelspec": {
   "display_name": "Python 3",
   "language": "python",
   "name": "python3"
  },
  "language_info": {
   "codemirror_mode": {
    "name": "ipython",
    "version": 3
   },
   "file_extension": ".py",
   "mimetype": "text/x-python",
   "name": "python",
   "nbconvert_exporter": "python",
   "pygments_lexer": "ipython3",
   "version": "3.7.3"
  }
 },
 "nbformat": 4,
 "nbformat_minor": 2
}
