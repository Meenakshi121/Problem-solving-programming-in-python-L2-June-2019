{
 "cells": [
  {
   "cell_type": "markdown",
   "metadata": {},
   "source": [
    "## Day Objectives\n",
    "* File Handling\n",
    "* Basic File Data Processing\n",
    "* Accessing and Modifying File Data\n",
    "* Character Count\n",
    "* Line Count\n",
    "* File Size\n",
    "* Word Count\n",
    "* Unique word count"
   ]
  },
  {
   "cell_type": "code",
   "execution_count": 3,
   "metadata": {},
   "outputs": [
    {
     "data": {
      "text/plain": [
       "'how are you?\\n\\nI am fine ,thank you \\n'"
      ]
     },
     "execution_count": 3,
     "metadata": {},
     "output_type": "execute_result"
    }
   ],
   "source": [
    "#Read a File - File should exist(Read MOre)\n",
    "#Write to a file - Existing (append more) or \n",
    "\n",
    "def readFile(filepath):\n",
    "    with open(filepath,'r') as f:\n",
    "        filedata=f.read()\n",
    "    return filedata\n",
    "\n",
    "filepath='DataFiles/data.txt'\n",
    "readFile(filepath)"
   ]
  },
  {
   "cell_type": "code",
   "execution_count": 7,
   "metadata": {},
   "outputs": [
    {
     "name": "stdout",
     "output_type": "stream",
     "text": [
      "24\n"
     ]
    }
   ],
   "source": [
    "#char count in a file  (including numbers,special characters etc)\n",
    "\n",
    "def charCount(filename):\n",
    "    with open(filename,'r') as f:\n",
    "        filedata=f.read()\n",
    "    print(len(filedata))\n",
    "              \n",
    "charCount('DataFiles/data.txt')"
   ]
  },
  {
   "cell_type": "code",
   "execution_count": 3,
   "metadata": {},
   "outputs": [
    {
     "data": {
      "text/plain": [
       "['how are you?', 'I am fine ', 'thank you ', 'i am ', 'i am', '']"
      ]
     },
     "execution_count": 3,
     "metadata": {},
     "output_type": "execute_result"
    }
   ],
   "source": [
    "# Function to read a file into a list of lines\n",
    "# Each element in the list is one line in the file - Line Processing\n",
    "def readFileIntoList(filepath):\n",
    "    with open(filepath, 'r') as f:\n",
    "        filedata = f.read()\n",
    "        lines = filedata.split('\\n')\n",
    "        #lines = []\n",
    "        #for line in f: \n",
    "            #lines.append(line)\n",
    "    return lines\n",
    "\n",
    "filepath = 'DataFiles/data.txt'\n",
    "readFileIntoList(filepath)"
   ]
  },
  {
   "cell_type": "code",
   "execution_count": 4,
   "metadata": {},
   "outputs": [
    {
     "data": {
      "text/plain": [
       "5"
      ]
     },
     "execution_count": 4,
     "metadata": {},
     "output_type": "execute_result"
    }
   ],
   "source": [
    "#Line count in a file\n",
    "\n",
    "def lineCount(filename):\n",
    "    count=0\n",
    "    with open(filename,'r') as f:\n",
    "        filedata=f.readlines()\n",
    "        for line in filedata:\n",
    "            count=count+1\n",
    "        return (count)\n",
    "lineCount('DataFiles/data.txt')"
   ]
  },
  {
   "cell_type": "code",
   "execution_count": 33,
   "metadata": {},
   "outputs": [
    {
     "name": "stdout",
     "output_type": "stream",
     "text": [
      "8\n"
     ]
    }
   ],
   "source": [
    "#count the total number of words in a file\n",
    "\n",
    "def wordCount(filename):\n",
    "    with open(filename,'r') as f:\n",
    "        filedata=f.read()\n",
    "        wc=len(filedata.split())\n",
    "    print(wc)\n",
    "wordCount('DataFiles/data.txt')           "
   ]
  },
  {
   "cell_type": "code",
   "execution_count": 23,
   "metadata": {},
   "outputs": [
    {
     "name": "stdout",
     "output_type": "stream",
     "text": [
      "36\n"
     ]
    }
   ],
   "source": [
    "#File size\n",
    "import os\n",
    "\n",
    "def fileSize(filename):\n",
    "    print(os.path.getsize(filename))\n",
    "    \n",
    "fileSize('DataFiles/data.txt')\n",
    "    "
   ]
  },
  {
   "cell_type": "code",
   "execution_count": 24,
   "metadata": {},
   "outputs": [
    {
     "name": "stdout",
     "output_type": "stream",
     "text": [
      "36\n"
     ]
    }
   ],
   "source": [
    "from pathlib import Path\n",
    "file = Path() / 'DataFiles/data.txt'  # or Path('./doc.txt')\n",
    "size = file.stat().st_size\n",
    "print(size)"
   ]
  },
  {
   "cell_type": "code",
   "execution_count": 50,
   "metadata": {},
   "outputs": [
    {
     "name": "stdout",
     "output_type": "stream",
     "text": [
      "['how', 'are', 'you?', 'I', 'fine', 'thank', 'you']\n"
     ]
    }
   ],
   "source": [
    "#Unique word count\n",
    "\n",
    "from collections import defaultdict\n",
    "d=defaultdict(int)\n",
    "for word in open('DataFiles/data.txt').read().split():\n",
    "    d[word]+=1\n",
    "listofkeys=[key for (key,value) in d.items() if value==1]\n",
    "print(listofkeys)\n",
    " \n"
   ]
  }
 ],
 "metadata": {
  "kernelspec": {
   "display_name": "Python 3",
   "language": "python",
   "name": "python3"
  },
  "language_info": {
   "codemirror_mode": {
    "name": "ipython",
    "version": 3
   },
   "file_extension": ".py",
   "mimetype": "text/x-python",
   "name": "python",
   "nbconvert_exporter": "python",
   "pygments_lexer": "ipython3",
   "version": "3.7.3"
  }
 },
 "nbformat": 4,
 "nbformat_minor": 2
}
