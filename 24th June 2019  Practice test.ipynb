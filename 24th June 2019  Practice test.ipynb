{
 "cells": [
  {
   "cell_type": "code",
   "execution_count": 4,
   "metadata": {},
   "outputs": [
    {
     "name": "stdout",
     "output_type": "stream",
     "text": [
      "123\n",
      "6\n"
     ]
    }
   ],
   "source": [
    "#Function to find sum of digits\n",
    "\n",
    "def digitsSum(n):\n",
    "    summ=0\n",
    "    for i in n:\n",
    "        summ = summ+int(i)\n",
    "    print(summ)\n",
    "        \n",
    "n=list(input())        \n",
    "digitsSum(n)"
   ]
  },
  {
   "cell_type": "code",
   "execution_count": 26,
   "metadata": {},
   "outputs": [
    {
     "name": "stdout",
     "output_type": "stream",
     "text": [
      "welcome2iit456r233\n",
      "0 0 2 2 1 1 1 0 0 0 "
     ]
    }
   ],
   "source": [
    "#Function to find digit frequency in a given string (method-1)\n",
    "\n",
    "\n",
    "def isdigit(li):\n",
    "    number=[]\n",
    "    intlist=[]\n",
    "    for i in li:\n",
    "        if i.isdigit():\n",
    "            number.append(i)\n",
    "    for j in number:\n",
    "        intlist.append(int(j))\n",
    "    for y in digitlist:\n",
    "        print(intlist.count(y),end=\" \")\n",
    "    \n",
    "    \n",
    "n=input()\n",
    "li=list(n)\n",
    "digitlist=[0,1,2,3,4,5,6,7,8,9]\n",
    "isdigit(li)\n"
   ]
  },
  {
   "cell_type": "code",
   "execution_count": 28,
   "metadata": {},
   "outputs": [
    {
     "name": "stdout",
     "output_type": "stream",
     "text": [
      "0 0 2 2 1 1 1 0 0 0 "
     ]
    }
   ],
   "source": [
    "#Function to find digit frequency in a given string (method-2)\n",
    "\n",
    "def uniqueData(allnumbers):   #To reduce time complexity for large input,initially checking in unique data \n",
    "    unique=[]\n",
    "    for i in allnumbers:\n",
    "        if i not in unique:\n",
    "            unique.append(i)\n",
    "    return unique\n",
    "            \n",
    "def digitFrequency(s):\n",
    "    allnumbers=[]\n",
    "    for i in s:\n",
    "        if i.isdigit():\n",
    "            allnumbers.append(i)\n",
    "    unique=uniqueData(allnumbers)\n",
    "    for i in range(0,10):\n",
    "        if str(i) not in unique:   #If number not in unique data\n",
    "            print(0, end=\" \")\n",
    "        else:                                 #If number present in unique, then checking count in allnumbers(original list)\n",
    "            count=allnumbers.count(str(i))\n",
    "            print(count,end=\" \")\n",
    "        \n",
    "digitFrequency(\"welcome2iit456r233\")  \n",
    " "
   ]
  },
  {
   "cell_type": "code",
   "execution_count": 29,
   "metadata": {},
   "outputs": [
    {
     "name": "stdout",
     "output_type": "stream",
     "text": [
      "0 0 2 2 1 1 1 0 0 0 "
     ]
    }
   ],
   "source": [
    "#Function to find digit frequency in a given string (method-3)\n",
    "def digitFrequency2(s):\n",
    "    for i in range(0,10):\n",
    "        count=s.count(str(i))\n",
    "        print(count,end=\" \")\n",
    "        \n",
    "digitFrequency2(\"welcome2iit456r233\")  "
   ]
  }
 ],
 "metadata": {
  "kernelspec": {
   "display_name": "Python 3",
   "language": "python",
   "name": "python3"
  },
  "language_info": {
   "codemirror_mode": {
    "name": "ipython",
    "version": 3
   },
   "file_extension": ".py",
   "mimetype": "text/x-python",
   "name": "python",
   "nbconvert_exporter": "python",
   "pygments_lexer": "ipython3",
   "version": "3.7.3"
  }
 },
 "nbformat": 4,
 "nbformat_minor": 2
}
