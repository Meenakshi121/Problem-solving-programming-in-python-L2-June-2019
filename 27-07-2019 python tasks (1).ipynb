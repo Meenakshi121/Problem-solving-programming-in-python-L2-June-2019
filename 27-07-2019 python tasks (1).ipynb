{
 "cells": [
  {
   "cell_type": "code",
   "execution_count": 79,
   "metadata": {},
   "outputs": [
    {
     "name": "stdout",
     "output_type": "stream",
     "text": [
      "-1\n"
     ]
    }
   ],
   "source": [
    "#highest common prime factor for any given to numbers\n",
    "\n",
    "\n",
    "def isprime(n):\n",
    "    for i in range(2,n):\n",
    "        if n%i==0:\n",
    "            return False\n",
    "        else:\n",
    "            return True\n",
    "        if n==1:\n",
    "            return False\n",
    "        \n",
    "def primefactor(nn):\n",
    "    ll=[]\n",
    "    for i in range(1,nn+1):\n",
    "        if isprime(i)==True and nn%i==0:\n",
    "            ll.append(i)\n",
    "    return ll\n",
    "            \n",
    "        \n",
    "def gcpfactor(a,b):\n",
    "    l=primefactor(a)\n",
    "    l2=primefactor(b)\n",
    "    #print(l2)\n",
    "    #print(l)\n",
    "    l3=[]    \n",
    "    for i in l:\n",
    "        if i in l2:\n",
    "            l3.append(i)\n",
    "    if len(l3)==0:\n",
    "        print(\"-1\") \n",
    "    else:\n",
    "        print(max(l3))\n",
    "            \n",
    "    \n",
    " \n",
    "gcpfactor(4,9)\n",
    "\n",
    "\n",
    "#primerange(5)        "
   ]
  },
  {
   "cell_type": "code",
   "execution_count": 7,
   "metadata": {},
   "outputs": [
    {
     "name": "stdout",
     "output_type": "stream",
     "text": [
      "1\n"
     ]
    }
   ],
   "source": [
    "#python program to find the least number that has the given number of factors\n",
    "\n",
    "def factors(n):\n",
    "    l=[]\n",
    "    for i in range(1,n+1):\n",
    "        if n%i==0:\n",
    "            l.append(i)\n",
    "    return len(l)\n",
    "\n",
    "def fc(c):\n",
    "    ll=[]\n",
    "    for i in range(1,10000):\n",
    "        if factors(i)==c:\n",
    "            ll.append(i)\n",
    "    print(min(ll))\n",
    "       \n",
    "fc(1)"
   ]
  },
  {
   "cell_type": "code",
   "execution_count": 1,
   "metadata": {},
   "outputs": [
    {
     "data": {
      "text/plain": [
       "2"
      ]
     },
     "execution_count": 1,
     "metadata": {},
     "output_type": "execute_result"
    }
   ],
   "source": [
    "#Using infinite loop\n",
    "\n",
    "def factors(n):\n",
    "    l=[]\n",
    "    for i in range(1,n+1):\n",
    "        if n%i==0:\n",
    "            l.append(i)\n",
    "    return len(l)\n",
    "\n",
    "def fc(c):\n",
    "    i=1\n",
    "    r=0\n",
    "    while True:\n",
    "        if factors(i)==c:\n",
    "            r=i\n",
    "            break\n",
    "        else:\n",
    "            i=i+1\n",
    "    return r\n",
    "  \n",
    "fc(2)"
   ]
  },
  {
   "cell_type": "code",
   "execution_count": 4,
   "metadata": {},
   "outputs": [
    {
     "data": {
      "text/plain": [
       "5"
      ]
     },
     "execution_count": 4,
     "metadata": {},
     "output_type": "execute_result"
    }
   ],
   "source": [
    "#Sum of prime factors\n",
    "\n",
    "def isprime(n):\n",
    "    for i in range(2,n):\n",
    "        if n%i==0:\n",
    "            return False\n",
    "        else:\n",
    "            return True\n",
    "        \n",
    "def primefactors(nn):\n",
    "    s=0\n",
    "    for i in range(1,nn+1):\n",
    "        if isprime(i)==True and nn%i==0:\n",
    "            s=s+i\n",
    "    return s\n",
    "\n",
    "primefactors(10)\n",
    "        "
   ]
  }
 ],
 "metadata": {
  "kernelspec": {
   "display_name": "Python 3",
   "language": "python",
   "name": "python3"
  },
  "language_info": {
   "codemirror_mode": {
    "name": "ipython",
    "version": 3
   },
   "file_extension": ".py",
   "mimetype": "text/x-python",
   "name": "python",
   "nbconvert_exporter": "python",
   "pygments_lexer": "ipython3",
   "version": "3.7.3"
  }
 },
 "nbformat": 4,
 "nbformat_minor": 2
}
