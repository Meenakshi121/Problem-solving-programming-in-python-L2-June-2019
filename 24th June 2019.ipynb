{
 "cells": [
  {
   "cell_type": "markdown",
   "metadata": {},
   "source": [
    "* Function to get Unique elements in a list\n",
    "* ReadFile function to read file data\n",
    "* 3 methods  to find the frequency of each word in the file\n",
    "* Marks Analysis Application (generate marks for n students find average,% of passed ,% of failed students, distinction\n",
    "* Function to Count the total occurances of given word in a file\n",
    "* Find and replace given word in a file\n"
   ]
  },
  {
   "cell_type": "code",
   "execution_count": 3,
   "metadata": {},
   "outputs": [
    {
     "name": "stdout",
     "output_type": "stream",
     "text": [
      "[10, 203, 67, 45, 87]\n"
     ]
    }
   ],
   "source": [
    "#Function to get unique elements in a list\n",
    "\n",
    "li=[10,203,67,45,87,67,87,10]\n",
    "unique=[]\n",
    "def uniqueData(li):\n",
    "    for i in li:\n",
    "        if i not in unique:\n",
    "            unique.append(int(i))\n",
    "    print(unique)\n",
    "    \n",
    "uniqueData(li)\n"
   ]
  },
  {
   "cell_type": "code",
   "execution_count": null,
   "metadata": {},
   "outputs": [],
   "source": []
  },
  {
   "cell_type": "code",
   "execution_count": 9,
   "metadata": {},
   "outputs": [
    {
     "name": "stdout",
     "output_type": "stream",
     "text": [
      "hello how are you?\n"
     ]
    }
   ],
   "source": [
    "def readFile(filepath):\n",
    "    with open(filepath, 'r') as f:\n",
    "        filedata = f.read() # Reads the entire file data into a string\n",
    "    return filedata\n",
    "\n",
    "filepath = 'DataFiles/data.txt'\n",
    "print(readFile(filepath))"
   ]
  },
  {
   "cell_type": "code",
   "execution_count": null,
   "metadata": {},
   "outputs": [],
   "source": []
  },
  {
   "cell_type": "code",
   "execution_count": 10,
   "metadata": {},
   "outputs": [
    {
     "data": {
      "text/plain": [
       "{'hello': 1, 'how': 1, 'are': 1, 'you?': 1}"
      ]
     },
     "execution_count": 10,
     "metadata": {},
     "output_type": "execute_result"
    }
   ],
   "source": [
    "#Count the frequency of each word in the file (3 methods)\n",
    "\n",
    "#i/p:Data in Line 1\n",
    " #   Data in Line 2\n",
    "  #  Data in Line 3\n",
    "# o/p : Line 3\n",
    "\n",
    "import re\n",
    "def FreqDistributionOfWords1(filepath):      #Dictionary to be used\n",
    "    allwords=wordsFromFile(filepath)         #Keys --> unique words\n",
    "    uniquewords = uniquedata(filepath)       #Values --> Count of unique words\n",
    "    for word in uniqueword:                  #Two lists\n",
    "        count=allwords.count(word)           #All words list\n",
    "        print(word, ':', count)               #UniqueWords list     \n",
    "    return                                     #Set\n",
    "        \n",
    "def FreqDistributionofWords2(filepath):\n",
    "    allwords=wordsFromFile(filepath)\n",
    "    wordFrequency={}\n",
    "    for word in allwords:\n",
    "        if word not in wordFrequency.keys():\n",
    "            wordFrequency[word]=1\n",
    "        else:\n",
    "            wordFrequency[word]+=1\n",
    "    return wordFrequency          \n",
    "\n",
    "def wordsFromFile(filepath):\n",
    "    pattern ='[ \\n./]'\n",
    "    filedata=readFile(filepath)\n",
    "    allWordsList=re.split(pattern,filedata)\n",
    "    return allWordsList\n",
    "\n",
    "filepath='DataFiles/data.txt'\n",
    "FreqDistributionofWords2(filepath)\n",
    "#wordsFromFile('DataFiles/data.txt')"
   ]
  },
  {
   "cell_type": "code",
   "execution_count": null,
   "metadata": {},
   "outputs": [],
   "source": []
  },
  {
   "cell_type": "code",
   "execution_count": 12,
   "metadata": {},
   "outputs": [
    {
     "name": "stdout",
     "output_type": "stream",
     "text": [
      "3\n",
      "45.63636363636363\n",
      "% of failed students is: 45.45454545454545\n",
      "% of passed students is: 54.54545454545454\n",
      "% of distinction students is: 30.0\n",
      "highest score frequency is:  98\n",
      "\n",
      "lowest score frequency is:  0\n",
      "\n"
     ]
    }
   ],
   "source": [
    "#Marks Analysis Application\n",
    "    #Generate the marks file for n students\n",
    "    #Input:Marks text file -each line contains marks of one student\n",
    "    #Generates a report with the following information\n",
    "        #Class Average\n",
    "        #% of students passed\n",
    "        #% of students failed\n",
    "        #% of students with distinction\n",
    "        #Highest marks Frequency\n",
    "        #Lowest marks frequency\n",
    "\n",
    "#Function to generate marks data for n students\n",
    "from random import randint\n",
    "\n",
    "def generateMarks(n,lb,up):\n",
    "    with open('DataFiles/marks.txt','w') as f:\n",
    "        for i in range(0,n):\n",
    "            r=randint(lb,up)\n",
    "            m= f.write(str(r) +'\\n')\n",
    "        print(m)\n",
    "    \n",
    "def classAverage(filename):\n",
    "    summ=0\n",
    "    count=0\n",
    "    with open(filename,'r') as f:\n",
    "        for i in f:\n",
    "            summ=summ+int(i)\n",
    "            count=count+1\n",
    "        print(summ/count)\n",
    "        \n",
    "def totalStrength(filename):\n",
    "    count=0\n",
    "    with open(filename,'r') as f:\n",
    "        filedata=f.readlines()\n",
    "        for i in filedata:\n",
    "            count=count+1\n",
    "        return count\n",
    "        \n",
    "def failPercentage(filename):\n",
    "    fail=0\n",
    "    tc=totalStrength(filename)\n",
    "    with open(filename,'r') as f:\n",
    "        for i in f:\n",
    "            if int(i)<40:\n",
    "                fail = fail+1\n",
    "        fp=(fail/tc)*100\n",
    "        print(\"% of failed students is:\" , fp)\n",
    "               \n",
    "def passPercentage(filename):\n",
    "    p=0\n",
    "    tc=totalStrength(filename)\n",
    "    with open(filename,'r') as f:\n",
    "        for i in f:\n",
    "            if int(i)>=40:\n",
    "                p = p+1\n",
    "        pp=(p/tc)*100\n",
    "        print(\"% of passed students is:\" , pp)  \n",
    "        \n",
    "def distinctionPercentage(filename):\n",
    "    d=0\n",
    "    tc=totalStrength(filename)\n",
    "    with open(filename,'r') as f:\n",
    "        for i in f:\n",
    "            if int(i)>=70:\n",
    "                d = d+1\n",
    "        dp=(d/tc)*100\n",
    "        print(\"% of distinction students is:\" , dp)     \n",
    "        \n",
    "def score(filename):\n",
    "         with open(filename,'r') as f:\n",
    "            filedata=f.readlines()\n",
    "            lis= list(filedata)\n",
    "            #print(lis) \n",
    "            highscore=max(lis)\n",
    "            lowscore=min(lis)\n",
    "            print(\"highest score frequency is: \" , highscore)\n",
    "            print(\"lowest score frequency is: \" , lowscore) \n",
    "    \n",
    "filename='DataFiles/marks.txt'\n",
    "generateMarks(110,0,100)\n",
    "classAverage(filename)\n",
    "totalStrength(filename)\n",
    "failPercentage(filename)\n",
    "passPercentage(filename)\n",
    "distinctionPercentage(filename)\n",
    "score(filename)"
   ]
  },
  {
   "cell_type": "code",
   "execution_count": null,
   "metadata": {},
   "outputs": [],
   "source": []
  },
  {
   "cell_type": "code",
   "execution_count": 13,
   "metadata": {},
   "outputs": [
    {
     "name": "stdout",
     "output_type": "stream",
     "text": [
      "['hello', 'how', 'are', 'you?', 'hello']\n",
      "['hello', 'how', 'are', 'you?']\n"
     ]
    }
   ],
   "source": [
    "#Function to get all words in a file\n",
    "#Function to get unique words from a file   \n",
    "    \n",
    "def allWords(filename):\n",
    "    allwords=[]\n",
    "    with open(filename,'r') as f:\n",
    "        filedata=f.read()\n",
    "        s=filedata.split()\n",
    "        for i in s:\n",
    "            allwords.append(i)\n",
    "    return allwords     \n",
    "\n",
    "\n",
    "def uniqueWords(allwords):\n",
    "    unique=[]\n",
    "    for i in allwords:\n",
    "        if i not in unique:   #Getting unique words in the file\n",
    "            unique.append(i)\n",
    "    return unique\n",
    "\n",
    "\n",
    "filename=\"DataFiles/data.txt\"\n",
    "alw=allWords(filename)\n",
    "uqw=uniqueWords(alw)\n",
    "print(alw)\n",
    "print(uqw)"
   ]
  },
  {
   "cell_type": "code",
   "execution_count": 14,
   "metadata": {},
   "outputs": [
    {
     "data": {
      "text/plain": [
       "2"
      ]
     },
     "execution_count": 14,
     "metadata": {},
     "output_type": "execute_result"
    }
   ],
   "source": [
    " #Function to Count the total occurances of given word in a file\n",
    "\n",
    "def totalOccurs(word,filename):\n",
    "    alw=allWords(filename)\n",
    "    uqw=uniqueWords(alw)\n",
    "    if word in uqw:              \n",
    "        count=alw.count(word)\n",
    "    return count\n",
    "\n",
    "filename=\"DataFiles/data.txt\"    \n",
    "totalOccurs(\"hello\",\"DataFiles/data.txt\" )"
   ]
  },
  {
   "cell_type": "code",
   "execution_count": 1,
   "metadata": {},
   "outputs": [],
   "source": [
    "#Find and Replace Application\n",
    "\n",
    "    # Count the total number of occurances of a word\n",
    "    # If word is existing \n",
    "    # Replace all occurances of a word with another word\n",
    "    "
   ]
  },
  {
   "cell_type": "code",
   "execution_count": 11,
   "metadata": {},
   "outputs": [],
   "source": [
    "#Find and Replace Application\n",
    "\n",
    "def findAndReplace(filename,oldword,newword):\n",
    "    s=open(filename,'r').read()\n",
    "    s=s.replace(oldword,newword)\n",
    "    f=open(filename,'w')\n",
    "    f.write(s)\n",
    "    f.close()\n",
    "\n",
    "\n",
    "filename=\"DataFiles/meenu.txt\"\n",
    "findAndReplace(filename,\"python\",\"PYTHON\")"
   ]
  }
 ],
 "metadata": {
  "kernelspec": {
   "display_name": "Python 3",
   "language": "python",
   "name": "python3"
  },
  "language_info": {
   "codemirror_mode": {
    "name": "ipython",
    "version": 3
   },
   "file_extension": ".py",
   "mimetype": "text/x-python",
   "name": "python",
   "nbconvert_exporter": "python",
   "pygments_lexer": "ipython3",
   "version": "3.7.3"
  }
 },
 "nbformat": 4,
 "nbformat_minor": 2
}
