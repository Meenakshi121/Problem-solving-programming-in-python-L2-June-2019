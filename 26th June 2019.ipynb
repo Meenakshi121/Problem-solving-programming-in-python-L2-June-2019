{
 "cells": [
  {
   "cell_type": "code",
   "execution_count": 4,
   "metadata": {},
   "outputs": [
    {
     "data": {
      "text/plain": [
       "90"
      ]
     },
     "execution_count": 4,
     "metadata": {},
     "output_type": "execute_result"
    }
   ],
   "source": [
    "def secondLargest(li):\n",
    "    # Convert the list into a unique list\n",
    "    # O(n)\n",
    "    unique = []\n",
    "    for n in li:\n",
    "        if n not in unique:\n",
    "            unique.append(n)\n",
    "    \n",
    "    unique = sorted(unique, reverse=True)\n",
    "    if len(unique) > 1:\n",
    "        return unique[1]\n",
    "    return -1\n",
    "\n",
    "secondLargest([1,98,0,7,65,90])\n"
   ]
  },
  {
   "cell_type": "code",
   "execution_count": 10,
   "metadata": {},
   "outputs": [
    {
     "data": {
      "text/plain": [
       "7"
      ]
     },
     "execution_count": 10,
     "metadata": {},
     "output_type": "execute_result"
    }
   ],
   "source": [
    "def kLargest(li,k):\n",
    "    # Convert the list into a unique list\n",
    "    # O(n)\n",
    "    unique = []\n",
    "    for i in li:\n",
    "        if i not in unique:\n",
    "            unique.append(i)\n",
    "    \n",
    "    unique = sorted(unique, reverse=True)\n",
    "    if len(unique) > k:\n",
    "        return unique[k-1]\n",
    "    return -1\n",
    "\n",
    "kLargest([1,98,0,7,65,90],4)"
   ]
  },
  {
   "cell_type": "code",
   "execution_count": 14,
   "metadata": {},
   "outputs": [
    {
     "data": {
      "text/plain": [
       "90"
      ]
     },
     "execution_count": 14,
     "metadata": {},
     "output_type": "execute_result"
    }
   ],
   "source": [
    "# def fifthLeast(li)\n",
    "\n",
    "\n",
    "def fifthLeast(li):\n",
    "    # Extract Unique elements in the list\n",
    "    unique = []\n",
    "    for n in li:\n",
    "        if n not in unique:\n",
    "            unique.append(n)\n",
    "    \n",
    "    # Sort the Unique list in ascending order\n",
    "    unique = sorted(unique)\n",
    "    \n",
    "    #Check if length of unique list is greater than k\n",
    "    if len(unique) >= 5:\n",
    "        return unique[4]\n",
    "    return -1\n",
    "\n",
    "fifthLeast([1,98,0,7,65,90])"
   ]
  },
  {
   "cell_type": "code",
   "execution_count": 8,
   "metadata": {},
   "outputs": [
    {
     "data": {
      "text/plain": [
       "65"
      ]
     },
     "execution_count": 8,
     "metadata": {},
     "output_type": "execute_result"
    }
   ],
   "source": [
    "def kSmallest(li, k):\n",
    "    # Extract Unique elements in the list\n",
    "    unique = []\n",
    "    for i in li:\n",
    "        if i not in unique:\n",
    "            unique.append(i)\n",
    "    \n",
    "    # Sort the Unique list in ascending order\n",
    "    unique = sorted(unique)\n",
    "    \n",
    "    #Check if length of unique list is greater than k\n",
    "    if len(unique) >= k:\n",
    "        return unique[k-1]\n",
    "    return -1\n",
    "\n",
    "kSmallest([1,98,0,7,65,90], 4)"
   ]
  },
  {
   "cell_type": "code",
   "execution_count": 15,
   "metadata": {},
   "outputs": [
    {
     "data": {
      "text/plain": [
       "1"
      ]
     },
     "execution_count": 15,
     "metadata": {},
     "output_type": "execute_result"
    }
   ],
   "source": [
    "# Function to identify the element with highest frequency in a list\n",
    "# If many elements have the have the highest frequency, return the smallest\n",
    "# highestFrequencyElement([1,2,3,9,8,7,3,4,2,1]) -> 1\n",
    "def highestFrequencyElement(li):\n",
    "    #Extracting unique elements with frequencies\n",
    "    unique = {}\n",
    "    for n in li:\n",
    "        if n in unique:\n",
    "            unique[n] += 1\n",
    "        else:\n",
    "            unique[n] = 1\n",
    "    # unique = {1:2, 2:2, 3:2, 9:1, 8:1, 7:1, 4:1}\n",
    "    maxfreq = max(unique.values())\n",
    "    \n",
    "    #Extract all keys with maxfreq in a list\n",
    "    maxfreqkeys = []\n",
    "    for item in unique.items():\n",
    "        #item -> (key, value)\n",
    "        # item[1]\n",
    "        if item[1] == maxfreq:\n",
    "            maxfreqkeys.append(item[0])\n",
    "    \n",
    "    return min(maxfreqkeys)\n",
    "\n",
    "highestFrequencyElement([1,2,3,9,8,7,3,4,2,1])"
   ]
  },
  {
   "cell_type": "code",
   "execution_count": 24,
   "metadata": {},
   "outputs": [
    {
     "name": "stdout",
     "output_type": "stream",
     "text": [
      "{1: 3, 2: 2, 3: 2, 4: 2, 5: 1, 6: 2, 7: 1, 8: 1}\n",
      "dict_values([3, 2, 2, 2, 1, 2, 1, 1])\n",
      "1\n",
      "[1, 2, 3, 4, 6]\n"
     ]
    },
    {
     "data": {
      "text/plain": [
       "4"
      ]
     },
     "execution_count": 24,
     "metadata": {},
     "output_type": "execute_result"
    }
   ],
   "source": [
    " # Function to identify second highest element.\n",
    "# if there are many such elements, return the smallest\n",
    "# [1,2,3,2,1,4,4,9] --> \n",
    "def secondhighestFreq(li):\n",
    "    unique={}\n",
    "    for n in li:\n",
    "        if  n not in unique:\n",
    "            unique[n]=1\n",
    "        else:\n",
    "            unique[n]+=1\n",
    "    print(unique)\n",
    "    freq=unique.values()\n",
    "    print(freq)\n",
    "    maxfreq=min(freq)\n",
    "    print(maxfreq)\n",
    "    maxfreqE=[]\n",
    "    # Identifing the smallest number with maximum \n",
    "    for item in unique.items():\n",
    "        if item[1]!=maxfreq:\n",
    "            maxfreqE.append(item[0])\n",
    "    # Select the minimum from the keys\n",
    "    maxfreqE=sorted(maxfreqE) # minfreqE[k-1]\n",
    "    print(maxfreqE)\n",
    "    return maxfreqE[4-1]\n",
    "\n",
    "secondhighestFreq([1,2,3,4,5,1,2,3,4,6,7,8,6,1])      "
   ]
  },
  {
   "cell_type": "code",
   "execution_count": 25,
   "metadata": {},
   "outputs": [
    {
     "name": "stdout",
     "output_type": "stream",
     "text": [
      "{1: 3, 2: 2, 3: 2, 4: 2, 5: 1, 6: 2, 7: 1, 8: 1}\n",
      "dict_values([3, 2, 2, 2, 1, 2, 1, 1])\n",
      "[3, 2, 1]\n",
      "[5, 7, 8]\n"
     ]
    },
    {
     "data": {
      "text/plain": [
       "5"
      ]
     },
     "execution_count": 25,
     "metadata": {},
     "output_type": "execute_result"
    }
   ],
   "source": [
    "def khighestFreq(li,k):\n",
    "    unique={}\n",
    "    for n in li:\n",
    "        if  n not in unique:\n",
    "            unique[n]=1\n",
    "        else:\n",
    "            unique[n]+=1\n",
    "    print(unique)\n",
    "    freq=unique.values()\n",
    "    print(freq)\n",
    "    x=[]\n",
    "    for i in freq:\n",
    "        if i not in x:\n",
    "            x.append(i)\n",
    "    print(x)\n",
    "    x=sorted(x,reverse=True)\n",
    "    kfreq=x[k-1]\n",
    "    kfreqchar=[]\n",
    "    for item in unique.items():\n",
    "        if item[1]==kfreq:\n",
    "            kfreqchar.append(item[0])\n",
    "    print(kfreqchar)\n",
    "    return min(kfreqchar)    \n",
    "khighestFreq([1,2,3,4,5,1,2,3,4,6,7,8,6,1],3)"
   ]
  },
  {
   "cell_type": "code",
   "execution_count": null,
   "metadata": {},
   "outputs": [],
   "source": [
    "# Function to identify Kth highest frequency element\n",
    "# If there are many such elements, return the smallest\n",
    "# [9,8,7,6,5,2,3,4,9,6,7,7,7,6,7,6], k=4 -> 2\n",
    "\n",
    "def kHighestFrequency(s, k):\n",
    "    # Unique characters with frequencies\n",
    "    unique = {}\n",
    "    for c in s:\n",
    "        if c not in unique:\n",
    "            unique[c] = 1\n",
    "        else:\n",
    "            unique[c] += 1\n",
    "    #unique = {9:2, 8:1, 7:5, 6:4, 5:1, 2:1, 3:1, 4:1}     \n",
    "    \n",
    "    # Extract all unique frequencies in a list\n",
    "    # uniqfreq = [2,1,5,4]\n",
    "    uniqfreq = []\n",
    "    for value in unique.values():\n",
    "        if value not in uniqfreq:\n",
    "            uniqfreq.append(value)\n",
    "    \n",
    "    uniqfreq = sorted(uniqfreq, reverse=True)\n",
    "    if len(uniqfreq) > k:\n",
    "        kfreq = uniqfreq[k-1]\n",
    "    else:\n",
    "        return -1\n",
    "    kfreqchar = []    \n",
    "    for item in unique.items():\n",
    "        if item[1] == kfreq:\n",
    "            kfreqchar.append(item[0])\n",
    "    return min(kfreqchar)\n",
    "\n",
    "with open('../input.txt', 'r') as f:\n",
    "    t = int(f.readline())\n",
    "    for i in range(t):\n",
    "        s = f.readline()\n",
    "        k = int(f.readline())\n",
    "        print(kHighestFrequency(s, k))"
   ]
  }
 ],
 "metadata": {
  "kernelspec": {
   "display_name": "Python 3",
   "language": "python",
   "name": "python3"
  },
  "language_info": {
   "codemirror_mode": {
    "name": "ipython",
    "version": 3
   },
   "file_extension": ".py",
   "mimetype": "text/x-python",
   "name": "python",
   "nbconvert_exporter": "python",
   "pygments_lexer": "ipython3",
   "version": "3.7.3"
  }
 },
 "nbformat": 4,
 "nbformat_minor": 2
}
