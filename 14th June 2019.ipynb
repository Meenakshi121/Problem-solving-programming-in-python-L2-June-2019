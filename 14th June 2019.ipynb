{
 "cells": [
  {
   "cell_type": "markdown",
   "metadata": {},
   "source": [
    "# Python Data Structures(Allows to structure the data)\n",
    "\n",
    "* Lists (Allows heterogeneous data also)\n",
    "* Tuples\n",
    "* Dictionaries"
   ]
  },
  {
   "cell_type": "code",
   "execution_count": 27,
   "metadata": {},
   "outputs": [
    {
     "name": "stdout",
     "output_type": "stream",
     "text": [
      "[2, 10, 89, 100, 123, 90, 76, 1, 23, 45]\n",
      "[10, 100, 90, 1, 45]\n"
     ]
    },
    {
     "data": {
      "text/plain": [
       "49.2"
      ]
     },
     "execution_count": 27,
     "metadata": {},
     "output_type": "execute_result"
    }
   ],
   "source": [
    "li=[123,234,2,10,9]  #index starts from zero\n",
    "li #Access the entire list\n",
    "\n",
    "li[1] #Access 2nd element of list\n",
    "\n",
    "li[1:] #Accessing 2nd element to end of the list\n",
    "\n",
    "li[::-1] #print list elements in reverse order\n",
    "\n",
    "li=li[::-1]\n",
    "li         #reverse the list\n",
    "\n",
    "li=li[::-1] \n",
    "li          #to get original list ,reverse the reversed list\n",
    "\n",
    "li[::2]  #Accessing even index elements\n",
    "li[1::2]\n",
    "\n",
    "#list can be accessed ,manipulated in 2 ways\n",
    "#Direct referencing using index\n",
    "#Indirect reference using elements\n",
    "\n",
    "li.append(100) #Adding element to end of the list\n",
    "li\n",
    "\n",
    "li.insert(1,89) #Inserting element at a particular index\n",
    "li\n",
    "\n",
    "li.sort() #Sorting list elements\n",
    "li\n",
    "\n",
    "li.pop() #removing last element in the list\n",
    "\n",
    "li.pop(1) #removing element at a particular index\n",
    "\n",
    "l2=[90,76,1,23,45]\n",
    "\n",
    "li.extend(l2)  #merge list2 into list li\n",
    "li\n",
    "\n",
    "sum(li) #sum ofv list items\n",
    "max(li) #Max of list items\n",
    "len(li) #Length of a list\n",
    "\n",
    "\n",
    "sum(li)/len(li) #average of the list\n",
    "\n",
    "sum(li[::2])/len(li[::2]) #average of all alternative even index elements\n",
    "\n",
    "print(li)\n",
    "print(li[1::2]) \n",
    "\n",
    "sum(li[1::2])/len(li[1::2]) #Average of all alternative odd index elements\n"
   ]
  },
  {
   "cell_type": "code",
   "execution_count": 6,
   "metadata": {},
   "outputs": [
    {
     "data": {
      "text/plain": [
       "87"
      ]
     },
     "execution_count": 6,
     "metadata": {},
     "output_type": "execute_result"
    }
   ],
   "source": [
    "#Function to identify second largest in a unique list\n",
    "\n",
    "#sort the data and select 2nd large\n",
    "#sort the data in reverse and select 2nd one\n",
    "#Remove max element and get max\n",
    "\n",
    "\n",
    "li=[90,87,65,56]\n",
    "\n",
    "def secondlargest(li):\n",
    "    li.sort()   #second largest for unique data\n",
    "    return li[-2]\n",
    "\n",
    "#Function that returns nth largest\n",
    "def genericlargest(li,n):\n",
    "    li.sort()\n",
    "    return li[-n]\n",
    "\n",
    "secondlargest(li)\n",
    "#genericlargest(li,5)\n",
    "#li\n",
    "\n"
   ]
  },
  {
   "cell_type": "code",
   "execution_count": null,
   "metadata": {},
   "outputs": [],
   "source": []
  },
  {
   "cell_type": "code",
   "execution_count": 11,
   "metadata": {},
   "outputs": [
    {
     "name": "stdout",
     "output_type": "stream",
     "text": [
      "-1\n",
      "0\n",
      "0\n"
     ]
    }
   ],
   "source": [
    "#Function to search for data in list\n",
    "#search for the key in the list,return index(position) or return -1 if not found\n",
    "\n",
    "def linearsearch(li,key):\n",
    "    for i in range(0,len(li)):  \n",
    "        if li[i]==key:\n",
    "            return i\n",
    "    return -1\n",
    "\n",
    "\n",
    "def linearsearch2(li,key):     #search based on element\n",
    "    for element in li:\n",
    "        if element==key:\n",
    "            return li.index(element)\n",
    "    return -1    \n",
    "\n",
    "def linearsearch3(li,key):    #search based on key\n",
    "    for key in li:\n",
    "        return li.index(key)\n",
    "    return -1\n",
    "        \n",
    "print(linearsearch(li,5))\n",
    "print(linearsearch2(li,56))\n",
    "print(linearsearch3(li,65))\n",
    "\n"
   ]
  },
  {
   "cell_type": "code",
   "execution_count": 19,
   "metadata": {},
   "outputs": [
    {
     "data": {
      "text/plain": [
       "2"
      ]
     },
     "execution_count": 19,
     "metadata": {},
     "output_type": "execute_result"
    }
   ],
   "source": [
    "#Function to count the occurances of a character in a string\n",
    "\n",
    "def countcharoccurs(st,c):\n",
    "    count=0\n",
    "    for ch in st:\n",
    "        if ch==c:\n",
    "            count=count+1\n",
    "    return count\n",
    "    \n",
    "countcharoccurs(\"meena\",\"e\")    "
   ]
  },
  {
   "cell_type": "code",
   "execution_count": 20,
   "metadata": {},
   "outputs": [
    {
     "name": "stdout",
     "output_type": "stream",
     "text": [
      "2\n"
     ]
    }
   ],
   "source": [
    "#Function to find number of occurances of a substring\n",
    "\n",
    "s=\"Ppython programming python\"\n",
    "print(s.count(\"python\"))"
   ]
  },
  {
   "cell_type": "code",
   "execution_count": 18,
   "metadata": {},
   "outputs": [
    {
     "data": {
      "text/plain": [
       "[1, 2, 3, 4, 5]"
      ]
     },
     "execution_count": 18,
     "metadata": {},
     "output_type": "execute_result"
    }
   ],
   "source": [
    "#Converting string into list items\n",
    "\n",
    "s=\"1 2 3 4 5\"\n",
    "s=s.split()\n",
    "l=[]\n",
    "for i in s:\n",
    "    l.append(int(i))\n",
    "    \n",
    "l    "
   ]
  }
 ],
 "metadata": {
  "kernelspec": {
   "display_name": "Python 3",
   "language": "python",
   "name": "python3"
  },
  "language_info": {
   "codemirror_mode": {
    "name": "ipython",
    "version": 3
   },
   "file_extension": ".py",
   "mimetype": "text/x-python",
   "name": "python",
   "nbconvert_exporter": "python",
   "pygments_lexer": "ipython3",
   "version": "3.7.3"
  }
 },
 "nbformat": 4,
 "nbformat_minor": 2
}
