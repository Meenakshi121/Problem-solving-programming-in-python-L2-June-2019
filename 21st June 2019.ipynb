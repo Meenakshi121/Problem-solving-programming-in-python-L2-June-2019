{
 "cells": [
  {
   "cell_type": "markdown",
   "metadata": {},
   "source": [
    "## Add contacts into file\n",
    "## Convert filed data (CSV) into list\n",
    "## Convert  List data to file format\n",
    "## Search contact in the file using name key\n",
    "## Display all contacts in the file"
   ]
  },
  {
   "cell_type": "code",
   "execution_count": 41,
   "metadata": {},
   "outputs": [
    {
     "name": "stdout",
     "output_type": "stream",
     "text": [
      "name114 already exists\n"
     ]
    }
   ],
   "source": [
    "#Function to add contacts to contacts dictionary using files concept\n",
    "\n",
    "from Packages.validators import phoneNumberValidator as pnv,emailValidator as ev\n",
    "\n",
    "\n",
    "def addContacts(name,phone,email):\n",
    "    #store data as name,phone,email in the contacts file  \n",
    "    if not checkContactExists(name):\n",
    "        if pnv(phone) and ev(email):\n",
    "            with open(\"DataFiles/contacts.txt\",'a') as f:\n",
    "                line=name+ ',' + str(phone) + ',' +email +'\\n'\n",
    "                f.write(line)\n",
    "            print(name, \"added to contacts\")\n",
    "        else:\n",
    "            print(\"Invalid phone number or email\")\n",
    "            return\n",
    "    else:\n",
    "        print(name,\"already exists\")\n",
    "    return\n",
    "    \n",
    "\n",
    "addContacts(\"name114\",7567789988,\"saihhkh5@yahoo.com\")   \n",
    "\n",
    "\n",
    "\n",
    "#Function to check if contact already exists\n",
    "import re\n",
    "def checkContactExists(name):\n",
    "    with open(\"DataFiles/contacts.txt\",'r') as f:\n",
    "        filedata=f.read()\n",
    "        pattern=name+','\n",
    "    return  re.search(pattern,filedata)\n",
    "        \n"
   ]
  },
  {
   "cell_type": "code",
   "execution_count": 25,
   "metadata": {},
   "outputs": [
    {
     "name": "stdout",
     "output_type": "stream",
     "text": [
      "True\n"
     ]
    }
   ],
   "source": []
  },
  {
   "cell_type": "code",
   "execution_count": 3,
   "metadata": {},
   "outputs": [
    {
     "data": {
      "text/plain": [
       "'name11,8776667897,name11_908@gmail.com\\nname12,7657979798,name12_7656@gmail.comname1,9087665788,meenu10@gmail.com\\n name1,9087665788,meenu10@gmail.comname111,8977789789,mmwmmqwkk@gmail.com\\nname114,7567789988,saihhkh5@yahoo.com\\n'"
      ]
     },
     "execution_count": 3,
     "metadata": {},
     "output_type": "execute_result"
    }
   ],
   "source": [
    "#How to convert filedata into list format\n",
    "#How to convert list data to file format\n",
    "\n",
    "filename='DataFiles/contacts.txt'\n",
    "def cvsToList(filename):\n",
    "    li=[]\n",
    "    with open(filename,'r') as f:\n",
    "        for line in f:\n",
    "            li.append(line.split(','))\n",
    "    return li\n",
    "\n",
    "def listToFile(li):\n",
    "    s=''\n",
    "    for i in li:\n",
    "        s+=','.join(i)\n",
    "    return s\n",
    "\n",
    "li=cvsToList(filename)\n",
    "listToFile(li)"
   ]
  },
  {
   "cell_type": "code",
   "execution_count": null,
   "metadata": {},
   "outputs": [],
   "source": []
  },
  {
   "cell_type": "code",
   "execution_count": 16,
   "metadata": {},
   "outputs": [
    {
     "name": "stdout",
     "output_type": "stream",
     "text": [
      "name11,8776667897,name11_908@gmail.com\n",
      "\n",
      "name12,7657979798,name12_7656@gmail.comname1,9087665788,meenu10@gmail.com\n",
      "\n",
      "name1,9087665788,meenu10@gmail.comname111,8977789789,mmwmmqwkk@gmail.com\n",
      "\n",
      "name114,7567789988,saihhkh5@yahoo.com\n",
      "\n"
     ]
    }
   ],
   "source": [
    "#Search for a contact in file\n",
    "\n",
    "import re\n",
    "\n",
    "def Searchingbyinput(filename,name):\n",
    "    with open(filename,'r') as f:\n",
    "        lines=f.readlines()\n",
    "        for i in lines:  \n",
    "            if re.search(name,i):\n",
    "                print(i)\n",
    "filename=\"DataFiles/contacts.txt\"\n",
    "Searchingbyinput(filename,\"name1\")           "
   ]
  },
  {
   "cell_type": "code",
   "execution_count": null,
   "metadata": {},
   "outputs": [],
   "source": []
  },
  {
   "cell_type": "code",
   "execution_count": 10,
   "metadata": {},
   "outputs": [
    {
     "name": "stdout",
     "output_type": "stream",
     "text": [
      "name11,8776667897,name11_908@gmail.com\n",
      "\n",
      "name12,7657979798,name12_7656@gmail.comname1,9087665788,meenu10@gmail.com\n",
      "\n",
      " name1,9087665788,meenu10@gmail.comname111,8977789789,mmwmmqwkk@gmail.com\n",
      "\n",
      "name114,7567789988,saihhkh5@yahoo.com\n",
      "\n"
     ]
    }
   ],
   "source": [
    "#Function to list all the contacts\n",
    "\n",
    "def displayContacts(filename):\n",
    "    with open(filename,'r') as f:\n",
    "        for line in f:\n",
    "            print(line)\n",
    "            \n",
    "            \n",
    "filename=\"DataFiles/contacts.txt\"   \n",
    "displayContacts(filename)\n",
    "    "
   ]
  },
  {
   "cell_type": "code",
   "execution_count": null,
   "metadata": {},
   "outputs": [],
   "source": []
  },
  {
   "cell_type": "code",
   "execution_count": 22,
   "metadata": {},
   "outputs": [
    {
     "name": "stdout",
     "output_type": "stream",
     "text": [
      "-1\n",
      "contact not found to remove\n"
     ]
    }
   ],
   "source": [
    "#Function to delete Contact in a file\n",
    "\n",
    "def searchWithreturn(filename,name):\n",
    "    f1= CSVToList(filename)\n",
    "    flag=0\n",
    "    for i in range (len(f1)):\n",
    "        if name==f1[i][0]:\n",
    "            flag=1\n",
    "            return i\n",
    "    if flag==0:\n",
    "        return -1\n",
    "    \n",
    "def CSVToList(filename):\n",
    "    li=[]\n",
    "    with open(filename,'r') as f:\n",
    "        for line in f:\n",
    "            li.append(line.split(','))\n",
    "    return li\n",
    "\n",
    "def listToFile(li):\n",
    "    s=''\n",
    "    for i in li:\n",
    "        s+=','.join(i)\n",
    "    return s\n",
    "\n",
    "def deletephoneno(filename,name):\n",
    "    i=searchWithreturn(filename,name)\n",
    "    print(i)\n",
    "    if i!=-1:\n",
    "        f1=CSVToList(filename)\n",
    "        f1.pop(i)\n",
    "        s=listToFile(f1)\n",
    "        with open(filename,'w')as f:\n",
    "            f.write(s)\n",
    "    else:\n",
    "        print(\"contact not found to remove\")\n",
    "        \n",
    "filename=\"DataFiles/contacts.txt\" \n",
    "deletephoneno(filename,\"name1\")\n"
   ]
  },
  {
   "cell_type": "code",
   "execution_count": null,
   "metadata": {},
   "outputs": [],
   "source": []
  },
  {
   "cell_type": "code",
   "execution_count": 24,
   "metadata": {},
   "outputs": [
    {
     "name": "stdout",
     "output_type": "stream",
     "text": [
      "phone no updated\n"
     ]
    }
   ],
   "source": [
    "#Function to modify contacts data in file\n",
    "\n",
    "\n",
    "#to update name 0\n",
    "#to updtae number 1\n",
    "#to update email 2\n",
    "def modifycontact(filename,name,f,value):\n",
    "    if(searchWithreturn(filename,name)>=0):\n",
    "        i=searchWithreturn(filename,name)\n",
    "        if((int(f)==0)):\n",
    "            f1=CSVToList(filename)\n",
    "            f1[i].pop(0)\n",
    "            f1[i].insert(0,value)\n",
    "            s=listToFile(f1)\n",
    "            with open(filename,'w')as f:\n",
    "                f.write(s)\n",
    "                print(\"name updated\")\n",
    "        \n",
    "        elif((int(f))==1):\n",
    "            f1=CSVToList(filename)\n",
    "            f1[i].pop(1)\n",
    "            f1[i].insert(1,value)\n",
    "            s=listToFile(f1)\n",
    "            with open(filename,'w')as f:\n",
    "                f.write(s)\n",
    "                print(\"phone no updated\")\n",
    "        elif((int(f))==2):\n",
    "            f1=CSVToList(filename)\n",
    "            f1[i].pop(2)\n",
    "            f1[i].insert(2,value)\n",
    "            s=listToFile(f1)\n",
    "            with open(filename,'w')as f:\n",
    "                f.write(s)\n",
    "                print(\"email updated\")\n",
    "    else:\n",
    "        print(\"contact not found\")\n",
    "        \n",
    "        \n",
    "modifycontact(filename,\"name114\",\"1\",\"9550817745\")    "
   ]
  },
  {
   "cell_type": "code",
   "execution_count": null,
   "metadata": {},
   "outputs": [],
   "source": []
  }
 ],
 "metadata": {
  "kernelspec": {
   "display_name": "Python 3",
   "language": "python",
   "name": "python3"
  },
  "language_info": {
   "codemirror_mode": {
    "name": "ipython",
    "version": 3
   },
   "file_extension": ".py",
   "mimetype": "text/x-python",
   "name": "python",
   "nbconvert_exporter": "python",
   "pygments_lexer": "ipython3",
   "version": "3.7.3"
  }
 },
 "nbformat": 4,
 "nbformat_minor": 2
}
