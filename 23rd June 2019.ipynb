{
 "cells": [
  {
   "cell_type": "markdown",
   "metadata": {},
   "source": [
    "\n",
    "* ReadFile \n",
    "* Function to read a file into a list of lines\n",
    "* Function to count number of lines in a file\n",
    "* Function to count the number of characters in a file\n",
    "* Function to count the number of words in a file\n"
   ]
  },
  {
   "cell_type": "code",
   "execution_count": 4,
   "metadata": {},
   "outputs": [
    {
     "data": {
      "text/plain": [
       "'how are you?\\nI am fine \\nthank you \\ni am \\ni am\\n'"
      ]
     },
     "execution_count": 4,
     "metadata": {},
     "output_type": "execute_result"
    }
   ],
   "source": [
    "#Read a File - File should exist(Read MOre)\n",
    "#Write to a file - Existing (append more) or \n",
    "\n",
    "def readFile(filepath):\n",
    "    with open(filepath,'r') as f:\n",
    "        filedata=f.read()\n",
    "    return filedata\n",
    "\n",
    "filepath='DataFiles/data.txt'\n",
    "readFile(filepath)"
   ]
  },
  {
   "cell_type": "code",
   "execution_count": 5,
   "metadata": {},
   "outputs": [
    {
     "data": {
      "text/plain": [
       "['how are you?', 'I am fine ', 'thank you ', 'i am ', 'i am', '']"
      ]
     },
     "execution_count": 5,
     "metadata": {},
     "output_type": "execute_result"
    }
   ],
   "source": [
    "# Function to read a file into a list of lines\n",
    "# Each element in the list is one line in the file - Line Processing\n",
    "def readFileIntoList(filepath):\n",
    "    with open(filepath, 'r') as f:\n",
    "        filedata = f.read()\n",
    "        lines = filedata.split('\\n')\n",
    "        #lines = []\n",
    "        #for line in f: \n",
    "            #lines.append(line)\n",
    "    return lines\n",
    "\n",
    "filepath = 'DataFiles/data.txt'\n",
    "readFileIntoList(filepath)"
   ]
  },
  {
   "cell_type": "code",
   "execution_count": 6,
   "metadata": {},
   "outputs": [
    {
     "data": {
      "text/plain": [
       "6"
      ]
     },
     "execution_count": 6,
     "metadata": {},
     "output_type": "execute_result"
    }
   ],
   "source": [
    "# Function to count number of lines in a file\n",
    "\n",
    "def countLinesFile(filepath):\n",
    "    count = len(readFileIntoList(filepath))\n",
    "    return count\n",
    "\n",
    "countLinesFile(filepath)"
   ]
  },
  {
   "cell_type": "code",
   "execution_count": 11,
   "metadata": {},
   "outputs": [
    {
     "data": {
      "text/plain": [
       "24"
      ]
     },
     "execution_count": 11,
     "metadata": {},
     "output_type": "execute_result"
    }
   ],
   "source": [
    "#Function to count the number of characters in a file\n",
    "\n",
    "def charCountFile(filepath):\n",
    "    count = len(readFile(filepath))\n",
    "    return count\n",
    "charCountFile(filepath)"
   ]
  },
  {
   "cell_type": "code",
   "execution_count": 8,
   "metadata": {},
   "outputs": [
    {
     "data": {
      "text/plain": [
       "16"
      ]
     },
     "execution_count": 8,
     "metadata": {},
     "output_type": "execute_result"
    }
   ],
   "source": [
    "# Function to count the number of words in a file\n",
    "import re\n",
    "\n",
    "def wordCountFile(filepath):\n",
    "    pattern = '[ \\n]'\n",
    "    filedata = readFile(filepath)\n",
    "    count = len(re.split(pattern, filedata))\n",
    "    return count\n",
    "\n",
    "wordCountFile(filepath)"
   ]
  }
 ],
 "metadata": {
  "kernelspec": {
   "display_name": "Python 3",
   "language": "python",
   "name": "python3"
  },
  "language_info": {
   "codemirror_mode": {
    "name": "ipython",
    "version": 3
   },
   "file_extension": ".py",
   "mimetype": "text/x-python",
   "name": "python",
   "nbconvert_exporter": "python",
   "pygments_lexer": "ipython3",
   "version": "3.7.3"
  }
 },
 "nbformat": 4,
 "nbformat_minor": 2
}
