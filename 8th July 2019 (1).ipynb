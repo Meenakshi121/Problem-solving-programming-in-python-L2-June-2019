{
 "cells": [
  {
   "cell_type": "code",
   "execution_count": 2,
   "metadata": {},
   "outputs": [
    {
     "name": "stdout",
     "output_type": "stream",
     "text": [
      "6 12 18 24 30 36 42 48 54 60 66 72 78 84 90 96 "
     ]
    }
   ],
   "source": [
    "#Function to print all numbers divisible by 6 and not a factor of 100 in a given range(lb, ub) inclusive\n",
    "\n",
    "def divisible(lb,up):\n",
    "    for i in range(lb,up+1):\n",
    "        if i%6==0 and 100%i!=0:\n",
    "            print(i,end=\" \")\n",
    "            \n",
    "divisible(1,100)"
   ]
  },
  {
   "cell_type": "code",
   "execution_count": 18,
   "metadata": {},
   "outputs": [
    {
     "name": "stdout",
     "output_type": "stream",
     "text": [
      "even list: [2, 4, 6, 8, 10, 12, 14, 16, 18, 20, 22, 24, 26, 28, 30, 32, 34, 36, 38, 40, 42, 44, 46, 48, 50, 52, 54, 56, 58, 60, 62, 64, 66, 68, 70, 72, 74, 76, 78, 80, 82, 84, 86, 88, 90, 92, 94, 96, 98, 100]\n",
      "cubes of even list numbers: [8, 64, 216, 512, 1000, 1728, 2744, 4096, 5832, 8000, 10648, 13824, 17576, 21952, 27000, 32768, 39304, 46656, 54872, 64000, 74088, 85184, 97336, 110592, 125000, 140608, 157464, 175616, 195112, 216000, 238328, 262144, 287496, 314432, 343000, 373248, 405224, 438976, 474552, 512000, 551368, 592704, 636056, 681472, 729000, 778688, 830584, 884736, 941192, 1000000]\n",
      "average of cubes of all even numbers is: 260100.0\n"
     ]
    }
   ],
   "source": [
    "#Function to find the average of cubes of all even numbers in a given range(lb, ub) inclusive\n",
    "\n",
    "def cubesAverage(lb,up):\n",
    "    even=[]\n",
    "    cubes=[]\n",
    "    for i in range(lb,up+1):\n",
    "        if i%2==0:\n",
    "            even.append(i)\n",
    "    for i in even:\n",
    "        c=i*i*i\n",
    "        cubes.append(c)\n",
    "    su=sum(cubes)\n",
    "    l=len(cubes)\n",
    "    ave=su/l\n",
    "    print(\"even list:\", even)\n",
    "    print(\"cubes of even list numbers:\", cubes)\n",
    "    print(\"average of cubes of all even numbers is:\", ave)\n",
    "            \n",
    "\n",
    "cubesAverage(1,100)"
   ]
  },
  {
   "cell_type": "code",
   "execution_count": 19,
   "metadata": {},
   "outputs": [
    {
     "name": "stdout",
     "output_type": "stream",
     "text": [
      "1 2 4 5 10 "
     ]
    }
   ],
   "source": [
    "#Function to generate the list of factors for a given number\n",
    "\n",
    "\n",
    "def factors(num):\n",
    "    for i in range(1,num):\n",
    "        if num%i==0:\n",
    "            print(i , end=\" \")\n",
    "            i=i+1\n",
    "               \n",
    "\n",
    "factors(20)"
   ]
  },
  {
   "cell_type": "code",
   "execution_count": 11,
   "metadata": {},
   "outputs": [
    {
     "data": {
      "text/plain": [
       "24"
      ]
     },
     "execution_count": 11,
     "metadata": {},
     "output_type": "execute_result"
    }
   ],
   "source": [
    "#Function to calculate the factorial of a given number\n",
    "\n",
    "def factorial(num):\n",
    "    f=1\n",
    "    for i in range(1,num+1):\n",
    "        f=f*i\n",
    "    return f\n",
    "    \n",
    "factorial(4)"
   ]
  },
  {
   "cell_type": "code",
   "execution_count": 13,
   "metadata": {},
   "outputs": [
    {
     "name": "stdout",
     "output_type": "stream",
     "text": [
      "30.6\n"
     ]
    }
   ],
   "source": [
    "#Function to calculate the average of all factorials in a given range\n",
    "\n",
    "def averageFactorials(lb,up):\n",
    "    s=0\n",
    "    c=0\n",
    "    for i in range(lb,up+1):\n",
    "        s=s+factorial(i)\n",
    "        c=c+1\n",
    "    avg=s/c\n",
    "    print(avg)\n",
    "  \n",
    "averageFactorials(1,5)\n",
    "\n",
    "        "
   ]
  },
  {
   "cell_type": "code",
   "execution_count": 15,
   "metadata": {},
   "outputs": [
    {
     "name": "stdout",
     "output_type": "stream",
     "text": [
      "10 * 100 = 1000\n",
      "10 * 101 = 1010\n",
      "10 * 102 = 1020\n"
     ]
    }
   ],
   "source": [
    "#Function to generate Multiplication table for a number in a given range\n",
    "#10 in the range(100, 102) inclusive\n",
    "#10 x 100 = 1000\n",
    "#10 x 101 = 1010\n",
    "#10 x 102 = 1020\n",
    "\n",
    "def multable(n,lb,up):\n",
    "    for i in range(lb,up+1):\n",
    "        print(n,\"*\",i,\"=\",n*i)\n",
    "        \n",
    "multable(10,100,102)\n",
    "        \n",
    "    \n",
    "        \n"
   ]
  },
  {
   "cell_type": "code",
   "execution_count": 17,
   "metadata": {},
   "outputs": [
    {
     "data": {
      "text/plain": [
       "False"
      ]
     },
     "execution_count": 17,
     "metadata": {},
     "output_type": "execute_result"
    }
   ],
   "source": [
    "#Function to check if a given number is Prime\n",
    "\n",
    "def prime(num):\n",
    "    c=0\n",
    "    for i in range(2,num//2+1):\n",
    "        if num%i==0:\n",
    "            c=c+1\n",
    "    if num==1:\n",
    "        return False\n",
    "    elif c==0:\n",
    "        return True\n",
    "    else:\n",
    "        return False\n",
    "    \n",
    "        \n",
    "            \n",
    "prime(9)"
   ]
  },
  {
   "cell_type": "markdown",
   "metadata": {},
   "source": []
  },
  {
   "cell_type": "code",
   "execution_count": 22,
   "metadata": {},
   "outputs": [
    {
     "name": "stdout",
     "output_type": "stream",
     "text": [
      "sum is: 17\n",
      "count is: 4\n",
      "average is: 4.25\n"
     ]
    }
   ],
   "source": [
    "#Function to calculate the average first N Prime numbers\n",
    "\n",
    "\n",
    "def average(n):\n",
    "    s=0\n",
    "    c=0\n",
    "    for i in range(2,n):\n",
    "        if prime(i)==True:\n",
    "            s=s+i\n",
    "            c=c+1\n",
    "    print(\"sum is:\",s)\n",
    "    print(\"count is:\",c)\n",
    "    avg=s/c\n",
    "    print(\"average is:\", avg)\n",
    "    \n",
    "average(10)\n",
    "    "
   ]
  },
  {
   "cell_type": "code",
   "execution_count": 7,
   "metadata": {},
   "outputs": [
    {
     "name": "stdout",
     "output_type": "stream",
     "text": [
      "6 28 496 "
     ]
    }
   ],
   "source": [
    "#Function to generate all Perfect numbers in a given range\n",
    "\n",
    "def isPerfect(num):\n",
    "    s=0\n",
    "    for i in range(1,num):\n",
    "        if num%i==0:\n",
    "            s=s+i\n",
    "    if s==num:\n",
    "        return True\n",
    "    else:\n",
    "        return False\n",
    "\n",
    "\n",
    "def generatePerfect(lb,up):\n",
    "    for i in range(lb,up+1):\n",
    "        if isPerfect(i)==True:\n",
    "            print(i,end=\" \")\n",
    "            \n",
    "generatePerfect(1,500)\n",
    "       \n",
    "        \n"
   ]
  },
  {
   "cell_type": "code",
   "execution_count": 23,
   "metadata": {},
   "outputs": [
    {
     "name": "stdout",
     "output_type": "stream",
     "text": [
      "mee*^+NAK\n",
      "MEE*^+nak\n"
     ]
    }
   ],
   "source": [
    "#You are given a string and your task is to swap cases.\n",
    "#In other words, convert all lowercase letters to uppercase letters and vice versa. \n",
    "#(The String may contain special characters).\n",
    "\n",
    "s=input()\n",
    "l=len(s)\n",
    "s2=\"\"\n",
    "for i in range(0,l):\n",
    "    if s[i].isupper():\n",
    "        s2 += s[i].lower()\n",
    "    elif s[i].islower():\n",
    "        s2+=  s[i].upper()\n",
    "    else:\n",
    "        s2 += s[i]\n",
    "print(s2)\n",
    "    \n"
   ]
  },
  {
   "cell_type": "code",
   "execution_count": 4,
   "metadata": {},
   "outputs": [
    {
     "name": "stdout",
     "output_type": "stream",
     "text": [
      "4\n",
      "Not Weird\n"
     ]
    }
   ],
   "source": [
    "#Given an integer, ’n’ , perform the following conditional actions:\n",
    "#If ‘n’  is odd, print Weird\n",
    "#If  ‘n’ is even and in the inclusive range of 2 to 5, print Not Weird\n",
    "#If  ‘n’ is even and in the inclusive range of 6 to 20 , print Weird\n",
    "#If  ‘n’ is even and greater than 20, print Not Weird\n",
    "\n",
    "\n",
    "def actions(n):\n",
    "    if n%2==0:\n",
    "        if n in range(2,6):\n",
    "            print(\"Not Weird\")\n",
    "        elif n in range(6,21):\n",
    "            print(\"Weird\")\n",
    "        elif n>20:\n",
    "            print(\"Not Weird\")\n",
    "    else:\n",
    "        print(\"Weird\")\n",
    "        \n",
    "            \n",
    "n=int(input())        \n",
    "actions(n)\n",
    "      \n",
    "        "
   ]
  },
  {
   "cell_type": "code",
   "execution_count": 21,
   "metadata": {},
   "outputs": [
    {
     "name": "stdout",
     "output_type": "stream",
     "text": [
      "sai\n"
     ]
    }
   ],
   "source": [
    "#Given the participants ‘n’ score sheet for your University Sports Day, you are required to find the runner-up score.\n",
    "#You are given scores. Store them in a list and find the score of the runner-up. \n",
    "#(there can be multiple winners - if their scores match). \n",
    "\n",
    "\n",
    "d={\"meena\":100,\"sai\":200,\"mouni\":300}\n",
    "score=sorted(d.values(),reverse=True)\n",
    "ru=score[1]\n",
    "for k,v in d.items():\n",
    "        if ru==v:\n",
    "            print(k)\n"
   ]
  },
  {
   "cell_type": "code",
   "execution_count": 49,
   "metadata": {},
   "outputs": [
    {
     "name": "stdout",
     "output_type": "stream",
     "text": [
      "1 3 5 7 9 153 371 407 "
     ]
    }
   ],
   "source": [
    "#Function to generate N odd Armstrong numbers\n",
    "\n",
    "\n",
    "def armStrong(num):\n",
    "    onum=num\n",
    "    l=len(str(num))\n",
    "    r=0\n",
    "    while num>0:\n",
    "        rem=num%10\n",
    "        r=r+(rem**l)\n",
    "        num=num//10\n",
    "    if onum==r:\n",
    "        return True\n",
    "    else:\n",
    "        return False\n",
    "    \n",
    "def generateArm(n):\n",
    "    for i in range(1,n+1):\n",
    "        if armStrong(i)==True and i%2!=0:\n",
    "            print(i,end=\" \")\n",
    "                \n",
    "#armStrong(1)           \n",
    "generateArm(1000)\n",
    "\n",
    "\n",
    "    \n",
    "    "
   ]
  }
 ],
 "metadata": {
  "kernelspec": {
   "display_name": "Python 3",
   "language": "python",
   "name": "python3"
  },
  "language_info": {
   "codemirror_mode": {
    "name": "ipython",
    "version": 3
   },
   "file_extension": ".py",
   "mimetype": "text/x-python",
   "name": "python",
   "nbconvert_exporter": "python",
   "pygments_lexer": "ipython3",
   "version": "3.7.3"
  }
 },
 "nbformat": 4,
 "nbformat_minor": 2
}
