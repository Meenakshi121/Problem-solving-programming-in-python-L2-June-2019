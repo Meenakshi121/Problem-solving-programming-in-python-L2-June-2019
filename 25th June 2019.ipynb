{
 "cells": [
  {
   "cell_type": "markdown",
   "metadata": {},
   "source": [
    "* Checking if two strings are anagrams or not\n",
    "* Function to find no of deletions required to make two strings anagrams\n",
    "* Practice test questions\n",
    "* Average of numbers in a given inclusive range\n",
    "* Find the alphabet in the given string which has kth largest frequency"
   ]
  },
  {
   "cell_type": "code",
   "execution_count": 8,
   "metadata": {},
   "outputs": [
    {
     "data": {
      "text/plain": [
       "2"
      ]
     },
     "execution_count": 8,
     "metadata": {},
     "output_type": "execute_result"
    }
   ],
   "source": [
    "#Checking if two strings are anagrams are not\n",
    "\n",
    "#anagrams cat -> act,tac,cta,tca,atc  (frequency of character should be same in both strings and length also should same)\n",
    "\n",
    "def checkAnagram(s1,s2):\n",
    "    if len(s1)!=len(s2):\n",
    "        return False\n",
    "    if sorted(s1)==sorted(s2):\n",
    "        return True\n",
    "    return False\n",
    "\n",
    "checkAnagram(\"abc\",\"cde\")\n",
    "\n",
    "\n"
   ]
  },
  {
   "cell_type": "code",
   "execution_count": 9,
   "metadata": {},
   "outputs": [
    {
     "data": {
      "text/plain": [
       "4"
      ]
     },
     "execution_count": 9,
     "metadata": {},
     "output_type": "execute_result"
    }
   ],
   "source": [
    "#noof deletions to make both strings anagrams\n",
    " #For common numbers \n",
    "# abc  --> {a:1,b:1,c:1}\n",
    "# aabbccc --> {a:2,b:2,c:3}\n",
    "\n",
    "def characterDeletions(s1,s2):  #to collect uncommon characters\n",
    "    uncommon=[]\n",
    "    for i in s1:\n",
    "        if i not in s2:\n",
    "            uncommon.append(i)\n",
    "    for i in s2:\n",
    "        if i not in s1:\n",
    "            uncommon.append(i)\n",
    "    count=len(uncommon)    \n",
    "    freqs1={}   # Frequency of common charcters in s1\n",
    "    freqs2={}\n",
    "    uniqs1=[]  #Unique characters in s1\n",
    "    uniqs2=[]\n",
    "    \n",
    "    for i in s1:  #Frequency of common characters in s1\n",
    "        if i not in uncommon and i not in uniqs1:   #To remove duplicates taking unique\n",
    "            freqs1[i]=s1.count(i)\n",
    "            uniqs1.append(i)\n",
    "    for i in s2:\n",
    "        if i not in uncommon and i not in uniqs2:\n",
    "            freqs2[i]=s2.count(i)\n",
    "            uniqs2.append(i)\n",
    "            \n",
    "    for key in freqs1.keys():    #Diff in  freq for common chars+uncommon count-->final count  \n",
    "        count+=abs(freqs1[key]-freqs2[key])\n",
    "    return count\n",
    "    \n",
    "characterDeletions(\"abc\",\"cde\")"
   ]
  },
  {
   "cell_type": "markdown",
   "metadata": {},
   "source": [
    "# Practice test Questions"
   ]
  },
  {
   "cell_type": "code",
   "execution_count": 11,
   "metadata": {},
   "outputs": [
    {
     "data": {
      "text/plain": [
       "62228"
      ]
     },
     "execution_count": 11,
     "metadata": {},
     "output_type": "execute_result"
    }
   ],
   "source": [
    "#Find the average of numbers in a given  inclusive range\n",
    "\n",
    "def averageRange(lb,ub):\n",
    "    su=0\n",
    "    for i in range(lb,ub+1):\n",
    "        su=su+i\n",
    "        c=ub-lb+1\n",
    "    return su//c\n",
    "\n",
    "averageRange(1000,123456)\n",
    "      "
   ]
  },
  {
   "cell_type": "code",
   "execution_count": 12,
   "metadata": {},
   "outputs": [
    {
     "name": "stdout",
     "output_type": "stream",
     "text": [
      "2\n",
      "aabcd\n",
      "3\n",
      "-1\n",
      "aabcd\n",
      "2\n",
      "b\n"
     ]
    }
   ],
   "source": [
    "#Find the alphabet in the given string which has kth largest frequency,\n",
    "#if both chars have same frequency then print lower alphabet, \n",
    "#if kth frequency is not found then return -1\n",
    "#    i/p:2             o/p: -1\n",
    "#        aabcd              b    \n",
    "#        3\n",
    "#        aabcd\n",
    "#        2\n",
    "\n",
    "'''{a:4,g:9,i:6,p:213,c:6}\n",
    "[213,9,6,6,4]  \n",
    "k=3 '''\n",
    "\n",
    "def kLargestFrequency(s,k):  #Construct the frequency dictionary for all unique characters\n",
    "    freq ={}\n",
    "    for i in s:\n",
    "        if i not in freq.keys():\n",
    "            freq[i]=s.count(i)\n",
    "                                                        \n",
    "    values=sorted(freq.values(),reverse=True) #Extract unique frequencies in decending order \n",
    "    uniqueValues=list(set(values))\n",
    "    uniqueValues=sorted(uniqueValues,reverse=True)\n",
    "    \n",
    "    if k<=len(uniqueValues):          #identifying kth largest frequency\n",
    "        kvalue=uniqueValues[k-1]\n",
    "        li=[]  \n",
    "        for item in freq.items():   #get all elements with kth largest frequency\n",
    "            if item[1]==kvalue:\n",
    "                li.append(item[0]) #key containing ,minimum of kth largest frequency\n",
    "        print(min(li))\n",
    "    else:\n",
    "        print(-1)\n",
    "    \n",
    "\n",
    "t=int(input())\n",
    "for i in range(0,t):\n",
    "    s=input()\n",
    "    k=int(input())\n",
    "    kLargestFrequency(s,k)"
   ]
  }
 ],
 "metadata": {
  "kernelspec": {
   "display_name": "Python 3",
   "language": "python",
   "name": "python3"
  },
  "language_info": {
   "codemirror_mode": {
    "name": "ipython",
    "version": 3
   },
   "file_extension": ".py",
   "mimetype": "text/x-python",
   "name": "python",
   "nbconvert_exporter": "python",
   "pygments_lexer": "ipython3",
   "version": "3.7.3"
  }
 },
 "nbformat": 4,
 "nbformat_minor": 2
}
