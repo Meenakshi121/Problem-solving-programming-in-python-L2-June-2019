{
 "cells": [
  {
   "cell_type": "markdown",
   "metadata": {},
   "source": [
    "## Hackerrank problems"
   ]
  },
  {
   "cell_type": "code",
   "execution_count": 1,
   "metadata": {},
   "outputs": [
    {
     "name": "stdout",
     "output_type": "stream",
     "text": [
      "hello\n"
     ]
    }
   ],
   "source": [
    "print(\"hello\")"
   ]
  },
  {
   "cell_type": "code",
   "execution_count": 4,
   "metadata": {},
   "outputs": [
    {
     "name": "stdout",
     "output_type": "stream",
     "text": [
      "Sorting1234\n",
      "['o', 'r', 't', 'i', 'n', 'g', 'S', '1', '2', '3', '4']\n",
      "ortingS1234\n"
     ]
    }
   ],
   "source": [
    "s=input()\n",
    "l1=[]\n",
    "l2=[]\n",
    "l3=[]\n",
    "l4=[]\n",
    "\n",
    "for i in s:\n",
    "    if i.islower():\n",
    "         l1.append(i)\n",
    "    elif s.isupper():\n",
    "        l2.append(i)\n",
    "    else:\n",
    "         l3.append(i)\n",
    "            \n",
    "l4=l1+l2+l3\n",
    "\n",
    "ss= \"\"\n",
    "\n",
    "for i in l4:\n",
    "    ss+=i\n",
    "    \n",
    "print(ss)"
   ]
  },
  {
   "cell_type": "code",
   "execution_count": null,
   "metadata": {},
   "outputs": [],
   "source": [
    "ginortS1324"
   ]
  },
  {
   "cell_type": "code",
   "execution_count": 7,
   "metadata": {},
   "outputs": [
    {
     "name": "stdout",
     "output_type": "stream",
     "text": [
      "Sorting1234\n",
      "['g', 'i', 'n', 'o', 'r', 't', 'S', '1', '3', '2', '4']\n",
      "ginortS1324\n"
     ]
    }
   ],
   "source": [
    "s=list(input())\n",
    "ss=[]\n",
    "\n",
    "#for i in range(len(s)):\n",
    "ss.append(s[-5])\n",
    "ss.append(s[4])\n",
    "ss.append(s[-6])\n",
    "ss.append(s[1])\n",
    "ss.append(s[2])\n",
    "ss.append(s[3])\n",
    "ss.append(s[0])\n",
    "ss.append(s[-4])\n",
    "ss.append(s[-2])\n",
    "\n",
    "ss.append(s[-3])\n",
    "ss.append(s[-1])\n",
    "\n",
    "#print(ss)  \n",
    "sss=\"\"\n",
    "for i in ss:\n",
    "    sss+=i\n",
    "    \n",
    "print(sss)"
   ]
  },
  {
   "cell_type": "code",
   "execution_count": 8,
   "metadata": {},
   "outputs": [
    {
     "name": "stdout",
     "output_type": "stream",
     "text": [
      "Sorting1234\n",
      "ginortS1324\n"
     ]
    }
   ],
   "source": [
    "print(*sorted(input(), key=lambda c: (c.isdigit(), c.isupper(), c in '02468', c)), sep='')"
   ]
  },
  {
   "cell_type": "code",
   "execution_count": 4,
   "metadata": {},
   "outputs": [
    {
     "name": "stdout",
     "output_type": "stream",
     "text": [
      "Ross\n",
      "Taylor\n",
      "Hello Ross Taylor! You just delved into python.\n"
     ]
    }
   ],
   "source": [
    "fn=input()\n",
    "ln=input()\n",
    "\n",
    "if len(fn)+len(ln)<=10:\n",
    "    print(\"Hello \" +fn + \" \" +ln +\"!\" + \" \"+ \"You just delved into python.\")"
   ]
  },
  {
   "cell_type": "code",
   "execution_count": 11,
   "metadata": {},
   "outputs": [
    {
     "name": "stdout",
     "output_type": "stream",
     "text": [
      "Rason\n",
      "Taylor\n",
      "Hello Rason Taylor! You just delved into python.\n"
     ]
    }
   ],
   "source": [
    "print (\"Hello {0} {1}! You just delved into python.\".format(input(), input()))"
   ]
  },
  {
   "cell_type": "code",
   "execution_count": 14,
   "metadata": {},
   "outputs": [
    {
     "name": "stdout",
     "output_type": "stream",
     "text": [
      "abrackdabra\n",
      "abracadabra\n"
     ]
    }
   ],
   "source": [
    "#Replacing a particular character at a given index in a string and print modified string\n",
    "\n",
    "#Method- 1 , converting string into list\n",
    "\n",
    "string = \"abracadabra\"\n",
    "l = list(string)\n",
    "l[5] = 'k'\n",
    "l\n",
    "stri=\"\".join(l)   #Converting list into string\n",
    "print(stri)\n",
    "print(string)\n"
   ]
  },
  {
   "cell_type": "code",
   "execution_count": 15,
   "metadata": {},
   "outputs": [
    {
     "name": "stdout",
     "output_type": "stream",
     "text": [
      "abrackdabra\n"
     ]
    }
   ],
   "source": [
    "#Method -2 Using string slicing\n",
    "\n",
    "string = \"abracadabra\"\n",
    "string = string[:5] + \"k\" + string[6:]\n",
    "print(string)\n"
   ]
  },
  {
   "cell_type": "code",
   "execution_count": 17,
   "metadata": {},
   "outputs": [
    {
     "name": "stdout",
     "output_type": "stream",
     "text": [
      "abracadabra\n",
      "5 k\n",
      "abrackdabra\n"
     ]
    }
   ],
   "source": [
    "s=input()\n",
    "ss=input().split()\n",
    "i=int(ss[0])\n",
    "c=ss[1]\n",
    "\n",
    "l=list(s)\n",
    "l[i]=c\n",
    "s=\"\".join(l)\n",
    "print(s)\n",
    "\n",
    "\n"
   ]
  },
  {
   "cell_type": "code",
   "execution_count": 27,
   "metadata": {},
   "outputs": [
    {
     "name": "stdout",
     "output_type": "stream",
     "text": [
      "1\n"
     ]
    }
   ],
   "source": [
    "s=\"ABCDCDC\"\n",
    "subs=\"CDC\"\n",
    "\n",
    "\n",
    "\n",
    "print(s.count(\"CDC\",0,6))"
   ]
  },
  {
   "cell_type": "code",
   "execution_count": 34,
   "metadata": {},
   "outputs": [
    {
     "name": "stdout",
     "output_type": "stream",
     "text": [
      "2\n"
     ]
    }
   ],
   "source": [
    "#Length of substring in a given string\n",
    "\n",
    "\n",
    "s = 'arunununghhjj'\n",
    "sb = 'nun'\n",
    "results = 0\n",
    "sub_len = len(sb)\n",
    "for i in range(len(s)):\n",
    "    #print(s[i:i+sub_len])\n",
    "    if s[i:i+sub_len] == sb:\n",
    "        results += 1\n",
    "print(results)"
   ]
  },
  {
   "cell_type": "code",
   "execution_count": null,
   "metadata": {},
   "outputs": [],
   "source": []
  },
  {
   "cell_type": "code",
   "execution_count": 42,
   "metadata": {},
   "outputs": [
    {
     "name": "stdout",
     "output_type": "stream",
     "text": [
      "#$%@^&*kjnk svskjnbui h 4oi3hheuh /dfh uidshvhdsuihv suihc 0hrem89m4c02mw4xo;,wh fwhncoishmxlxfkjsahnxu83v 08 n8OHOIHIOMOICWHOFCMHEOFMCOEJMC0J09C 03J J3L;JMFC3JM3JC3'JIOO9MMJ099U N090N9 OOHOLNHNLLKNLKNKNNNNNNNNNNNNNNNNNNNNNNNNNNNNNNNNNNNNNNNNNNNNNNNNNNNNNNNNNNNNNNNNNNNNNNNNNNNNNNNNNNNNNNNNNNNNNNNNNNNNNKKKKKKKKKKKKKKKKKKKKKKKKKKKKKKKKKKKKKKKKKKKKKKKKKKKKKKKKKKKKKKKKKKKKKKKKKKKKKKKKK3333333333333333333333333333333333333333333333333333333333333333333333333333333333333333333333333000000000000000000000000000000000000000000000000000000000000000000000000000\n",
      "True\n",
      "True\n",
      "True\n",
      "True\n",
      "True\n"
     ]
    }
   ],
   "source": [
    "\"\"\"In the first line, print True if  has any alphanumeric characters. Otherwise, print False. \n",
    "In the second line, print True if  has any alphabetical characters. Otherwise, print False. \n",
    "In the third line, print True if  has any digits. Otherwise, print False. \n",
    "In the fourth line, print True if  has any lowercase characters. Otherwise, print False. \n",
    "In the fifth line, print True if  has any uppercase characters. Otherwise, print False.\"\"\"\n",
    "\n",
    "s = input()\n",
    "c=\"\"\n",
    "d=\"\"\n",
    "l=\"\"\n",
    "u=\"\"\n",
    "alnu=\"\"\n",
    "for i in s:\n",
    "    if i.isalpha():\n",
    "        c+=i\n",
    "        alnu+=i\n",
    "    elif i.isdigit():\n",
    "        d+=i\n",
    "        alnu+=i\n",
    "    else:\n",
    "        None\n",
    "        \n",
    "for i in c:\n",
    "    if i.islower():\n",
    "        l+=i\n",
    "    else:\n",
    "        u+=i\n",
    "        \n",
    "\n",
    "if alnu.isalnum():\n",
    "    print(\"True\")\n",
    "else:\n",
    "    print(\"False\")\n",
    "if c.isalpha():\n",
    "    print(\"True\")\n",
    "else:\n",
    "    print(\"False\")\n",
    "if d.isdigit():\n",
    "    print(\"True\")\n",
    "else:\n",
    "    print(\"False\")\n",
    "if l.islower():\n",
    "    print(\"True\")\n",
    "else:\n",
    "    print(\"False\")\n",
    "if u.isupper():\n",
    "    print(\"True\")\n",
    "else:\n",
    "    print(\"False\")\n",
    "    \n",
    "    "
   ]
  },
  {
   "cell_type": "code",
   "execution_count": 41,
   "metadata": {},
   "outputs": [
    {
     "data": {
      "text/plain": [
       "False"
      ]
     },
     "execution_count": 41,
     "metadata": {},
     "output_type": "execute_result"
    }
   ],
   "source": [
    "\"hhjh889#%%\".isalnum()"
   ]
  },
  {
   "cell_type": "code",
   "execution_count": 53,
   "metadata": {},
   "outputs": [
    {
     "name": "stdout",
     "output_type": "stream",
     "text": [
      "5\n",
      "    H    \n",
      " H  H H  \n",
      " HH H HH \n",
      "HHH HHHH \n",
      "HHHHHHHHH\n"
     ]
    }
   ],
   "source": [
    "thickness = int(input()) #This must be an odd number\n",
    "c = 'H'\n",
    "\n",
    "#Top Cone\n",
    "for i in range(thickness):\n",
    "    print((c*i).center(thickness-1)+c+(c*i).center(thickness-1))\n"
   ]
  },
  {
   "cell_type": "code",
   "execution_count": 91,
   "metadata": {},
   "outputs": [
    {
     "name": "stdout",
     "output_type": "stream",
     "text": [
      "5\n",
      "    H    \n",
      "   HHH   \n",
      "  HHHHH  \n",
      " HHHHHHH \n",
      "HHHHHHHHH\n",
      "  HHHHH               HHHHH             \n",
      "  HHHHH               HHHHH             \n",
      "  HHHHH               HHHHH             \n",
      "  HHHHH               HHHHH             \n",
      "  HHHHH               HHHHH             \n",
      "  HHHHH               HHHHH             \n",
      "  HHHHHHHHHHHHHHHHHHHHHHHHH   \n",
      "  HHHHHHHHHHHHHHHHHHHHHHHHH   \n",
      "  HHHHHHHHHHHHHHHHHHHHHHHHH   \n",
      "  HHHHH               HHHHH             \n",
      "  HHHHH               HHHHH             \n",
      "  HHHHH               HHHHH             \n",
      "  HHHHH               HHHHH             \n",
      "  HHHHH               HHHHH             \n",
      "  HHHHH               HHHHH             \n",
      "                    HHHHHHHHH \n",
      "                     HHHHHHH  \n",
      "                      HHHHH   \n",
      "                       HHH    \n",
      "                        H     \n"
     ]
    }
   ],
   "source": [
    "#Replace all ______ with rjust, ljust or center. \n",
    "\n",
    "thickness = int(input()) #This must be an odd number\n",
    "c = 'H'\n",
    "\n",
    "#Top Cone\n",
    "for i in range(thickness):\n",
    "    print((c*i).rjust(thickness-1)+c+(c*i).ljust(thickness-1))\n",
    "\n",
    "#Top Pillars\n",
    "for i in range(thickness+1):\n",
    "    print((c*thickness).center(thickness*2)+(c*thickness).center(thickness*6))\n",
    "\n",
    "#Middle Belt\n",
    "for i in range((thickness+1)//2):\n",
    "    print((c*thickness*5).center(thickness*6))    \n",
    "  \n",
    "\n",
    "#Bottom Pillars\n",
    "for i in range(thickness+1):\n",
    "    print((c*thickness).center(thickness*2)+(c*thickness).center(thickness*6))    \n",
    "\n",
    "#Bottom Cone\n",
    "for i in range(thickness):\n",
    "    print(((c*(thickness-i-1)).rjust(thickness)+c+(c*(thickness-i-1)).ljust(thickness)).rjust(thickness*6))\n",
    "\n"
   ]
  },
  {
   "cell_type": "code",
   "execution_count": 90,
   "metadata": {},
   "outputs": [
    {
     "name": "stdout",
     "output_type": "stream",
     "text": [
      "5\n",
      "    H    \n",
      "   HHH   \n",
      "  HHHHH  \n",
      " HHHHHHH \n",
      "HHHHHHHHH\n",
      "  HHHHH               HHHHH             \n",
      "  HHHHH               HHHHH             \n",
      "  HHHHH               HHHHH             \n",
      "  HHHHH               HHHHH             \n",
      "  HHHHH               HHHHH             \n",
      "  HHHHH               HHHHH             \n",
      "  HHHHHHHHHHHHHHHHHHHHHHHHH   \n",
      "  HHHHHHHHHHHHHHHHHHHHHHHHH   \n",
      "  HHHHHHHHHHHHHHHHHHHHHHHHH   \n",
      "  HHHHH               HHHHH             \n",
      "  HHHHH               HHHHH             \n",
      "  HHHHH               HHHHH             \n",
      "  HHHHH               HHHHH             \n",
      "  HHHHH               HHHHH             \n",
      "  HHHHH               HHHHH             \n",
      "                    HHHHHHHHH \n",
      "                     HHHHHHH  \n",
      "                      HHHHH   \n",
      "                       HHH    \n",
      "                        H     \n"
     ]
    }
   ],
   "source": [
    "#Replace all ______ with rjust, ljust or center. \n",
    "\n",
    "thickness = int(input()) #This must be an odd number\n",
    "c = 'H'\n",
    "\n",
    "#Top Cone\n",
    "for i in range(thickness):\n",
    "    print((c*i).rjust(thickness-1)+c+(c*i).ljust(thickness-1))\n",
    "\n",
    "#Top Pillars\n",
    "for i in range(thickness+1):\n",
    "    print((c*thickness).center(thickness*2)+(c*thickness).center(thickness*6))\n",
    "\n",
    "#Middle Belt\n",
    "for i in range((thickness+1)//2):\n",
    "    print((c*thickness*5).center(thickness*6))    \n",
    "\n",
    "#Bottom Pillars\n",
    "for i in range(thickness+1):\n",
    "    print((c*thickness).center(thickness*2)+(c*thickness).center(thickness*6))    \n",
    "\n",
    "#Bottom Cone\n",
    "for i in range(thickness):\n",
    "    print(((c*(thickness-i-1)).rjust(thickness)+c+(c*(thickness-i-1)).ljust(thickness)).rjust(thickness*6))"
   ]
  },
  {
   "cell_type": "code",
   "execution_count": 101,
   "metadata": {},
   "outputs": [
    {
     "name": "stdout",
     "output_type": "stream",
     "text": [
      "4\n",
      "abcd\n",
      "efgh\n",
      "ijkl\n",
      "mnop\n",
      "qrst\n",
      "u\n"
     ]
    }
   ],
   "source": [
    "s=\"abcdefghijklmnopqrstu\"\n",
    "i=0\n",
    "j=input()\n",
    "while(i<=len(s)):\n",
    "    print(s[i:i+int(j)])\n",
    "    i=i+int(j)"
   ]
  },
  {
   "cell_type": "code",
   "execution_count": 103,
   "metadata": {},
   "outputs": [
    {
     "name": "stdout",
     "output_type": "stream",
     "text": [
      "This\n",
      "func\n",
      "tion\n",
      "retu\n",
      "rns\n",
      "the \n",
      "answ\n",
      "er\n",
      "as S\n",
      "TRIN\n",
      "G\n",
      "and\n",
      "not \n",
      "LIST\n",
      ".\n"
     ]
    }
   ],
   "source": [
    "import textwrap \n",
    "  \n",
    "value = \"\"\"This function returns the answer as STRING and not LIST.\"\"\"\n",
    "  \n",
    "# Wrap this text. \n",
    "wrapper = textwrap.TextWrapper(width=4) \n",
    "  \n",
    "string = wrapper.fill(text=value) \n",
    "  \n",
    "print (string)"
   ]
  },
  {
   "cell_type": "code",
   "execution_count": null,
   "metadata": {},
   "outputs": [],
   "source": [
    "Sample Input \n",
    "ABCDEFGHIJKLIMNOQRSTUVWXYZ\n",
    "4\n",
    "\n",
    "Sample Output \n",
    "ABCD\n",
    "EFGH\n",
    "IJKL\n",
    "IMNO\n",
    "QRST\n",
    "UVWX\n",
    "YZ"
   ]
  },
  {
   "cell_type": "code",
   "execution_count": 104,
   "metadata": {},
   "outputs": [
    {
     "name": "stdout",
     "output_type": "stream",
     "text": [
      "ABCDEFGHIJKLIMNOQRSTUVWXYZ\n",
      "4\n",
      "ABCD\n",
      "EFGH\n",
      "IJKL\n",
      "IMNO\n",
      "QRST\n",
      "UVWX\n",
      "YZ\n"
     ]
    }
   ],
   "source": [
    "#textwrap.fill()->This function wraps the input single paragraph in text, and returns a single string containing the wrapped paragraph\n",
    "\n",
    "\n",
    "import textwrap\n",
    "\n",
    "def wrap(string, max_width):\n",
    "    wrapper = textwrap.TextWrapper(width=max_width) \n",
    "    string = wrapper.fill(text=string)\n",
    "    return string\n",
    "    \n",
    "\n",
    "if __name__ == '__main__':\n",
    "    string, max_width = input(), int(input())\n",
    "    result = wrap(string, max_width)\n",
    "    print(result)"
   ]
  },
  {
   "cell_type": "code",
   "execution_count": 111,
   "metadata": {},
   "outputs": [
    {
     "name": "stdout",
     "output_type": "stream",
     "text": [
      "9 27\n",
      "------------.|.------------\n",
      "---------.|..|..|.---------\n",
      "------.|..|..|..|..|.------\n",
      "---.|..|..|..|..|..|..|.---\n",
      "----------WELCOME----------\n",
      "---.|..|..|..|..|..|..|.---\n",
      "------.|..|..|..|..|.------\n",
      "---------.|..|..|.---------\n",
      "------------.|.------------\n"
     ]
    }
   ],
   "source": [
    "n, m = map(int,input().split())\n",
    "pattern = [('.|.'*(2*i + 1)).center(m, '-') for i in range(n//2)]\n",
    "print('\\n'.join(pattern + ['WELCOME'.center(m, '-')] + pattern[::-1]))"
   ]
  },
  {
   "cell_type": "code",
   "execution_count": null,
   "metadata": {},
   "outputs": [],
   "source": [
    "n,m=map(int,input().split())\n",
    "p=[(\".|.\"*(2*i+1)).center(m,'-') for i in range(n//2)]\n",
    "print(\"\\n\".join(p+['WELCOME'.center(m,\"-\")]+p[::-1]))"
   ]
  },
  {
   "cell_type": "code",
   "execution_count": 114,
   "metadata": {},
   "outputs": [
    {
     "ename": "SyntaxError",
     "evalue": "invalid syntax (<ipython-input-114-92d014716f63>, line 4)",
     "output_type": "error",
     "traceback": [
      "\u001b[1;36m  File \u001b[1;32m\"<ipython-input-114-92d014716f63>\"\u001b[1;36m, line \u001b[1;32m4\u001b[0m\n\u001b[1;33m    print({0:{width}d} {0:{width}o} {0:{width}X} {0:{width}b}\".format(i, width=width))\u001b[0m\n\u001b[1;37m                    ^\u001b[0m\n\u001b[1;31mSyntaxError\u001b[0m\u001b[1;31m:\u001b[0m invalid syntax\n"
     ]
    }
   ],
   "source": [
    "n = int(raw_input())\n",
    "width = len(\"{0:b}\".format(n))\n",
    "for i in xrange(1,n+1):\n",
    "    print({0:{width}d} {0:{width}o} {0:{width}X} {0:{width}b}\".format(i, width=width))"
   ]
  },
  {
   "cell_type": "code",
   "execution_count": 6,
   "metadata": {},
   "outputs": [
    {
     "name": "stdout",
     "output_type": "stream",
     "text": [
      "2\n",
      " 1  1  1  1\n",
      " 2  2  2 10\n"
     ]
    }
   ],
   "source": [
    "st=int(input())\n",
    "\n",
    "w=len(bin(st)[2:])\n",
    "\n",
    "for i in range(1,st+1):\n",
    "\n",
    "    print (str(i).rjust(w,' '),str(oct(i)[2:]).rjust(w,' '),str(hex(i)[2:].upper()).rjust(w,' '),str(bin(i)[2:]).rjust(w,' '),sep=' ')"
   ]
  },
  {
   "cell_type": "code",
   "execution_count": 5,
   "metadata": {},
   "outputs": [
    {
     "data": {
      "text/plain": [
       "'0o1'"
      ]
     },
     "execution_count": 5,
     "metadata": {},
     "output_type": "execute_result"
    }
   ],
   "source": [
    "oct(1)"
   ]
  },
  {
   "cell_type": "code",
   "execution_count": 7,
   "metadata": {},
   "outputs": [
    {
     "data": {
      "text/plain": [
       "17"
      ]
     },
     "execution_count": 7,
     "metadata": {},
     "output_type": "execute_result"
    }
   ],
   "source": [
    "8+9"
   ]
  },
  {
   "cell_type": "code",
   "execution_count": 10,
   "metadata": {},
   "outputs": [
    {
     "name": "stdout",
     "output_type": "stream",
     "text": [
      "1\n",
      "1\n",
      "1\n",
      "2\n",
      "[[0, 0, 0], [0, 0, 1], [0, 1, 0], [1, 0, 0], [1, 1, 1]]\n"
     ]
    }
   ],
   "source": [
    "x = int(input())   (****)\n",
    "y = int(input())\n",
    "z = int(input())\n",
    "n = int(input())\n",
    "print([[i,j,k] for i in range(x+1)\n",
    "       for j in range(y+1) \n",
    "       for k in range(z+1)\n",
    "       if((i+j+k)!=n)])\n"
   ]
  },
  {
   "cell_type": "code",
   "execution_count": 12,
   "metadata": {},
   "outputs": [
    {
     "name": "stdout",
     "output_type": "stream",
     "text": [
      "['cp', 'co', 'ct', 'ap', 'ao', 'at', 'tp', 'to', 'tt']\n"
     ]
    }
   ],
   "source": [
    "item = [x+y for x in 'cat' for y in 'pot']\n",
    "print(item)\n"
   ]
  },
  {
   "cell_type": "code",
   "execution_count": 22,
   "metadata": {},
   "outputs": [
    {
     "name": "stdout",
     "output_type": "stream",
     "text": [
      "3\n",
      "adaaaaaaaaaaaj\n",
      "23\n",
      "abjjjjj\n",
      "23\n",
      "hjsekj\n",
      "90\n",
      "{'adaaaaaaaaaaaj': 23.0, 'abjjjjj': 23.0, 'hjsekj': 90.0}\n",
      "abjjjjj\n",
      "adaaaaaaaaaaaj\n"
     ]
    }
   ],
   "source": [
    "\n",
    "\n",
    "'''def sc(name,score):   \n",
    "    d['name']=score\n",
    "    \n",
    "    \n",
    "s= sorted(list(d.values()))\n",
    "print(s)\n",
    "    #for k,v in d.items():\n",
    "    #   if '''\n",
    "\n",
    "d=dict()            \n",
    "if __name__ == '__main__':\n",
    "    for _ in range(int(input())):\n",
    "        name = input()\n",
    "        score = float(input())              \n",
    "        d[name]=score\n",
    "    #print(d)\n",
    "    \n",
    "    d1=dict(sorted(d.items()))  # will sort dictionary based ob keys , i.e arrange keys in sorting order\n",
    "    seclow=sorted(list(set(d.values())))[1]  #Set is used to consider unique values\n",
    "    \n",
    "    \n",
    "    \n",
    "    #print(s)\n",
    "    \n",
    "    for k,v in d1.items():\n",
    "        if v==seclow:\n",
    "            print(k)\n",
    "    \n",
    "    "
   ]
  },
  {
   "cell_type": "code",
   "execution_count": 7,
   "metadata": {},
   "outputs": [
    {
     "data": {
      "text/plain": [
       "False"
      ]
     },
     "execution_count": 7,
     "metadata": {},
     "output_type": "execute_result"
    }
   ],
   "source": [
    "'a'>'b'\n"
   ]
  },
  {
   "cell_type": "code",
   "execution_count": 10,
   "metadata": {},
   "outputs": [
    {
     "data": {
      "text/plain": [
       "11.0"
      ]
     },
     "execution_count": 10,
     "metadata": {},
     "output_type": "execute_result"
    }
   ],
   "source": [
    "d['aa']"
   ]
  },
  {
   "cell_type": "code",
   "execution_count": 11,
   "metadata": {},
   "outputs": [
    {
     "data": {
      "text/plain": [
       "dict_keys(['aa', 'bb', 'cc'])"
      ]
     },
     "execution_count": 11,
     "metadata": {},
     "output_type": "execute_result"
    }
   ],
   "source": [
    "d.keys()"
   ]
  },
  {
   "cell_type": "code",
   "execution_count": null,
   "metadata": {},
   "outputs": [],
   "source": [
    "print('\\n'.join([a for a,b in s if b == second_highest]))"
   ]
  },
  {
   "cell_type": "code",
   "execution_count": 21,
   "metadata": {},
   "outputs": [
    {
     "name": "stdout",
     "output_type": "stream",
     "text": [
      "{1: 11, 2: 990, 3: 33, 4: 22}\n"
     ]
    }
   ],
   "source": [
    "d={1:11,4:22,3:33,2:990}\n",
    "#s={}\n",
    "print(dict(sorted(d.items())))\n"
   ]
  },
  {
   "cell_type": "code",
   "execution_count": null,
   "metadata": {},
   "outputs": [],
   "source": [
    "marksheet = []\n",
    "for _ in range(0,int(input())):\n",
    "    marksheet.append([input(), float(input())])\n",
    "\n",
    "second_highest = sorted(list(set([marks for name, marks in marksheet])))[1]\n",
    "print('\\n'.join([a for a,b in sorted(marksheet) if b == second_highest]))"
   ]
  },
  {
   "cell_type": "code",
   "execution_count": 65,
   "metadata": {},
   "outputs": [
    {
     "name": "stdout",
     "output_type": "stream",
     "text": [
      "2\n",
      "m 12 3 9\n",
      "mee 8 9 78\n",
      "m\n",
      "8.00\n"
     ]
    }
   ],
   "source": [
    "if __name__ == '__main__':\n",
    "    n = int(input())\n",
    "    student_marks = {}\n",
    "    for _ in range(n):\n",
    "        name, *line = input().split()\n",
    "        scores = list(map(float, line))\n",
    "        student_marks[name] = scores\n",
    "    query_name = input()\n",
    "    \n",
    "    for k,v in student_marks.items():\n",
    "        if k==query_name:\n",
    "            a=sum(v)/len(v)\n",
    "    print(\"%.2f\" % a)"
   ]
  },
  {
   "cell_type": "code",
   "execution_count": 2,
   "metadata": {},
   "outputs": [
    {
     "name": "stdout",
     "output_type": "stream",
     "text": [
      "23 56 78 88\n",
      "{56, 88, 78, 23}\n"
     ]
    }
   ],
   "source": [
    "l=set(map(int,input().split()))\n",
    "print(l)\n"
   ]
  },
  {
   "cell_type": "code",
   "execution_count": 11,
   "metadata": {},
   "outputs": [
    {
     "name": "stdout",
     "output_type": "stream",
     "text": [
      "3\n",
      "5\n",
      "1 2 3 5 6\n",
      "9\n",
      "1 2 3 4 5 6  6\n",
      "True\n",
      "3\n",
      "10 20 30\n",
      "5\n",
      "10 40 80 20 30\n",
      "True\n",
      "4\n",
      "0 1 2 3 \n",
      "6\n",
      "0 1 2 3 4 5\n",
      "True\n"
     ]
    }
   ],
   "source": [
    "#Check whether seta is subset of setb or not\n",
    "\n",
    "for _ in range(int(input())):\n",
    "    size1=int(input())\n",
    "    seta=set(map(int,input().split()))\n",
    "    size2=int(input())\n",
    "    setb=set(map(int,input().split()))\n",
    "    if seta.issubset(setb):\n",
    "        print(\"True\")\n",
    "    else:\n",
    "        print(\"False\")\n"
   ]
  },
  {
   "cell_type": "code",
   "execution_count": 9,
   "metadata": {},
   "outputs": [
    {
     "name": "stdout",
     "output_type": "stream",
     "text": [
      "Help on class set in module builtins:\n",
      "\n",
      "class set(object)\n",
      " |  set() -> new empty set object\n",
      " |  set(iterable) -> new set object\n",
      " |  \n",
      " |  Build an unordered collection of unique elements.\n",
      " |  \n",
      " |  Methods defined here:\n",
      " |  \n",
      " |  __and__(self, value, /)\n",
      " |      Return self&value.\n",
      " |  \n",
      " |  __contains__(...)\n",
      " |      x.__contains__(y) <==> y in x.\n",
      " |  \n",
      " |  __eq__(self, value, /)\n",
      " |      Return self==value.\n",
      " |  \n",
      " |  __ge__(self, value, /)\n",
      " |      Return self>=value.\n",
      " |  \n",
      " |  __getattribute__(self, name, /)\n",
      " |      Return getattr(self, name).\n",
      " |  \n",
      " |  __gt__(self, value, /)\n",
      " |      Return self>value.\n",
      " |  \n",
      " |  __iand__(self, value, /)\n",
      " |      Return self&=value.\n",
      " |  \n",
      " |  __init__(self, /, *args, **kwargs)\n",
      " |      Initialize self.  See help(type(self)) for accurate signature.\n",
      " |  \n",
      " |  __ior__(self, value, /)\n",
      " |      Return self|=value.\n",
      " |  \n",
      " |  __isub__(self, value, /)\n",
      " |      Return self-=value.\n",
      " |  \n",
      " |  __iter__(self, /)\n",
      " |      Implement iter(self).\n",
      " |  \n",
      " |  __ixor__(self, value, /)\n",
      " |      Return self^=value.\n",
      " |  \n",
      " |  __le__(self, value, /)\n",
      " |      Return self<=value.\n",
      " |  \n",
      " |  __len__(self, /)\n",
      " |      Return len(self).\n",
      " |  \n",
      " |  __lt__(self, value, /)\n",
      " |      Return self<value.\n",
      " |  \n",
      " |  __ne__(self, value, /)\n",
      " |      Return self!=value.\n",
      " |  \n",
      " |  __or__(self, value, /)\n",
      " |      Return self|value.\n",
      " |  \n",
      " |  __rand__(self, value, /)\n",
      " |      Return value&self.\n",
      " |  \n",
      " |  __reduce__(...)\n",
      " |      Return state information for pickling.\n",
      " |  \n",
      " |  __repr__(self, /)\n",
      " |      Return repr(self).\n",
      " |  \n",
      " |  __ror__(self, value, /)\n",
      " |      Return value|self.\n",
      " |  \n",
      " |  __rsub__(self, value, /)\n",
      " |      Return value-self.\n",
      " |  \n",
      " |  __rxor__(self, value, /)\n",
      " |      Return value^self.\n",
      " |  \n",
      " |  __sizeof__(...)\n",
      " |      S.__sizeof__() -> size of S in memory, in bytes\n",
      " |  \n",
      " |  __sub__(self, value, /)\n",
      " |      Return self-value.\n",
      " |  \n",
      " |  __xor__(self, value, /)\n",
      " |      Return self^value.\n",
      " |  \n",
      " |  add(...)\n",
      " |      Add an element to a set.\n",
      " |      \n",
      " |      This has no effect if the element is already present.\n",
      " |  \n",
      " |  clear(...)\n",
      " |      Remove all elements from this set.\n",
      " |  \n",
      " |  copy(...)\n",
      " |      Return a shallow copy of a set.\n",
      " |  \n",
      " |  difference(...)\n",
      " |      Return the difference of two or more sets as a new set.\n",
      " |      \n",
      " |      (i.e. all elements that are in this set but not the others.)\n",
      " |  \n",
      " |  difference_update(...)\n",
      " |      Remove all elements of another set from this set.\n",
      " |  \n",
      " |  discard(...)\n",
      " |      Remove an element from a set if it is a member.\n",
      " |      \n",
      " |      If the element is not a member, do nothing.\n",
      " |  \n",
      " |  intersection(...)\n",
      " |      Return the intersection of two sets as a new set.\n",
      " |      \n",
      " |      (i.e. all elements that are in both sets.)\n",
      " |  \n",
      " |  intersection_update(...)\n",
      " |      Update a set with the intersection of itself and another.\n",
      " |  \n",
      " |  isdisjoint(...)\n",
      " |      Return True if two sets have a null intersection.\n",
      " |  \n",
      " |  issubset(...)\n",
      " |      Report whether another set contains this set.\n",
      " |  \n",
      " |  issuperset(...)\n",
      " |      Report whether this set contains another set.\n",
      " |  \n",
      " |  pop(...)\n",
      " |      Remove and return an arbitrary set element.\n",
      " |      Raises KeyError if the set is empty.\n",
      " |  \n",
      " |  remove(...)\n",
      " |      Remove an element from a set; it must be a member.\n",
      " |      \n",
      " |      If the element is not a member, raise a KeyError.\n",
      " |  \n",
      " |  symmetric_difference(...)\n",
      " |      Return the symmetric difference of two sets as a new set.\n",
      " |      \n",
      " |      (i.e. all elements that are in exactly one of the sets.)\n",
      " |  \n",
      " |  symmetric_difference_update(...)\n",
      " |      Update a set with the symmetric difference of itself and another.\n",
      " |  \n",
      " |  union(...)\n",
      " |      Return the union of sets as a new set.\n",
      " |      \n",
      " |      (i.e. all elements that are in either set.)\n",
      " |  \n",
      " |  update(...)\n",
      " |      Update a set with the union of itself and others.\n",
      " |  \n",
      " |  ----------------------------------------------------------------------\n",
      " |  Static methods defined here:\n",
      " |  \n",
      " |  __new__(*args, **kwargs) from builtins.type\n",
      " |      Create and return a new object.  See help(type) for accurate signature.\n",
      " |  \n",
      " |  ----------------------------------------------------------------------\n",
      " |  Data and other attributes defined here:\n",
      " |  \n",
      " |  __hash__ = None\n",
      "\n"
     ]
    }
   ],
   "source": [
    "help(set)"
   ]
  },
  {
   "cell_type": "code",
   "execution_count": 4,
   "metadata": {},
   "outputs": [
    {
     "name": "stdout",
     "output_type": "stream",
     "text": [
      "2 4 6  8\n",
      "2\n",
      "2 4\n",
      "6 8 9\n",
      "False\n"
     ]
    }
   ],
   "source": [
    "s1=set(map(int,input().split()))\n",
    "n=int(input())\n",
    "for i in range(n):\n",
    "  ss=set(map(int,input().split()))\n",
    "\n",
    "if s1.issuperset(ss):\n",
    "    print(\"True\")\n",
    "else:\n",
    "    print(\"False\")"
   ]
  },
  {
   "cell_type": "code",
   "execution_count": 5,
   "metadata": {},
   "outputs": [
    {
     "name": "stdout",
     "output_type": "stream",
     "text": [
      "Help on built-in function all in module builtins:\n",
      "\n",
      "all(iterable, /)\n",
      "    Return True if bool(x) is True for all values x in the iterable.\n",
      "    \n",
      "    If the iterable is empty, return True.\n",
      "\n"
     ]
    }
   ],
   "source": [
    "help(all)"
   ]
  },
  {
   "cell_type": "code",
   "execution_count": 9,
   "metadata": {},
   "outputs": [
    {
     "name": "stdout",
     "output_type": "stream",
     "text": [
      "1 2 3 4 5 6 7 8 9 10 11 12 23 45 84 78\n",
      "2\n",
      "1 2 3 4 5\n",
      "100 11 12\n",
      "False\n"
     ]
    }
   ],
   "source": [
    "a = set(input().split())\n",
    "print(all(a > set(input().split()) for _ in range(int(input()))))"
   ]
  },
  {
   "cell_type": "code",
   "execution_count": 8,
   "metadata": {},
   "outputs": [
    {
     "name": "stdout",
     "output_type": "stream",
     "text": [
      "1 2 3 4 5 6 7 8 9 10 11 12 23 45 84 78\n",
      "2\n",
      "1 2 3 4 5\n",
      "100 11 12\n",
      "False\n"
     ]
    }
   ],
   "source": [
    "##Check whether s1 is supersets of all remaining sets in a range\n",
    "\n",
    "\n",
    "s1=set(map(int,input().split()))\n",
    "supp=[]\n",
    "for i in range(int(input())):\n",
    "  supp.append(s1.issuperset(set(map(int,input().split()))))\n",
    "print(all(supp))"
   ]
  },
  {
   "cell_type": "code",
   "execution_count": 11,
   "metadata": {},
   "outputs": [
    {
     "name": "stdout",
     "output_type": "stream",
     "text": [
      "True\n"
     ]
    }
   ],
   "source": [
    "s1={1,2,3,4,5}\n",
    "s2={2,3,4}\n",
    "print(s1.issuperset(s2))"
   ]
  },
  {
   "cell_type": "code",
   "execution_count": 15,
   "metadata": {},
   "outputs": [
    {
     "name": "stdout",
     "output_type": "stream",
     "text": [
      "2\n",
      "1 2\n",
      "3 4\n",
      "1 2\n",
      "3 4\n",
      "[[ 7 10]\n",
      " [15 22]]\n"
     ]
    }
   ],
   "source": [
    "#Matrix multiplication\n",
    "\n",
    "\n",
    "#Input Format\n",
    "\n",
    "#The first line contains the integer . \n",
    "#The next  lines contains  space separated integers of array . \n",
    "#The following  lines contains  space separated integers of array .\n",
    "\n",
    "#Output Format\n",
    "\n",
    "#Print the matrix multiplication of  and .\n",
    "\n",
    "\n",
    "import numpy\n",
    "\n",
    "n=int(input())\n",
    "a=numpy.array([input().split() for _ in range(n)],int)\n",
    "b=numpy.array([input().split() for _ in range(n)],int)\n",
    "print(numpy.dot(a,b))"
   ]
  },
  {
   "cell_type": "code",
   "execution_count": 4,
   "metadata": {},
   "outputs": [
    {
     "name": "stdout",
     "output_type": "stream",
     "text": [
      "0 1\n",
      "2 3\n",
      "3\n",
      "[[0 0]\n",
      " [2 3]]\n"
     ]
    }
   ],
   "source": [
    "import numpy\n",
    "\n",
    "a=numpy.array(list(map(int,input().split())))\n",
    "b=numpy.array(list(map(int,input().split())))\n",
    "print(numpy.dot(a,b))\n",
    "print(numpy.outer(a,b))\n",
    "\n",
    "\n"
   ]
  },
  {
   "cell_type": "code",
   "execution_count": 5,
   "metadata": {},
   "outputs": [
    {
     "name": "stdout",
     "output_type": "stream",
     "text": [
      "1.1 2 3\n",
      "0\n",
      "3.0\n"
     ]
    }
   ],
   "source": [
    "print(__import__('numpy').polyval(list(map(float,input().split())),float(input())))"
   ]
  },
  {
   "cell_type": "code",
   "execution_count": null,
   "metadata": {},
   "outputs": [],
   "source": [
    "poly\n",
    "\n",
    "The poly tool returns the coefficients of a polynomial with the given sequence of roots.\n",
    "\n",
    "print numpy.poly([-1, 1, 1, 10])        #Output : [  1 -11   9  11 -10]\n",
    "roots\n",
    "\n",
    "The roots tool returns the roots of a polynomial with the given coefficients.\n",
    "\n",
    "print numpy.roots([1, 0, -1])           #Output : [-1.  1.]\n",
    "polyint\n",
    "\n",
    "The polyint tool returns an antiderivative (indefinite integral) of a polynomial.\n",
    "\n",
    "print numpy.polyint([1, 1, 1])          #Output : [ 0.33333333  0.5         1.          0.        ]\n",
    "polyder\n",
    "\n",
    "The polyder tool returns the derivative of the specified order of a polynomial.\n",
    "\n",
    "print numpy.polyder([1, 1, 1, 1])       #Output : [3 2 1]\n",
    "polyval\n",
    "\n",
    "The polyval tool evaluates the polynomial at specific value.\n",
    "\n",
    "print numpy.polyval([1, -2, 0, 2], 4)   #Output : 34\n",
    "polyfit\n",
    "\n",
    "The polyfit tool fits a polynomial of a specified order to a set of data using a least-squares approach.\n",
    "\n",
    "print numpy.polyfit([0,1,-1, 2, -2], [0,1,1, 4, 4], 2)\n",
    "\n",
    "#Output : [  1.00000000e+00   0.00000000e+00  -3.97205465e-16]\n",
    "The functions polyadd, polysub, polymul, and \n",
    "\n",
    "polydiv also handle proper addition, subtraction, multiplication, and division of polynomial coefficients, respectively."
   ]
  },
  {
   "cell_type": "code",
   "execution_count": 13,
   "metadata": {},
   "outputs": [
    {
     "name": "stdout",
     "output_type": "stream",
     "text": [
      "1.1 2 3\n",
      "0\n",
      "3.0\n"
     ]
    }
   ],
   "source": [
    "#Task\n",
    "\n",
    "#You are given the coefficients of a polynomial . \n",
    "#Your task is to find the value of  at point .\n",
    "\n",
    "#Input Format\n",
    "\n",
    "#The first line contains the space separated value of the coefficients in . \n",
    "#The second line contains the value of .\n",
    "\n",
    "#Output Format\n",
    "#Print the desired value.\n",
    "\n",
    "\n",
    "import numpy\n",
    "\n",
    "a=numpy.array(list(map(float,input().split())))\n",
    "x=int(input())\n",
    "\n",
    "print(numpy.polyval(a,x))"
   ]
  },
  {
   "cell_type": "code",
   "execution_count": null,
   "metadata": {},
   "outputs": [],
   "source": [
    "The NumPy module also comes with a number of built-in routines for linear algebra calculations. These can be found in the sub-module linalg.\n",
    "\n",
    "linalg.det\n",
    "\n",
    "The linalg.det tool computes the determinant of an array.\n",
    "\n",
    "print numpy.linalg.det([[1 , 2], [2, 1]])       #Output : -3.0\n",
    "linalg.eig\n",
    "\n",
    "The linalg.eig computes the eigenvalues and right eigenvectors of a square array.\n",
    "\n",
    "vals, vecs = numpy.linalg.eig([[1 , 2], [2, 1]])\n",
    "print vals                                      #Output : [ 3. -1.]\n",
    "print vecs                                      #Output : [[ 0.70710678 -0.70710678]\n",
    "                                                #          [ 0.70710678  0.70710678]]\n",
    "linalg.inv\n",
    "\n",
    "The linalg.inv tool computes the (multiplicative) inverse of a matrix.\n",
    "\n",
    "print numpy.linalg.inv([[1 , 2], [2, 1]])       #Output : [[-0.33333333  0.66666667]\n",
    "                                                #          [ 0.66666667 -0.33333333]]\n",
    "Other routines can be found here"
   ]
  },
  {
   "cell_type": "code",
   "execution_count": 14,
   "metadata": {},
   "outputs": [
    {
     "name": "stdout",
     "output_type": "stream",
     "text": [
      "2\n",
      "1.1 1.1\n",
      "1.1 1.1\n",
      "0.0\n"
     ]
    }
   ],
   "source": [
    "import numpy\n",
    "\n",
    "n=int(input())\n",
    "a=[list(map(float,input().split()))  for i in range(n)]\n",
    "print(numpy.linalg.det(a))"
   ]
  },
  {
   "cell_type": "code",
   "execution_count": null,
   "metadata": {},
   "outputs": [],
   "source": [
    "Input Format\n",
    "\n",
    "The first line contains the integer . \n",
    "The next  lines contains the  space separated elements of array .\n",
    "\n",
    "Output Format\n",
    "\n",
    "Print the determinant of .\n",
    "\n",
    "Sample Input\n",
    "\n",
    "2\n",
    "1.1 1.1\n",
    "1.1 1.1\n",
    "Sample Output\n",
    "\n",
    "0.0"
   ]
  },
  {
   "cell_type": "code",
   "execution_count": 36,
   "metadata": {},
   "outputs": [
    {
     "name": "stdout",
     "output_type": "stream",
     "text": [
      "2\n",
      "1.1 1.1\n",
      "1.1 1.2\n",
      "0.11\n"
     ]
    }
   ],
   "source": [
    "\n",
    "#determinent of a given array elements\n",
    "\n",
    "\n",
    "import numpy\n",
    "\n",
    "n=int(input())\n",
    "#a=[list(map(float,input().split()))  for i in range(n)]\n",
    "a=numpy.array([input().split() for _ in range(n)],float)\n",
    "rel=numpy.linalg.det(a)\n",
    "print(\"%.2f\" % rel)\n"
   ]
  },
  {
   "cell_type": "code",
   "execution_count": null,
   "metadata": {},
   "outputs": [],
   "source": [
    "In Python, a string can be split on a delimiter.\n",
    "\n",
    "Example:\n",
    "\n",
    ">>> a = \"this is a string\"\n",
    ">>> a = a.split(\" \") # a is converted to a list of strings. \n",
    ">>> print a\n",
    "['this', 'is', 'a', 'string']\n",
    "Joining a string is simple:\n",
    "\n",
    ">>> a = \"-\".join(a)\n",
    ">>> print a\n",
    "this-is-a-string "
   ]
  },
  {
   "cell_type": "code",
   "execution_count": 40,
   "metadata": {},
   "outputs": [
    {
     "name": "stdout",
     "output_type": "stream",
     "text": [
      "this is a string\n",
      "this-is-a-string\n"
     ]
    }
   ],
   "source": [
    "#adding hyphen between each word in a string\n",
    "\n",
    "def split_and_join(line):\n",
    "    r=line.split()\n",
    "    rr='-'.join(r)\n",
    "    return rr\n",
    "    # write your code here\n",
    "\n",
    "if __name__ == '__main__':\n",
    "    line = input()\n",
    "    result = split_and_join(line)\n",
    "    print(result)"
   ]
  },
  {
   "cell_type": "code",
   "execution_count": 45,
   "metadata": {},
   "outputs": [
    {
     "name": "stdout",
     "output_type": "stream",
     "text": [
      "abcdefghijklmnopqrstuvwxyz\n",
      "5\n",
      "a-b-c-d-e\n",
      "['e-d-c-b-a-b-c-d-e']\n",
      "b-c-d-e\n",
      "['e-d-c-b-a-b-c-d-e', 'e-d-c-b-c-d-e']\n",
      "c-d-e\n",
      "['e-d-c-b-a-b-c-d-e', 'e-d-c-b-c-d-e', 'e-d-c-d-e']\n",
      "d-e\n",
      "['e-d-c-b-a-b-c-d-e', 'e-d-c-b-c-d-e', 'e-d-c-d-e', 'e-d-e']\n",
      "e\n",
      "['e-d-c-b-a-b-c-d-e', 'e-d-c-b-c-d-e', 'e-d-c-d-e', 'e-d-e', 'e']\n",
      "17\n",
      "--------e--------\n",
      "------e-d-e------\n",
      "----e-d-c-d-e----\n",
      "--e-d-c-b-c-d-e--\n",
      "e-d-c-b-a-b-c-d-e\n",
      "--e-d-c-b-c-d-e--\n",
      "----e-d-c-d-e----\n",
      "------e-d-e------\n",
      "--------e--------\n"
     ]
    }
   ],
   "source": [
    "#Print a pattern for a given range\n",
    "\n",
    "import string\n",
    "alpha = string.ascii_lowercase\n",
    "print(alpha)\n",
    "\n",
    "n = int(input())\n",
    "L = []\n",
    "\n",
    "for i in range(n):\n",
    "    s = \"-\".join(alpha[i:n])\n",
    "    print(s)\n",
    "    L.append(s[::-1]+s[1:])\n",
    "    print(L)\n",
    "\n",
    "width = len(L[0])\n",
    "print(width)\n",
    "\n",
    "for i in range(n-1, 0, -1):\n",
    "    print(L[i].center(width, \"-\"))\n",
    "\n",
    "for i in range(n):\n",
    "    print(L[i].center(width, \"-\"))"
   ]
  },
  {
   "cell_type": "code",
   "execution_count": 46,
   "metadata": {},
   "outputs": [
    {
     "name": "stdout",
     "output_type": "stream",
     "text": [
      "Help on class range in module builtins:\n",
      "\n",
      "class range(object)\n",
      " |  range(stop) -> range object\n",
      " |  range(start, stop[, step]) -> range object\n",
      " |  \n",
      " |  Return an object that produces a sequence of integers from start (inclusive)\n",
      " |  to stop (exclusive) by step.  range(i, j) produces i, i+1, i+2, ..., j-1.\n",
      " |  start defaults to 0, and stop is omitted!  range(4) produces 0, 1, 2, 3.\n",
      " |  These are exactly the valid indices for a list of 4 elements.\n",
      " |  When step is given, it specifies the increment (or decrement).\n",
      " |  \n",
      " |  Methods defined here:\n",
      " |  \n",
      " |  __bool__(self, /)\n",
      " |      self != 0\n",
      " |  \n",
      " |  __contains__(self, key, /)\n",
      " |      Return key in self.\n",
      " |  \n",
      " |  __eq__(self, value, /)\n",
      " |      Return self==value.\n",
      " |  \n",
      " |  __ge__(self, value, /)\n",
      " |      Return self>=value.\n",
      " |  \n",
      " |  __getattribute__(self, name, /)\n",
      " |      Return getattr(self, name).\n",
      " |  \n",
      " |  __getitem__(self, key, /)\n",
      " |      Return self[key].\n",
      " |  \n",
      " |  __gt__(self, value, /)\n",
      " |      Return self>value.\n",
      " |  \n",
      " |  __hash__(self, /)\n",
      " |      Return hash(self).\n",
      " |  \n",
      " |  __iter__(self, /)\n",
      " |      Implement iter(self).\n",
      " |  \n",
      " |  __le__(self, value, /)\n",
      " |      Return self<=value.\n",
      " |  \n",
      " |  __len__(self, /)\n",
      " |      Return len(self).\n",
      " |  \n",
      " |  __lt__(self, value, /)\n",
      " |      Return self<value.\n",
      " |  \n",
      " |  __ne__(self, value, /)\n",
      " |      Return self!=value.\n",
      " |  \n",
      " |  __reduce__(...)\n",
      " |      Helper for pickle.\n",
      " |  \n",
      " |  __repr__(self, /)\n",
      " |      Return repr(self).\n",
      " |  \n",
      " |  __reversed__(...)\n",
      " |      Return a reverse iterator.\n",
      " |  \n",
      " |  count(...)\n",
      " |      rangeobject.count(value) -> integer -- return number of occurrences of value\n",
      " |  \n",
      " |  index(...)\n",
      " |      rangeobject.index(value, [start, [stop]]) -> integer -- return index of value.\n",
      " |      Raise ValueError if the value is not present.\n",
      " |  \n",
      " |  ----------------------------------------------------------------------\n",
      " |  Static methods defined here:\n",
      " |  \n",
      " |  __new__(*args, **kwargs) from builtins.type\n",
      " |      Create and return a new object.  See help(type) for accurate signature.\n",
      " |  \n",
      " |  ----------------------------------------------------------------------\n",
      " |  Data descriptors defined here:\n",
      " |  \n",
      " |  start\n",
      " |  \n",
      " |  step\n",
      " |  \n",
      " |  stop\n",
      "\n"
     ]
    }
   ],
   "source": [
    "help(range)"
   ]
  },
  {
   "cell_type": "code",
   "execution_count": 64,
   "metadata": {},
   "outputs": [
    {
     "name": "stdout",
     "output_type": "stream",
     "text": [
      "My World\n"
     ]
    }
   ],
   "source": [
    "#Capitalize each word in a given string\n",
    "\n",
    "line='my world'\n",
    "w=line.split()\n",
    "\n",
    "for i in w:\n",
    "    line=line.replace(i,i.capitalize())\n",
    "    \n",
    "print(line)\n"
   ]
  },
  {
   "cell_type": "code",
   "execution_count": 60,
   "metadata": {},
   "outputs": [
    {
     "name": "stdout",
     "output_type": "stream",
     "text": [
      "Help on method_descriptor:\n",
      "\n",
      "capitalize(self, /)\n",
      "    Return a capitalized version of the string.\n",
      "    \n",
      "    More specifically, make the first character have upper case and the rest lower\n",
      "    case.\n",
      "\n"
     ]
    }
   ],
   "source": [
    "help(str.capitalize)"
   ]
  },
  {
   "cell_type": "code",
   "execution_count": null,
   "metadata": {},
   "outputs": [],
   "source": []
  }
 ],
 "metadata": {
  "kernelspec": {
   "display_name": "Python 3",
   "language": "python",
   "name": "python3"
  },
  "language_info": {
   "codemirror_mode": {
    "name": "ipython",
    "version": 3
   },
   "file_extension": ".py",
   "mimetype": "text/x-python",
   "name": "python",
   "nbconvert_exporter": "python",
   "pygments_lexer": "ipython3",
   "version": "3.7.3"
  }
 },
 "nbformat": 4,
 "nbformat_minor": 2
}
