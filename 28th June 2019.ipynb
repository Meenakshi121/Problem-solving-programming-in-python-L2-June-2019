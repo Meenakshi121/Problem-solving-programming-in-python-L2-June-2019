{
 "cells": [
  {
   "cell_type": "markdown",
   "metadata": {},
   "source": [
    "## Date : 28 June 2019\n",
    "\n",
    "* Day Objectives\n",
    "* Map\n",
    "* Lambda\n",
    "* Filter\n",
    "* Use cases - File / Data Encryption\n",
    "\n",
    "\n",
    "\n",
    "\n",
    "* Map\n",
    "* Mapping - Entity with Function\n",
    "\n",
    "* f : x^2\n",
    "\n",
    "* x : [1,10]\n",
    "\n",
    "* f(x)\n",
    "\n",
    "* f(1) -> 13 f(2) -> 19 ... ..\n",
    "\n",
    "* y = f(x)\n",
    "\n",
    "* f: x^2 x y 1 1 2 4 3 9 4 16\n",
    "\n",
    "* map( function, Iterable )"
   ]
  },
  {
   "cell_type": "code",
   "execution_count": 4,
   "metadata": {},
   "outputs": [
    {
     "data": {
      "text/plain": [
       "1"
      ]
     },
     "execution_count": 4,
     "metadata": {},
     "output_type": "execute_result"
    }
   ],
   "source": [
    "#return a ** n\n",
    "\n",
    "def power(a,n):\n",
    "    p=a**n\n",
    "    return p\n",
    "power(5,0)\n",
    "\n",
    "\n"
   ]
  },
  {
   "cell_type": "code",
   "execution_count": 6,
   "metadata": {},
   "outputs": [
    {
     "data": {
      "text/plain": [
       "1"
      ]
     },
     "execution_count": 6,
     "metadata": {},
     "output_type": "execute_result"
    }
   ],
   "source": [
    "def recursivePower(a,n):\n",
    "    if n==0:\n",
    "        return 1\n",
    "    else:\n",
    "        return a*recursivepower(a,n-1)\n",
    "    \n",
    "recursivePower(5,0)\n",
    "    "
   ]
  },
  {
   "cell_type": "code",
   "execution_count": 8,
   "metadata": {},
   "outputs": [
    {
     "data": {
      "text/plain": [
       "[0, 1, 8, 27, 64]"
      ]
     },
     "execution_count": 8,
     "metadata": {},
     "output_type": "execute_result"
    }
   ],
   "source": [
    "def cube(n):\n",
    "    return n*n*n\n",
    "\n",
    "[cube(i) for i in range(5)]"
   ]
  },
  {
   "cell_type": "code",
   "execution_count": 10,
   "metadata": {},
   "outputs": [
    {
     "data": {
      "text/plain": [
       "[12, 34, 56]"
      ]
     },
     "execution_count": 10,
     "metadata": {},
     "output_type": "execute_result"
    }
   ],
   "source": [
    "li=['12','34','56']\n",
    "l2=list(map(int,li))\n",
    "l2"
   ]
  },
  {
   "cell_type": "code",
   "execution_count": 11,
   "metadata": {},
   "outputs": [
    {
     "data": {
      "text/plain": [
       "(1.0, 2.0, 3.0, 4.0, 5.0)"
      ]
     },
     "execution_count": 11,
     "metadata": {},
     "output_type": "execute_result"
    }
   ],
   "source": [
    "l3=[1,2,3,4,5]\n",
    "tuple(map(float,l3))"
   ]
  },
  {
   "cell_type": "markdown",
   "metadata": {},
   "source": [
    "# Filter\n",
    "* Used to check boolean values\n",
    "\n",
    "* f: x -> {T, F}\n",
    "* y C x\n",
    "\n",
    "* x y 1\n",
    "* 2 2 3 3 4 5 5"
   ]
  },
  {
   "cell_type": "code",
   "execution_count": 15,
   "metadata": {},
   "outputs": [
    {
     "data": {
      "text/plain": [
       "[1, 2, 3]"
      ]
     },
     "execution_count": 15,
     "metadata": {},
     "output_type": "execute_result"
    }
   ],
   "source": [
    " \n",
    "li = [1,2,'a','b','c',3]\n",
    "\n",
    "def isDigit(ch):\n",
    "    ch = str(ch)\n",
    "    if ch.isdigit():\n",
    "        return True\n",
    "    return False\n",
    "\n",
    "#isDigit('a')\n",
    "\n",
    "list(filter(isDigit, li))"
   ]
  },
  {
   "cell_type": "code",
   "execution_count": 37,
   "metadata": {},
   "outputs": [
    {
     "name": "stdout",
     "output_type": "stream",
     "text": [
      "[503, 509, 521, 523, 541, 547, 557, 563, 569, 571, 577, 587, 593, 599]\n"
     ]
    },
    {
     "data": {
      "text/plain": [
       "[503, 509, 521, 523, 541, 547, 557, 563, 569, 571, 577, 587, 593, 599]"
      ]
     },
     "execution_count": 37,
     "metadata": {},
     "output_type": "execute_result"
    }
   ],
   "source": [
    "# Filter all Primes in a range\n",
    "\n",
    "def primes(n):\n",
    "    if n<2:\n",
    "        return False\n",
    "    for i in range(2,n//2+1):\n",
    "        if n%i==0:\n",
    "            return False\n",
    "    return True\n",
    "    \n",
    "lb=500\n",
    "up=600\n",
    "\n",
    "# Map fails because it doesn't apply for checking conditions\n",
    "\n",
    "print(list(filter(primes,range(lb,up))))\n",
    "\n",
    "[i for i in range(lb,up+1) if primes(i)]"
   ]
  },
  {
   "cell_type": "markdown",
   "metadata": {},
   "source": [
    "##  Lambda\n",
    "* Anonymous Functions\n",
    "\n",
    "* Can be embedded into List Comprehension, Maps, Filters"
   ]
  },
  {
   "cell_type": "code",
   "execution_count": 45,
   "metadata": {},
   "outputs": [
    {
     "name": "stdout",
     "output_type": "stream",
     "text": [
      "[1, 4, 9, 16]\n",
      "[1, 3, 5, 7, 9]\n"
     ]
    }
   ],
   "source": [
    "a=lambda x:x**2\n",
    "print(list(map(a,[1,2,3,4])))\n",
    "\n",
    "print(list(filter(lambda x:x%2!=0  , [1,2,3,4,5,6,7,8,9,10])))"
   ]
  },
  {
   "cell_type": "code",
   "execution_count": 7,
   "metadata": {},
   "outputs": [
    {
     "name": "stdout",
     "output_type": "stream",
     "text": [
      "[19, 16, 43, 13, 31, 47, 8, 35, 23, 24]\n",
      "[13, 8]\n"
     ]
    }
   ],
   "source": [
    "from random import randint\n",
    "\n",
    "internal1=[randint(0,25) for i in range(10)]\n",
    "int2=[randint(0,25) for i in range(10)]\n",
    "int3=[randint(0,25) for i in range(10)]\n",
    "\n",
    "avg=list(map(lambda a,b,c:a+b+c//3  ,  internal1,int2,int3))\n",
    "print(avg)\n",
    "\n",
    "failedmarks=list(filter(lambda x:x<15,avg))\n",
    "print(failedmarks)"
   ]
  },
  {
   "cell_type": "code",
   "execution_count": null,
   "metadata": {},
   "outputs": [],
   "source": []
  },
  {
   "cell_type": "markdown",
   "metadata": {},
   "source": [
    "Applying Functional Programming to the Marks Analysis Application"
   ]
  },
  {
   "cell_type": "code",
   "execution_count": 17,
   "metadata": {},
   "outputs": [],
   "source": [
    "# Generate Marks data\n",
    "from random import randint\n",
    "\n",
    "def generateMarks(n,lb,up):\n",
    "    with open('DataFiles/studentmarks.txt','w') as f:\n",
    "        for i in range(n):\n",
    "            marks=randint(lb,up)\n",
    "            f.write(str(marks)+\"\\n\")\n",
    "    return\n",
    "\n",
    "generateMarks(10,0,100)\n",
    "            \n"
   ]
  },
  {
   "cell_type": "code",
   "execution_count": 47,
   "metadata": {},
   "outputs": [
    {
     "name": "stdout",
     "output_type": "stream",
     "text": [
      "61\n",
      "612\n"
     ]
    }
   ],
   "source": [
    "# Marks Analysis\n",
    "    # Class Average,\n",
    "    #% of Passed, Failed and Distinction\n",
    "    #Frequency of Highest & Lowest Mark.\n",
    "    \n",
    "    \n",
    "def aveg(filename):\n",
    "    s=0\n",
    "    c=0\n",
    "    with open(filename,'r') as f:\n",
    "        filedata=f.read().split()\n",
    "        for i in filedata:\n",
    "            s=s+int(i)\n",
    "            c=c+1\n",
    "        avg=s//c\n",
    "    print(avg)\n",
    "    print(s)\n",
    "    \n",
    "filename='DataFiles/studentmarks.txt'\n",
    "aveg(filename)\n",
    "    "
   ]
  },
  {
   "cell_type": "code",
   "execution_count": 46,
   "metadata": {},
   "outputs": [
    {
     "data": {
      "text/plain": [
       "61"
      ]
     },
     "execution_count": 46,
     "metadata": {},
     "output_type": "execute_result"
    }
   ],
   "source": [
    "def readFileData(filename):\n",
    "    with open(filename,'r') as f:\n",
    "        filedata=f.read().split()\n",
    "        marks=list(map(int,filedata) )\n",
    "    return marks\n",
    "\n",
    "filename='DataFiles/studentmarks.txt'\n",
    "readFileData(filename)    \n",
    " \n",
    "def aveg(filename):\n",
    "    markslist=readFileData(filename)\n",
    "    avg=sum(markslist)//len(markslist)\n",
    "    return avg\n",
    "        \n",
    "aveg(filename)"
   ]
  },
  {
   "cell_type": "code",
   "execution_count": 48,
   "metadata": {},
   "outputs": [
    {
     "data": {
      "text/plain": [
       "30.0"
      ]
     },
     "execution_count": 48,
     "metadata": {},
     "output_type": "execute_result"
    }
   ],
   "source": [
    "def failedStudents(filename):\n",
    "    markslist=readFileData(filename)\n",
    "    failedcount=len(list(filter(lambda x:x<35 , markslist)))\n",
    "    return (failedcount/len(markslist))*100\n",
    "\n",
    "\n",
    "failedStudents(filename)"
   ]
  },
  {
   "cell_type": "code",
   "execution_count": 49,
   "metadata": {},
   "outputs": [
    {
     "data": {
      "text/plain": [
       "70.0"
      ]
     },
     "execution_count": 49,
     "metadata": {},
     "output_type": "execute_result"
    }
   ],
   "source": [
    "def PassedStudents(filename):\n",
    "    return 100-failedStudents(filename)\n",
    "\n",
    "PassedStudents(filename)"
   ]
  },
  {
   "cell_type": "code",
   "execution_count": 50,
   "metadata": {},
   "outputs": [
    {
     "data": {
      "text/plain": [
       "60.0"
      ]
     },
     "execution_count": 50,
     "metadata": {},
     "output_type": "execute_result"
    }
   ],
   "source": [
    "def distinction(filename):\n",
    "    markslist=readFileData(filename)\n",
    "    dis=len(list(filter(lambda x:x>70 , markslist)))\n",
    "    return (dis/len(markslist))*100\n",
    "    \n",
    "distinction(filename)"
   ]
  },
  {
   "cell_type": "code",
   "execution_count": 44,
   "metadata": {},
   "outputs": [
    {
     "data": {
      "text/plain": [
       "1"
      ]
     },
     "execution_count": 44,
     "metadata": {},
     "output_type": "execute_result"
    }
   ],
   "source": [
    "def highestMarksFrequency(filename):\n",
    "    markslist=readFileData(filename)\n",
    "    return markslist.count(max(markslist))\n",
    "highestMarksFrequency(filename)"
   ]
  },
  {
   "cell_type": "code",
   "execution_count": 43,
   "metadata": {},
   "outputs": [
    {
     "data": {
      "text/plain": [
       "2"
      ]
     },
     "execution_count": 43,
     "metadata": {},
     "output_type": "execute_result"
    }
   ],
   "source": [
    "def lowMarksFrequency(filename):\n",
    "    markslist=readFileData(filename)\n",
    "    return markslist.count(min(markslist))\n",
    "lowMarksFrequency(filename)"
   ]
  },
  {
   "cell_type": "markdown",
   "metadata": {},
   "source": [
    "### Data Encryption\n",
    "### Key - Mapping of characters with replaced characters\n",
    "\n",
    "0 -> 4 1 -> 5 2 -> 6 3 -> 7 4 -> 8 5 -> 9 6 -> 0 7 -> 1 8 -> 2 9 -> 3\n",
    "\n",
    "0 4 1 5 2 6 .. .."
   ]
  },
  {
   "cell_type": "code",
   "execution_count": 11,
   "metadata": {},
   "outputs": [],
   "source": [
    "# Function to generate key for encryption\n",
    "\n",
    "keypath = 'DataFiles/key.txt'\n",
    "\n",
    "def generateKey(keypath):\n",
    "    with open(keypath, 'w') as f:\n",
    "        for i in range(10):\n",
    "            if i < 6:\n",
    "                f.write(str(i)+ ' ' + str(i+4)+'\\n')\n",
    "            else:\n",
    "                f.write(str(i)+ ' ' +str(i-6)+'\\n')\n",
    "    return\n",
    "generateKey(keypath)"
   ]
  },
  {
   "cell_type": "code",
   "execution_count": 10,
   "metadata": {},
   "outputs": [],
   "source": [
    "# Function to generate key for encryption\n",
    "\n",
    "keyfile='DataFiles/key.txt'\n",
    "def dictKeyFile(keyfile):\n",
    "    key={}\n",
    "    with open(keyfile,'r') as f:\n",
    "        for line in f:\n",
    "            line=line.split()\n",
    "            key[line[0]]=line[1]\n",
    "    return key\n",
    "#dictKeyFile(keyfile)\n",
    "\n",
    "\n",
    "def encryptMarksData(datafile, keyfile):\n",
    "    #construct a dictionary for key data\n",
    "    key = dictKeyFile(keyfile)\n",
    "    with open(datafile, 'r') as f:\n",
    "        filedata = f.read().split('\\n')\n",
    "    with open('DataFiles/encryptedMarks.txt', 'w') as f:\n",
    "        for mark in filedata:\n",
    "            line = ''\n",
    "            for n in mark:\n",
    "                line += key[n]\n",
    "            f.write(line+'\\n')\n",
    "    return\n",
    "datafile = 'DataFiles/marks.txt'\n",
    "encryptMarksData(datafile, keyfile)"
   ]
  },
  {
   "cell_type": "code",
   "execution_count": 13,
   "metadata": {},
   "outputs": [
    {
     "name": "stdout",
     "output_type": "stream",
     "text": [
      "0.016202400000111084\n"
     ]
    }
   ],
   "source": [
    "# Function to decrypt an encrypted file\n",
    "\n",
    "\n",
    "keyfile='DataFiles/key.txt'\n",
    "\n",
    "def decryptMarksData(encryptedfile, keyfile):\n",
    "    key = dictKeyFile(keyfile)\n",
    "    newkey = {}\n",
    "    for key, value in key.items():\n",
    "        newkey[value] = key\n",
    "    \n",
    "    with open(encryptedfile, 'r') as f:\n",
    "        encrypteddata = f.read().split('\\n')\n",
    "    with open('DataFiles/decryptedMarks.txt', 'w') as f:\n",
    "        \n",
    "        for encryptedmark in encrypteddata:\n",
    "            line = ''\n",
    "            for n in encryptedmark:\n",
    "                line += newkey[n]\n",
    "            f.write(line + '\\n')\n",
    "    return\n",
    "\n",
    "encryptedfile = 'DataFiles/encryptedMarks.txt'\n",
    "import timeit\n",
    "st = timeit.default_timer()\n",
    "decryptMarksData(encryptedfile, keyfile) \n",
    "print(timeit.default_timer()-st)"
   ]
  },
  {
   "cell_type": "code",
   "execution_count": 15,
   "metadata": {},
   "outputs": [
    {
     "data": {
      "text/plain": [
       "{'0', '1', '2', '3', '4', '5', '6', '7', '8', '9'}"
      ]
     },
     "execution_count": 15,
     "metadata": {},
     "output_type": "execute_result"
    }
   ],
   "source": [
    "# Comprehensions\n",
    "keyfile = 'DataFiles/key.txt'\n",
    "key = dictKeyFile(keyfile)\n",
    "\n",
    "evenkeys = {item for item in key}\n",
    "evenkeys\n"
   ]
  }
 ],
 "metadata": {
  "kernelspec": {
   "display_name": "Python 3",
   "language": "python",
   "name": "python3"
  },
  "language_info": {
   "codemirror_mode": {
    "name": "ipython",
    "version": 3
   },
   "file_extension": ".py",
   "mimetype": "text/x-python",
   "name": "python",
   "nbconvert_exporter": "python",
   "pygments_lexer": "ipython3",
   "version": "3.7.3"
  }
 },
 "nbformat": 4,
 "nbformat_minor": 2
}
